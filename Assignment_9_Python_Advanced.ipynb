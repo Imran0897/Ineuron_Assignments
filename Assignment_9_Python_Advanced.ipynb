{
  "nbformat": 4,
  "nbformat_minor": 0,
  "metadata": {
    "colab": {
      "provenance": [],
      "authorship_tag": "ABX9TyOo6vl6mZH4leoZ+TzwxhsY",
      "include_colab_link": true
    },
    "kernelspec": {
      "name": "python3",
      "display_name": "Python 3"
    },
    "language_info": {
      "name": "python"
    }
  },
  "cells": [
    {
      "cell_type": "markdown",
      "metadata": {
        "id": "view-in-github",
        "colab_type": "text"
      },
      "source": [
        "<a href=\"https://colab.research.google.com/github/Imran0897/Ineuron_Assignments/blob/main/Assignment_9_Python_Advanced.ipynb\" target=\"_parent\"><img src=\"https://colab.research.google.com/assets/colab-badge.svg\" alt=\"Open In Colab\"/></a>"
      ]
    },
    {
      "cell_type": "markdown",
      "source": [
        "Q1. In Python 3.X, what are the names and functions of string object types?\n",
        "\n",
        "Ans. In Python 3.X and later, String objects has bulit in class named as \"str\" and it is used to store characters in memory in encoded format."
      ],
      "metadata": {
        "id": "4cV3R0y78MCD"
      }
    },
    {
      "cell_type": "markdown",
      "source": [
        "Q2. How do the string forms in Python 3.X vary in terms of operations?\n",
        "\n",
        "Ans. Python supports ASCII as a subset of Unicode. The default encoding of characters in Python is UTF-8 (Unicode Transformation Format - 8-bit).ASCII is really a 7-bit character set; it is mapped to 8-bit bytes by setting the high bit to zero. Thus, ASCII characters are unchanged in UTF-8. A non-zero high bit indicates that a character composed of multiple bytes."
      ],
      "metadata": {
        "id": "fI-g_prIQyas"
      }
    },
    {
      "cell_type": "markdown",
      "source": [
        "Q3. In 3.X, how do you put non-ASCII Unicode characters in a string?\n",
        "\n",
        "Ans. As we know, there are only 127 ASCII characters in ascii table. It stores symbols, letters, whitespace characters, non printable characters, which are very less. So Python 3 has adopted unicode encoding of strings. for non ASCII u can get any value more than 127."
      ],
      "metadata": {
        "id": "IX7XzXSGQ51M"
      }
    },
    {
      "cell_type": "markdown",
      "source": [
        "Q4. In Python 3.X, what are the key differences between text-mode and binary-mode files?\n",
        "\n",
        "Ans. Files opened in binary mode (appending 'b' to the mode argument) return contents as bytes objects without any decoding. In text mode (the default, or when 't' is appended to the mode argument), the contents of the file are returned as strings, the bytes having been first decoded using a platform-dependent encoding or using the specified encoding if given."
      ],
      "metadata": {
        "id": "Xtng-Si1Q_IL"
      }
    },
    {
      "cell_type": "markdown",
      "source": [
        "Q5. How can you interpret a Unicode text file containing text encoded in a different encoding than\n",
        "your platform&#39;s default?\n",
        "\n",
        "Ans While reading file, we can specify the encoding such as(utf16, utf32), so the file will be decoded according to that encoding and results are returned to the user."
      ],
      "metadata": {
        "id": "rlXCQ29BRD4t"
      }
    },
    {
      "cell_type": "code",
      "source": [
        "text = \"this is sample text file for understanding encoding\"\n",
        "f = open('sample.txt','w', encoding='utf16')\n",
        "f.write(text)\n",
        "f.close()\n",
        "\n",
        "f = open('sample.txt','r', encoding='utf16')\n",
        "print(f.read())"
      ],
      "metadata": {
        "id": "ZG7k0AD2RWbW"
      },
      "execution_count": null,
      "outputs": []
    },
    {
      "cell_type": "markdown",
      "source": [
        "Q6. What is the best way to make a Unicode text file in a particular encoding format?\n",
        "\n",
        "Ans. You should either use normal open() and encode the unicode yourself, or (usually a better idea) use codecs.open() and not encode the data yourself.\n",
        "\n"
      ],
      "metadata": {
        "id": "MbWt4ajXRXBj"
      }
    },
    {
      "cell_type": "markdown",
      "source": [
        "Q7. What qualifies ASCII text as a form of Unicode text?\n",
        "\n",
        "Ans. The first 128 Unicode code points represent the equivalent ASCII characters. They have the same meaning in both ASCII and unicode. Since UTF-8 encodes each of these characters with a single byte, any ASCII text is also a UTF-8 text. Unicode is a superset of ASCII."
      ],
      "metadata": {
        "id": "bsJd0ivrRvNT"
      }
    },
    {
      "cell_type": "markdown",
      "source": [
        "Q8. How much of an effect does the change in string types in Python 3.X have on your code?\n",
        "\n",
        "Ans. In Python 3.X and later, there is only one string type that is unicode. So no effect on the code."
      ],
      "metadata": {
        "id": "K95wiqcqR1NT"
      }
    }
  ]
}