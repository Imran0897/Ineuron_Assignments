{
  "nbformat": 4,
  "nbformat_minor": 0,
  "metadata": {
    "colab": {
      "provenance": [],
      "authorship_tag": "ABX9TyNBF0cdi9PaQO+of9FID/H1",
      "include_colab_link": true
    },
    "kernelspec": {
      "name": "python3",
      "display_name": "Python 3"
    },
    "language_info": {
      "name": "python"
    }
  },
  "cells": [
    {
      "cell_type": "markdown",
      "metadata": {
        "id": "view-in-github",
        "colab_type": "text"
      },
      "source": [
        "<a href=\"https://colab.research.google.com/github/Imran0897/Ineuron_Assignments/blob/main/Programming_Assignment_19.ipynb\" target=\"_parent\"><img src=\"https://colab.research.google.com/assets/colab-badge.svg\" alt=\"Open In Colab\"/></a>"
      ]
    },
    {
      "cell_type": "code",
      "execution_count": 1,
      "metadata": {
        "id": "WsGaTB_tHGD6"
      },
      "outputs": [],
      "source": [
        "#1"
      ]
    },
    {
      "cell_type": "code",
      "source": [
        "def dbl_chr(s):\n",
        "\n",
        "  a = \"\"\n",
        "  for i in s:\n",
        "    a = a+i*2\n",
        "  return a"
      ],
      "metadata": {
        "id": "e7FVW8tXHalv"
      },
      "execution_count": 2,
      "outputs": []
    },
    {
      "cell_type": "code",
      "source": [
        "#2."
      ],
      "metadata": {
        "id": "rABnpxLOIH5V"
      },
      "execution_count": 4,
      "outputs": []
    },
    {
      "cell_type": "code",
      "source": [
        "def reverse(n):\n",
        "  if n == True:\n",
        "    return False\n",
        "  elif n == False:\n",
        "    return False\n",
        "  else:\n",
        "    return \"Boolyean expected\""
      ],
      "metadata": {
        "id": "7X5sRlEXILn2"
      },
      "execution_count": 9,
      "outputs": []
    },
    {
      "cell_type": "code",
      "source": [
        "reverse(5)"
      ],
      "metadata": {
        "colab": {
          "base_uri": "https://localhost:8080/",
          "height": 35
        },
        "id": "WtXvxB4oI7NW",
        "outputId": "32b3fd5a-1284-468e-bcf0-11db90a792ea"
      },
      "execution_count": 12,
      "outputs": [
        {
          "output_type": "execute_result",
          "data": {
            "text/plain": [
              "'Boolyean expected'"
            ],
            "application/vnd.google.colaboratory.intrinsic+json": {
              "type": "string"
            }
          },
          "metadata": {},
          "execution_count": 12
        }
      ]
    },
    {
      "cell_type": "code",
      "source": [
        "#3."
      ],
      "metadata": {
        "id": "6nDT_g-BI9Gh"
      },
      "execution_count": 13,
      "outputs": []
    },
    {
      "cell_type": "code",
      "source": [
        "def num_layers(n):\n",
        "    thickness = 0.5\n",
        "    for i in range(n):\n",
        "        thickness= thickness*  2\n",
        "    \n",
        "    return str(thickness / 1000)+'m' "
      ],
      "metadata": {
        "id": "juV0V23wJS7m"
      },
      "execution_count": 14,
      "outputs": []
    },
    {
      "cell_type": "code",
      "source": [
        "num_layers(21)"
      ],
      "metadata": {
        "colab": {
          "base_uri": "https://localhost:8080/",
          "height": 35
        },
        "id": "kYW9a_60JqSF",
        "outputId": "671caa22-d07d-4167-d432-4377293496ad"
      },
      "execution_count": 16,
      "outputs": [
        {
          "output_type": "execute_result",
          "data": {
            "text/plain": [
              "'1048.576m'"
            ],
            "application/vnd.google.colaboratory.intrinsic+json": {
              "type": "string"
            }
          },
          "metadata": {},
          "execution_count": 16
        }
      ]
    },
    {
      "cell_type": "code",
      "source": [
        "#4."
      ],
      "metadata": {
        "id": "YJmuQNj4Jslc"
      },
      "execution_count": 17,
      "outputs": []
    },
    {
      "cell_type": "code",
      "source": [
        "def ind_cap(s):\n",
        "  l1 =  []\n",
        "  \n",
        "  for i in s:\n",
        "    if i.isupper() ==True:\n",
        "      l1.append(s.index(i))\n",
        "  return l1\n"
      ],
      "metadata": {
        "id": "v3XuZL2xJyZt"
      },
      "execution_count": 33,
      "outputs": []
    },
    {
      "cell_type": "code",
      "source": [
        "ind_cap('eDaBiT')"
      ],
      "metadata": {
        "colab": {
          "base_uri": "https://localhost:8080/"
        },
        "id": "PzzxrlueKQQ9",
        "outputId": "71a3af15-f6ae-49ee-f8f2-5205847ac744"
      },
      "execution_count": 34,
      "outputs": [
        {
          "output_type": "execute_result",
          "data": {
            "text/plain": [
              "[1, 3, 5]"
            ]
          },
          "metadata": {},
          "execution_count": 34
        }
      ]
    },
    {
      "cell_type": "code",
      "source": [
        "#5."
      ],
      "metadata": {
        "id": "cJmUGzcCKtre"
      },
      "execution_count": 35,
      "outputs": []
    },
    {
      "cell_type": "code",
      "source": [
        "def find_even_nums(n):\n",
        "    even =[x for x in range(2,n+1) if x % 2 == 0]\n",
        "    return even\n"
      ],
      "metadata": {
        "id": "dvf45q-5Lgdm"
      },
      "execution_count": 36,
      "outputs": []
    },
    {
      "cell_type": "code",
      "source": [
        "find_even_nums(8)"
      ],
      "metadata": {
        "colab": {
          "base_uri": "https://localhost:8080/"
        },
        "id": "jTE9bphdL23z",
        "outputId": "0f9133e4-0353-471b-dd2c-1fa162ed1ba8"
      },
      "execution_count": 37,
      "outputs": [
        {
          "output_type": "execute_result",
          "data": {
            "text/plain": [
              "[2, 4, 6, 8]"
            ]
          },
          "metadata": {},
          "execution_count": 37
        }
      ]
    },
    {
      "cell_type": "code",
      "source": [],
      "metadata": {
        "id": "c905zD1AL8m9"
      },
      "execution_count": null,
      "outputs": []
    }
  ]
}