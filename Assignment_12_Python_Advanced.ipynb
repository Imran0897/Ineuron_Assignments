{
  "nbformat": 4,
  "nbformat_minor": 0,
  "metadata": {
    "colab": {
      "provenance": [],
      "authorship_tag": "ABX9TyPnz1o3WokQXyp1daPDgqHH",
      "include_colab_link": true
    },
    "kernelspec": {
      "name": "python3",
      "display_name": "Python 3"
    },
    "language_info": {
      "name": "python"
    }
  },
  "cells": [
    {
      "cell_type": "markdown",
      "metadata": {
        "id": "view-in-github",
        "colab_type": "text"
      },
      "source": [
        "<a href=\"https://colab.research.google.com/github/Imran0897/Ineuron_Assignments/blob/main/Assignment_12_Python_Advanced.ipynb\" target=\"_parent\"><img src=\"https://colab.research.google.com/assets/colab-badge.svg\" alt=\"Open In Colab\"/></a>"
      ]
    },
    {
      "cell_type": "markdown",
      "source": [
        "Q1. Does assigning a value to a string&#39;s indexed character violate Python&#39;s string immutability?\n",
        "\n",
        "Ans. Yes. It is beacause of string immutability that means we can not change the characters in string by assigning new values to indexes."
      ],
      "metadata": {
        "id": "P6dB-XiwcbsX"
      }
    },
    {
      "cell_type": "markdown",
      "source": [
        "Q2. Does using the += operator to concatenate strings violate Python's string immutability? Why or why not?\n",
        "\n",
        "Ans. No. When we concatenate string, we assign new value to the same string variable. We are not altering string based on the indexes, so it won't violate Python's string immutability"
      ],
      "metadata": {
        "id": "_bUXQ_LMckXs"
      }
    },
    {
      "cell_type": "markdown",
      "source": [
        "Q3. In Python, how many different ways are there to index a character?\n",
        "\n",
        "Ans. There are two methods for this, find() and index() both will return the lowest index at which char is found."
      ],
      "metadata": {
        "id": "Q9BMxPT0c1ct"
      }
    },
    {
      "cell_type": "markdown",
      "source": [
        "Q4. What is the relationship between indexing and slicing?\n",
        "\n",
        "Ans. Indexing is a way to access an element of a string by its position or index. Slicing is accessing only part od a string and not a full string. String slicing is done by using index."
      ],
      "metadata": {
        "id": "ifFwxgWfc5IW"
      }
    },
    {
      "cell_type": "code",
      "source": [
        "s = 'ineuron'\n",
        "\n",
        "print(s[1:4])\n",
        "print(s[-1:2:-1])"
      ],
      "metadata": {
        "colab": {
          "base_uri": "https://localhost:8080/"
        },
        "id": "dsoTDfGfdCz7",
        "outputId": "9362ff9f-22c4-48b5-ad91-89576bdd9da3"
      },
      "execution_count": 1,
      "outputs": [
        {
          "output_type": "stream",
          "name": "stdout",
          "text": [
            "neu\n",
            "noru\n"
          ]
        }
      ]
    },
    {
      "cell_type": "markdown",
      "source": [
        "Q5. What is an indexed character&#39;s exact data type? What is the data form of a slicing-generated\n",
        "substring?\n",
        "\n",
        "Ans. for both cases, it is 'str' type."
      ],
      "metadata": {
        "id": "uf_XiaFTdFZs"
      }
    },
    {
      "cell_type": "markdown",
      "source": [
        "Q6. What is the relationship between string and character &quot;types&quot; in Python?\n",
        "\n",
        "Ans. \n",
        "In Python, There is no char data type, even a single character enclosed in doubble quotes is considered as str."
      ],
      "metadata": {
        "id": "ZV7T7nPEdMG8"
      }
    },
    {
      "cell_type": "markdown",
      "source": [
        "Q7. Identify at least two operators and one method that allow you to combine one or more smaller\n",
        "strings to create a larger string.\n",
        "\n",
        "Ans. \n",
        "\"+\" will concatenate two strings and \"*\" will repeat the string number of times mentioned. We can also use join() method for getting a larger string"
      ],
      "metadata": {
        "id": "AS2THZ0DdRmc"
      }
    },
    {
      "cell_type": "code",
      "source": [
        "print(\"Hello!\" + 'How are you?')\n",
        "\n",
        "print(\"Rain\" * 4)\n",
        "\n",
        "l = ['How', 'are', 'you?']\n",
        "\n",
        "s = ' '.join(l)\n",
        "\n",
        "print(s)"
      ],
      "metadata": {
        "colab": {
          "base_uri": "https://localhost:8080/"
        },
        "id": "jcEJMrFddaFs",
        "outputId": "38bbe25b-e03f-4c96-9f16-41349ecd465b"
      },
      "execution_count": 2,
      "outputs": [
        {
          "output_type": "stream",
          "name": "stdout",
          "text": [
            "Hello!How are you?\n",
            "RainRainRainRain\n",
            "How are you?\n"
          ]
        }
      ]
    },
    {
      "cell_type": "markdown",
      "source": [
        "Q8. What is the benefit of first checking the target string with in or not in before using the index\n",
        "method to find a substring?\n",
        "\n",
        "Ans. Normally, when we use index() method it will return the starting index of a substring, if substring is present in a string. But the major concern is if a substring is not present in a string, index() will return a ValueError. To avoid this, we can first check the target string with in or not in before using the index method to find a substring."
      ],
      "metadata": {
        "id": "yZjrIuWYdeA7"
      }
    },
    {
      "cell_type": "code",
      "source": [
        "s = 'abcdefghijk'\n",
        "\n",
        "s1 = 'xyz'\n",
        "\n",
        "if s1 in s:\n",
        "    print(s.index(s1))\n",
        "\n",
        "s.index(s1)"
      ],
      "metadata": {
        "colab": {
          "base_uri": "https://localhost:8080/",
          "height": 200
        },
        "id": "NyV3xJA-di67",
        "outputId": "1ab280e9-087a-466b-aebf-84f13346111d"
      },
      "execution_count": 3,
      "outputs": [
        {
          "output_type": "error",
          "ename": "ValueError",
          "evalue": "ignored",
          "traceback": [
            "\u001b[0;31m---------------------------------------------------------------------------\u001b[0m",
            "\u001b[0;31mValueError\u001b[0m                                Traceback (most recent call last)",
            "\u001b[0;32m<ipython-input-3-e04554b5c0f8>\u001b[0m in \u001b[0;36m<cell line: 8>\u001b[0;34m()\u001b[0m\n\u001b[1;32m      6\u001b[0m     \u001b[0mprint\u001b[0m\u001b[0;34m(\u001b[0m\u001b[0ms\u001b[0m\u001b[0;34m.\u001b[0m\u001b[0mindex\u001b[0m\u001b[0;34m(\u001b[0m\u001b[0ms1\u001b[0m\u001b[0;34m)\u001b[0m\u001b[0;34m)\u001b[0m\u001b[0;34m\u001b[0m\u001b[0;34m\u001b[0m\u001b[0m\n\u001b[1;32m      7\u001b[0m \u001b[0;34m\u001b[0m\u001b[0m\n\u001b[0;32m----> 8\u001b[0;31m \u001b[0ms\u001b[0m\u001b[0;34m.\u001b[0m\u001b[0mindex\u001b[0m\u001b[0;34m(\u001b[0m\u001b[0ms1\u001b[0m\u001b[0;34m)\u001b[0m\u001b[0;34m\u001b[0m\u001b[0;34m\u001b[0m\u001b[0m\n\u001b[0m",
            "\u001b[0;31mValueError\u001b[0m: substring not found"
          ]
        }
      ]
    },
    {
      "cell_type": "markdown",
      "source": [
        "Q9. Which operators and built-in string methods produce simple Boolean (true/false) results?\n",
        "\n",
        "Ans. Operators:\n",
        "\n",
        "    1. Comparison operators : (== ,!= ,< ,> ,<=, >=) \n",
        "    2. Logical Operators : (and, or, not)\n",
        "    3. Identity Operators : (is , is not)\n",
        "    4. Membership Operators : (in, not in)\n",
        "\n",
        "String methods:\n",
        "\n",
        "    1. endswith() : Returns true if the string ends with the specified value \n",
        "    2. isalnum()\tReturns True if all characters in the string are alphanumeric        \n",
        "    3. isalpha()\tReturns True if all characters in the string are in the alphabet        \n",
        "    4. isdecimal()\tReturns True if all characters in the string are decimals       \n",
        "    5. isdigit()\tReturns True if all characters in the string are digits        \n",
        "    6. isidentifier()\tReturns True if the string is an identifier        \n",
        "    7. islower()\tReturns True if all characters in the string are lower case        \n",
        "    8. isnumeric()\tReturns True if all characters in the string are numeric        \n",
        "    9. isprintable()\tReturns True if all characters in the string are printable        \n",
        "    10. isspace()\tReturns True if all characters in the string are whitespaces        \n",
        "    11. istitle()\tReturns True if the string follows the rules of a title        \n",
        "    12. isupper()\tReturns True if all characters in the string are upper case"
      ],
      "metadata": {
        "id": "omn8cT5Ado5E"
      }
    }
  ]
}