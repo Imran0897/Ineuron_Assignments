{
  "nbformat": 4,
  "nbformat_minor": 0,
  "metadata": {
    "colab": {
      "provenance": [],
      "authorship_tag": "ABX9TyOEnQdXbwF416ztZpIAA0N9",
      "include_colab_link": true
    },
    "kernelspec": {
      "name": "python3",
      "display_name": "Python 3"
    },
    "language_info": {
      "name": "python"
    }
  },
  "cells": [
    {
      "cell_type": "markdown",
      "metadata": {
        "id": "view-in-github",
        "colab_type": "text"
      },
      "source": [
        "<a href=\"https://colab.research.google.com/github/Imran0897/Ineuron_Assignments/blob/main/Programming_Assignment_15.ipynb\" target=\"_parent\"><img src=\"https://colab.research.google.com/assets/colab-badge.svg\" alt=\"Open In Colab\"/></a>"
      ]
    },
    {
      "cell_type": "code",
      "execution_count": 1,
      "metadata": {
        "id": "_IourqS3rowh"
      },
      "outputs": [],
      "source": [
        "#1."
      ]
    },
    {
      "cell_type": "code",
      "source": [
        "def div7and5(n):\n",
        "  for i in range(0,n+1):\n",
        "    if i %7 == 0 and i%5==0:\n",
        "      yield i\n",
        "\n",
        "n = int(input())\n",
        "for i in div7and5(n):\n",
        "  print(i)"
      ],
      "metadata": {
        "colab": {
          "base_uri": "https://localhost:8080/"
        },
        "id": "oe5GDsXyr2UT",
        "outputId": "8d72ebab-bcc1-4bf7-8203-08c68d238ad4"
      },
      "execution_count": 5,
      "outputs": [
        {
          "output_type": "stream",
          "name": "stdout",
          "text": [
            "100\n",
            "0\n",
            "35\n",
            "70\n"
          ]
        }
      ]
    },
    {
      "cell_type": "code",
      "source": [
        "#2."
      ],
      "metadata": {
        "id": "YTkiViBdt5N4"
      },
      "execution_count": 6,
      "outputs": []
    },
    {
      "cell_type": "code",
      "source": [
        "def even(n):\n",
        "  for i in range(0,n+1):\n",
        "    if i %2 == 0:\n",
        "      yield i\n",
        "\n",
        "n = int(input())\n",
        "for i in even(n):\n",
        "  print(i)"
      ],
      "metadata": {
        "colab": {
          "base_uri": "https://localhost:8080/"
        },
        "id": "rQQPj3PFufaR",
        "outputId": "2b39a500-adf7-45b5-a7f3-b9917aaefc66"
      },
      "execution_count": 7,
      "outputs": [
        {
          "output_type": "stream",
          "name": "stdout",
          "text": [
            "10\n",
            "0\n",
            "2\n",
            "4\n",
            "6\n",
            "8\n",
            "10\n"
          ]
        }
      ]
    },
    {
      "cell_type": "code",
      "source": [
        "#3."
      ],
      "metadata": {
        "id": "e-XYqFZeut_o"
      },
      "execution_count": 8,
      "outputs": []
    },
    {
      "cell_type": "code",
      "source": [
        "n = int(input())\n",
        "x = [0,1]\n",
        "fibs = x[0:2] + [x.append(x[-1] + x[-2]) or x[-1] for i in range(n-1)]\n",
        "\n",
        "for i in fibs:\n",
        "  print(i , end=\" \")\n"
      ],
      "metadata": {
        "colab": {
          "base_uri": "https://localhost:8080/"
        },
        "id": "GPaFOOOTu53q",
        "outputId": "e7a53c0c-98fc-4aaa-b729-9405aa7b6de5"
      },
      "execution_count": 18,
      "outputs": [
        {
          "output_type": "stream",
          "name": "stdout",
          "text": [
            "7\n",
            "0 1 1 2 3 5 8 13 "
          ]
        }
      ]
    },
    {
      "cell_type": "code",
      "source": [
        "#4."
      ],
      "metadata": {
        "id": "9uBfn0UJva_G"
      },
      "execution_count": 19,
      "outputs": []
    },
    {
      "cell_type": "code",
      "source": [
        "email = input()\n",
        "\n",
        "sent = email.split('@')\n",
        "print(sent[0])"
      ],
      "metadata": {
        "colab": {
          "base_uri": "https://localhost:8080/"
        },
        "id": "NXe4k0opx5XU",
        "outputId": "38637014-a0c8-4503-92c8-cc2109e0a018"
      },
      "execution_count": 20,
      "outputs": [
        {
          "output_type": "stream",
          "name": "stdout",
          "text": [
            "john@google.com\n",
            "john\n"
          ]
        }
      ]
    },
    {
      "cell_type": "code",
      "source": [
        "#5."
      ],
      "metadata": {
        "id": "t_inb7Y_yaio"
      },
      "execution_count": 21,
      "outputs": []
    },
    {
      "cell_type": "code",
      "source": [
        "class Shape():\n",
        "  def area(self):\n",
        "    print(\"area\",0)\n",
        "\n",
        "\n",
        "class Sqaure(Shape):\n",
        "  def __init__(self , length):\n",
        "    self.length = length\n",
        "\n",
        "  def area(self):\n",
        "    print(\"square area\", self.length**2)\n"
      ],
      "metadata": {
        "id": "eNNll7hJzegV"
      },
      "execution_count": 25,
      "outputs": []
    },
    {
      "cell_type": "code",
      "source": [],
      "metadata": {
        "id": "nniyBuJV0rwv"
      },
      "execution_count": null,
      "outputs": []
    }
  ]
}