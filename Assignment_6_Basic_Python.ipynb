{
  "nbformat": 4,
  "nbformat_minor": 0,
  "metadata": {
    "colab": {
      "provenance": [],
      "authorship_tag": "ABX9TyMbvr3IhVApCtYGimcBiKwW",
      "include_colab_link": true
    },
    "kernelspec": {
      "name": "python3",
      "display_name": "Python 3"
    },
    "language_info": {
      "name": "python"
    }
  },
  "cells": [
    {
      "cell_type": "markdown",
      "metadata": {
        "id": "view-in-github",
        "colab_type": "text"
      },
      "source": [
        "<a href=\"https://colab.research.google.com/github/Imran0897/Ineuron_Assignments/blob/main/Assignment_6_Basic_Python.ipynb\" target=\"_parent\"><img src=\"https://colab.research.google.com/assets/colab-badge.svg\" alt=\"Open In Colab\"/></a>"
      ]
    },
    {
      "cell_type": "markdown",
      "source": [
        "1. What are escape characters, and how do you use them?\n",
        "\n",
        "Ans. Escape characters represent characters in string values that would otherwise be difficult or impossible to type into code. In Python strings, the backslash \"\" is a special character, also called the \"escape\" character. It is used in representing certain whitespace characters: \"\\t\" is a tab, \"\\n\" is a newline, and \"\\r\" is a carriage return."
      ],
      "metadata": {
        "id": "nf2-c-7gC_2O"
      }
    },
    {
      "cell_type": "markdown",
      "source": [
        "2. What do the escape characters n and t stand for?\n",
        "\n",
        "Ans. \\n is a newline; \\t is a tab."
      ],
      "metadata": {
        "id": "uwb3lZwyDVYO"
      }
    },
    {
      "cell_type": "markdown",
      "source": [
        "3. What is the way to include backslash characters in a string?\n",
        "\n",
        "Ans. The \\ escape character will represent a backslash character."
      ],
      "metadata": {
        "id": "Yv2mBrYNDZ6G"
      }
    },
    {
      "cell_type": "markdown",
      "source": [
        "4. The string &quot;Howl&#39;s Moving Castle&quot; is a correct value. Why isn&#39;t the single quote character in the\n",
        "word Howl&#39;s not escaped a problem?\n",
        "\n",
        "Ans. The single quote in Howl's is fine because we have used double quotes to mark the beginning and end of the string."
      ],
      "metadata": {
        "id": "_S7AZidCDgR-"
      }
    },
    {
      "cell_type": "markdown",
      "source": [
        "5. How do you write a string of newlines if you don&#39;t want to use the n character?\n",
        "\n",
        "Ans. Multiline strings allow you to use newlines in strings without the \\n escape character."
      ],
      "metadata": {
        "id": "Jaz-oMsADpA-"
      }
    },
    {
      "cell_type": "markdown",
      "source": [
        "6. What are the values of the given expressions?\n",
        "\n",
        "&#39;Hello, world!&#39;[1]\n",
        "\n",
        "&#39;Hello, world!&#39;[0:5]\n",
        "\n",
        "&#39;Hello, world!&#39;[:5]\n",
        "\n",
        "&#39;Hello, world!&#39;[3:]\n",
        "\n",
        "Ans. "
      ],
      "metadata": {
        "id": "vlMhiSq2Dtyn"
      }
    },
    {
      "cell_type": "code",
      "source": [
        " print('Hello, world!'[1])\n",
        " print('Hello, world!'[0:5])\n",
        " print('Hello, world!'[:5])\n",
        " print('Hello, world!'[3:])"
      ],
      "metadata": {
        "colab": {
          "base_uri": "https://localhost:8080/"
        },
        "id": "IbqdgT1BD6I-",
        "outputId": "bac868f9-9ea2-4aaf-d5c8-b99f46fb7668"
      },
      "execution_count": 3,
      "outputs": [
        {
          "output_type": "stream",
          "name": "stdout",
          "text": [
            "e\n",
            "Hello\n",
            "Hello\n",
            "lo, world!\n"
          ]
        }
      ]
    },
    {
      "cell_type": "markdown",
      "source": [
        "7. What are the values of the following expressions?\n",
        "\n",
        "&#39;Remember, remember, the fifth of July.&#39;.split()\n",
        "\n",
        "&#39;-&#39;.join(&#39;There can only one.&#39;.split())\n",
        "\n",
        "Ans. "
      ],
      "metadata": {
        "id": "41BlGSqQEDYQ"
      }
    },
    {
      "cell_type": "code",
      "source": [
        "'Remember, remember, the fifth of July.'.split()"
      ],
      "metadata": {
        "colab": {
          "base_uri": "https://localhost:8080/"
        },
        "id": "l-HaRsiFEdXQ",
        "outputId": "614240b5-1997-448d-d3ae-d8de44734413"
      },
      "execution_count": 4,
      "outputs": [
        {
          "output_type": "execute_result",
          "data": {
            "text/plain": [
              "['Remember,', 'remember,', 'the', 'fifth', 'of', 'July.']"
            ]
          },
          "metadata": {},
          "execution_count": 4
        }
      ]
    },
    {
      "cell_type": "code",
      "source": [
        "'-'.join('There can only one.'.split())"
      ],
      "metadata": {
        "colab": {
          "base_uri": "https://localhost:8080/",
          "height": 35
        },
        "id": "wzhqa8sREfUN",
        "outputId": "058ed27c-e060-4714-9454-e4c54d28293d"
      },
      "execution_count": 5,
      "outputs": [
        {
          "output_type": "execute_result",
          "data": {
            "text/plain": [
              "'There-can-only-one.'"
            ],
            "application/vnd.google.colaboratory.intrinsic+json": {
              "type": "string"
            }
          },
          "metadata": {},
          "execution_count": 5
        }
      ]
    },
    {
      "cell_type": "markdown",
      "source": [
        "9. What are the methods for right-justifying, left-justifying, and centering a string?\n",
        "\n",
        "Ans. The rjust(), ljust(), and center() string methods, respectively"
      ],
      "metadata": {
        "id": "tPCzUnkZE5cX"
      }
    },
    {
      "cell_type": "markdown",
      "source": [
        "10. What is the best way to remove whitespace characters from the start or end?\n",
        "\n",
        "Ans. The lstrip() and rstrip() methods remove whitespace from the left and right ends of a string, respectively."
      ],
      "metadata": {
        "id": "Y0WQscPZE-yt"
      }
    }
  ]
}