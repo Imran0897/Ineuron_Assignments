{
  "nbformat": 4,
  "nbformat_minor": 0,
  "metadata": {
    "colab": {
      "provenance": [],
      "authorship_tag": "ABX9TyMItwocCnEH/cswRumlhgZ8",
      "include_colab_link": true
    },
    "kernelspec": {
      "name": "python3",
      "display_name": "Python 3"
    },
    "language_info": {
      "name": "python"
    }
  },
  "cells": [
    {
      "cell_type": "markdown",
      "metadata": {
        "id": "view-in-github",
        "colab_type": "text"
      },
      "source": [
        "<a href=\"https://colab.research.google.com/github/Imran0897/Ineuron_Assignments/blob/main/Programming_Assignment_17.ipynb\" target=\"_parent\"><img src=\"https://colab.research.google.com/assets/colab-badge.svg\" alt=\"Open In Colab\"/></a>"
      ]
    },
    {
      "cell_type": "code",
      "execution_count": 1,
      "metadata": {
        "id": "sw_DAJdZ8X8g"
      },
      "outputs": [],
      "source": [
        "#1."
      ]
    },
    {
      "cell_type": "code",
      "source": [
        "def evenly_divisible(a,b,c):\n",
        "\n",
        "  d = 0\n",
        "  for i in range(a,b+1):\n",
        "    if i%c==0:\n",
        "      d = d+i\n",
        "  print(d)\n"
      ],
      "metadata": {
        "id": "oDHecSWl8rj9"
      },
      "execution_count": 5,
      "outputs": []
    },
    {
      "cell_type": "code",
      "source": [
        "evenly_divisible(1,10,3)"
      ],
      "metadata": {
        "colab": {
          "base_uri": "https://localhost:8080/"
        },
        "id": "IDrFV0dS9Jqm",
        "outputId": "1126208a-1f63-4b95-e03c-ce83e33174c5"
      },
      "execution_count": 7,
      "outputs": [
        {
          "output_type": "stream",
          "name": "stdout",
          "text": [
            "18\n"
          ]
        }
      ]
    },
    {
      "cell_type": "code",
      "source": [
        "#2."
      ],
      "metadata": {
        "id": "7HS_Kqlr9Nju"
      },
      "execution_count": 8,
      "outputs": []
    },
    {
      "cell_type": "code",
      "source": [
        "def correct_signs ( txt ) : \n",
        "    return eval (txt)"
      ],
      "metadata": {
        "id": "7kJXZBVN9aTY"
      },
      "execution_count": 11,
      "outputs": []
    },
    {
      "cell_type": "code",
      "source": [
        "#3."
      ],
      "metadata": {
        "id": "_KlLQHWa93W4"
      },
      "execution_count": 12,
      "outputs": []
    },
    {
      "cell_type": "code",
      "source": [
        "def vol_to_spq(a,b):\n",
        "  l = 'AEIOUaeiou'\n",
        "  for i in l:\n",
        "    a = a.replace(i,b)\n",
        "  print(a)\n",
        "\n"
      ],
      "metadata": {
        "id": "F-Ykbpkv96sb"
      },
      "execution_count": 14,
      "outputs": []
    },
    {
      "cell_type": "code",
      "source": [
        "#4"
      ],
      "metadata": {
        "id": "ZFQElg5U_WMT"
      },
      "execution_count": 16,
      "outputs": []
    },
    {
      "cell_type": "code",
      "source": [
        "def rec_fact(n):\n",
        "  if n ==0:\n",
        "    return 1\n",
        "  return n*rec_fact(n-1)"
      ],
      "metadata": {
        "id": "wOaRfEdu_jiN"
      },
      "execution_count": 21,
      "outputs": []
    },
    {
      "cell_type": "code",
      "source": [
        "rec_fact(5)"
      ],
      "metadata": {
        "colab": {
          "base_uri": "https://localhost:8080/"
        },
        "id": "mFzpJFIf_4o-",
        "outputId": "86bc742f-5ee0-4874-b45a-5840bcc9ab51"
      },
      "execution_count": 22,
      "outputs": [
        {
          "output_type": "execute_result",
          "data": {
            "text/plain": [
              "120"
            ]
          },
          "metadata": {},
          "execution_count": 22
        }
      ]
    },
    {
      "cell_type": "code",
      "source": [
        "#5"
      ],
      "metadata": {
        "id": "Kut0wsdw_7Q6"
      },
      "execution_count": 23,
      "outputs": []
    },
    {
      "cell_type": "code",
      "source": [
        "def hamming_distance(str1, str2):\n",
        "    i = 0\n",
        "    count = 0\n",
        " \n",
        "    while(i < len(str1)):\n",
        "        if(str1[i] != str2[i]):\n",
        "            count += 1\n",
        "        i += 1\n",
        "    return count\n",
        " \n",
        "str1 = \"abcde\"\n",
        "str2 = \"bcdef\"\n",
        " \n",
        "print(hamming_distance(str1, str2))"
      ],
      "metadata": {
        "colab": {
          "base_uri": "https://localhost:8080/"
        },
        "id": "FtkgvzouAO8U",
        "outputId": "2ad5e288-9981-4a5b-ce4c-38ca372191fe"
      },
      "execution_count": 25,
      "outputs": [
        {
          "output_type": "stream",
          "name": "stdout",
          "text": [
            "5\n"
          ]
        }
      ]
    },
    {
      "cell_type": "code",
      "source": [],
      "metadata": {
        "id": "VngqWiXHAl9n"
      },
      "execution_count": null,
      "outputs": []
    }
  ]
}