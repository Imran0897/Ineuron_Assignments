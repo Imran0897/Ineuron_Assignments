{
  "nbformat": 4,
  "nbformat_minor": 0,
  "metadata": {
    "colab": {
      "provenance": [],
      "authorship_tag": "ABX9TyOaq4VSZgd6ve3MOAjymUe2",
      "include_colab_link": true
    },
    "kernelspec": {
      "name": "python3",
      "display_name": "Python 3"
    },
    "language_info": {
      "name": "python"
    }
  },
  "cells": [
    {
      "cell_type": "markdown",
      "metadata": {
        "id": "view-in-github",
        "colab_type": "text"
      },
      "source": [
        "<a href=\"https://colab.research.google.com/github/Imran0897/Ineuron_Assignments/blob/main/Assignment_13_Basic_Python.ipynb\" target=\"_parent\"><img src=\"https://colab.research.google.com/assets/colab-badge.svg\" alt=\"Open In Colab\"/></a>"
      ]
    },
    {
      "cell_type": "markdown",
      "source": [
        "1. What advantages do Excel spreadsheets have over CSV spreadsheets?\n",
        "\n",
        "Ans. In Excel, spreadsheets can have values of data types other than strings; cells can have different fonts, sizes, or color settings; cells can have varying widths and heights; adjacent cells can be merged; and you can embed images and charts."
      ],
      "metadata": {
        "id": "UUwtJVSHz5Lv"
      }
    },
    {
      "cell_type": "markdown",
      "source": [
        "2.What do you pass to csv.reader() and csv.writer() to create reader and writer objects?\n",
        "\n",
        "Ans. You pass a File object, obtained from a call to open()."
      ],
      "metadata": {
        "id": "j-AsbiVV0B__"
      }
    },
    {
      "cell_type": "markdown",
      "source": [
        "3. What modes do File objects for reader and writer objects need to be opened in?\n",
        "\n",
        "Ans. File objects need to be opened in read-binary ('rb') for reader objects and write-binary ('wb') for writer objects."
      ],
      "metadata": {
        "id": "Xp0a5Pmj0HPf"
      }
    },
    {
      "cell_type": "markdown",
      "source": [
        "4. What method takes a list argument and writes it to a CSV file?\n",
        "Ans. The writerow() method"
      ],
      "metadata": {
        "id": "LBmYMWpI0MsB"
      }
    },
    {
      "cell_type": "markdown",
      "source": [
        "5. What do the keyword arguments delimiter and line terminator do?\n",
        "\n",
        "Ans.The delimiter argument changes the string used to separate cells in a row. The lineterminator argument changes the string used to separate rows"
      ],
      "metadata": {
        "id": "9LSgU0C_0Tkn"
      }
    },
    {
      "cell_type": "markdown",
      "source": [
        "6. What function takes a string of JSON data and returns a Python data structure?\n",
        "\n",
        "Ans. json.loads()"
      ],
      "metadata": {
        "id": "fLxu3azD0b5R"
      }
    },
    {
      "cell_type": "markdown",
      "source": [
        "7. What function takes a Python data structure and returns a string of JSON data?\n",
        "\n",
        "Ans. json.dumps()"
      ],
      "metadata": {
        "id": "iGNxXCra0kMS"
      }
    }
  ]
}