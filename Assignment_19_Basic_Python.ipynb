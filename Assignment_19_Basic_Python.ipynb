{
  "nbformat": 4,
  "nbformat_minor": 0,
  "metadata": {
    "colab": {
      "provenance": [],
      "authorship_tag": "ABX9TyOCEblWP+T0m7KQDlvYGiTP",
      "include_colab_link": true
    },
    "kernelspec": {
      "name": "python3",
      "display_name": "Python 3"
    },
    "language_info": {
      "name": "python"
    }
  },
  "cells": [
    {
      "cell_type": "markdown",
      "metadata": {
        "id": "view-in-github",
        "colab_type": "text"
      },
      "source": [
        "<a href=\"https://colab.research.google.com/github/Imran0897/Ineuron_Assignments/blob/main/Assignment_19_Basic_Python.ipynb\" target=\"_parent\"><img src=\"https://colab.research.google.com/assets/colab-badge.svg\" alt=\"Open In Colab\"/></a>"
      ]
    },
    {
      "cell_type": "markdown",
      "source": [
        "1. Make a class called Thing with no contents and print it. Then, create an object called example\n",
        "from this class and also print it. Are the printed values the same or different?\n",
        "\n",
        "Ans. "
      ],
      "metadata": {
        "id": "nG5BIZPrDQUa"
      }
    },
    {
      "cell_type": "code",
      "source": [
        "class Thing:\n",
        "    pass"
      ],
      "metadata": {
        "id": "jzjkUkHyDhsC"
      },
      "execution_count": 1,
      "outputs": []
    },
    {
      "cell_type": "code",
      "source": [
        "print(Thing)"
      ],
      "metadata": {
        "colab": {
          "base_uri": "https://localhost:8080/"
        },
        "id": "E5FqEfcUDjfT",
        "outputId": "01460ba7-e975-4d9d-8194-d69800ad0299"
      },
      "execution_count": 2,
      "outputs": [
        {
          "output_type": "stream",
          "name": "stdout",
          "text": [
            "<class '__main__.Thing'>\n"
          ]
        }
      ]
    },
    {
      "cell_type": "code",
      "source": [
        "example = Thing()\n",
        "print(example)"
      ],
      "metadata": {
        "colab": {
          "base_uri": "https://localhost:8080/"
        },
        "id": "oMjTR-MvDkED",
        "outputId": "b1de8c13-5231-420c-fdf4-e4dbcbe26234"
      },
      "execution_count": 3,
      "outputs": [
        {
          "output_type": "stream",
          "name": "stdout",
          "text": [
            "<__main__.Thing object at 0x7fd28f5e13f0>\n"
          ]
        }
      ]
    },
    {
      "cell_type": "markdown",
      "source": [
        "2. Create a new class called Thing2 and add the value &#39;abc&#39; to the letters class attribute. Letters\n",
        "should be printed.\n",
        "\n",
        "Ans. "
      ],
      "metadata": {
        "id": "McbdnRzPDpW6"
      }
    },
    {
      "cell_type": "code",
      "source": [
        "class Thing2:\n",
        "        letters = 'abc'\n",
        "\n",
        "Thing2.letters"
      ],
      "metadata": {
        "colab": {
          "base_uri": "https://localhost:8080/",
          "height": 35
        },
        "id": "falFr883DveC",
        "outputId": "0a0ca7b3-283c-4f18-a78b-7b18c7a30b93"
      },
      "execution_count": 5,
      "outputs": [
        {
          "output_type": "execute_result",
          "data": {
            "text/plain": [
              "'abc'"
            ],
            "application/vnd.google.colaboratory.intrinsic+json": {
              "type": "string"
            }
          },
          "metadata": {},
          "execution_count": 5
        }
      ]
    },
    {
      "cell_type": "markdown",
      "source": [
        "3. Make yet another class called, of course, Thing3. This time, assign the value &#39;xyz&#39; to an instance\n",
        "(object) attribute called letters. Print letters. Do you need to make an object from the class to do\n",
        "this?\n",
        "\n",
        "Ans. "
      ],
      "metadata": {
        "id": "9-cT6LaXD4Tq"
      }
    },
    {
      "cell_type": "code",
      "source": [
        "class Thing3:\n",
        "        def __init__(self):\n",
        "            self.letters = 'xyz'\n",
        "\n",
        "Thing3.letters"
      ],
      "metadata": {
        "colab": {
          "base_uri": "https://localhost:8080/",
          "height": 200
        },
        "id": "B9ugbRpdEDj0",
        "outputId": "c96baed7-9037-4c56-d1d3-8d4ad1a3cab0"
      },
      "execution_count": 6,
      "outputs": [
        {
          "output_type": "error",
          "ename": "AttributeError",
          "evalue": "ignored",
          "traceback": [
            "\u001b[0;31m---------------------------------------------------------------------------\u001b[0m",
            "\u001b[0;31mAttributeError\u001b[0m                            Traceback (most recent call last)",
            "\u001b[0;32m<ipython-input-6-1896c8cd3068>\u001b[0m in \u001b[0;36m<cell line: 5>\u001b[0;34m()\u001b[0m\n\u001b[1;32m      3\u001b[0m             \u001b[0mself\u001b[0m\u001b[0;34m.\u001b[0m\u001b[0mletters\u001b[0m \u001b[0;34m=\u001b[0m \u001b[0;34m'xyz'\u001b[0m\u001b[0;34m\u001b[0m\u001b[0;34m\u001b[0m\u001b[0m\n\u001b[1;32m      4\u001b[0m \u001b[0;34m\u001b[0m\u001b[0m\n\u001b[0;32m----> 5\u001b[0;31m \u001b[0mThing3\u001b[0m\u001b[0;34m.\u001b[0m\u001b[0mletters\u001b[0m\u001b[0;34m\u001b[0m\u001b[0;34m\u001b[0m\u001b[0m\n\u001b[0m",
            "\u001b[0;31mAttributeError\u001b[0m: type object 'Thing3' has no attribute 'letters'"
          ]
        }
      ]
    },
    {
      "cell_type": "code",
      "source": [
        "something = Thing3()"
      ],
      "metadata": {
        "id": "FMmseyuWEH7y"
      },
      "execution_count": 7,
      "outputs": []
    },
    {
      "cell_type": "code",
      "source": [
        "print(something.letters)"
      ],
      "metadata": {
        "colab": {
          "base_uri": "https://localhost:8080/"
        },
        "id": "YSbyJF4LEOOK",
        "outputId": "b2fd5c88-da2c-4608-b835-882199b5cb0a"
      },
      "execution_count": 8,
      "outputs": [
        {
          "output_type": "stream",
          "name": "stdout",
          "text": [
            "xyz\n"
          ]
        }
      ]
    },
    {
      "cell_type": "markdown",
      "source": [
        "4. Create an Element class with the instance attributes name, symbol, and number. Create a class\n",
        "object with the values &#39;Hydrogen,&#39; &#39;H,&#39; and 1.\n",
        "\n",
        "Ans. "
      ],
      "metadata": {
        "id": "0PzsxZ0yERCD"
      }
    },
    {
      "cell_type": "code",
      "source": [
        "class Element:\n",
        "        def __init__(self, name, symbol, number):\n",
        "            self.name = name\n",
        "            self.symbol = symbol\n",
        "            self.number = number"
      ],
      "metadata": {
        "id": "QQSl2_W9EWQE"
      },
      "execution_count": 9,
      "outputs": []
    },
    {
      "cell_type": "code",
      "source": [
        "hydrogen = Element('Hydrogen', 'H', 1)"
      ],
      "metadata": {
        "id": "_3wJr5LZEXRr"
      },
      "execution_count": 10,
      "outputs": []
    },
    {
      "cell_type": "markdown",
      "source": [
        "5. Make a dictionary with these keys and values: &#39;name&#39;: &#39;Hydrogen&#39;, &#39;symbol&#39;: &#39;H&#39;, &#39;number&#39;: 1. Then,\n",
        "create an object called hydrogen from class Element using this dictionary.\n",
        "\n",
        "Ans. "
      ],
      "metadata": {
        "id": "9nghAuBuEbbs"
      }
    },
    {
      "cell_type": "code",
      "source": [
        "el_dict = {'name': 'Hydrogen', 'symbol': 'H', 'number': 1}"
      ],
      "metadata": {
        "id": "Ds6GHXAJEijt"
      },
      "execution_count": 11,
      "outputs": []
    },
    {
      "cell_type": "code",
      "source": [
        "hydrogen = Element(el_dict['name'], el_dict['symbol'], el_dict['number'])"
      ],
      "metadata": {
        "id": "vEM0-fBSEjUy"
      },
      "execution_count": 12,
      "outputs": []
    },
    {
      "cell_type": "code",
      "source": [
        "hydrogen.name"
      ],
      "metadata": {
        "colab": {
          "base_uri": "https://localhost:8080/",
          "height": 35
        },
        "id": "bBgMQgVkElP7",
        "outputId": "a25f654f-2284-45b0-eeab-56eb01b5b560"
      },
      "execution_count": 13,
      "outputs": [
        {
          "output_type": "execute_result",
          "data": {
            "text/plain": [
              "'Hydrogen'"
            ],
            "application/vnd.google.colaboratory.intrinsic+json": {
              "type": "string"
            }
          },
          "metadata": {},
          "execution_count": 13
        }
      ]
    },
    {
      "cell_type": "code",
      "source": [
        "hydrogen = Element(**el_dict)"
      ],
      "metadata": {
        "id": "yCUrHuDkEn6T"
      },
      "execution_count": 14,
      "outputs": []
    },
    {
      "cell_type": "code",
      "source": [
        "hydrogen.name"
      ],
      "metadata": {
        "colab": {
          "base_uri": "https://localhost:8080/",
          "height": 35
        },
        "id": "hVc2KSEtEqvb",
        "outputId": "b3bb9c6e-51ba-4587-b064-b9185305fcf1"
      },
      "execution_count": 15,
      "outputs": [
        {
          "output_type": "execute_result",
          "data": {
            "text/plain": [
              "'Hydrogen'"
            ],
            "application/vnd.google.colaboratory.intrinsic+json": {
              "type": "string"
            }
          },
          "metadata": {},
          "execution_count": 15
        }
      ]
    },
    {
      "cell_type": "markdown",
      "source": [
        "6. For the Element class, define a method called dump() that prints the values of the object’s\n",
        "attributes (name, symbol, and number). Create the hydrogen object from this new definition and\n",
        "use dump() to print its attributes.\n",
        "\n",
        "Ans. "
      ],
      "metadata": {
        "id": "f0AmMLKuEvCV"
      }
    },
    {
      "cell_type": "code",
      "source": [
        "class Element:\n",
        "        def __init__(self, name, symbol, number):\n",
        "            self.name = name\n",
        "            self.symbol = symbol\n",
        "            self.number = number\n",
        "        def dump(self):\n",
        "            print('name=%s, symbol=%s, number=%s' %\n",
        "                (self.name, self.symbol, self.number))"
      ],
      "metadata": {
        "id": "wRNtNeReE0uD"
      },
      "execution_count": 16,
      "outputs": []
    },
    {
      "cell_type": "code",
      "source": [
        "hydrogen = Element(**el_dict)"
      ],
      "metadata": {
        "id": "bUsISg2JE1Rr"
      },
      "execution_count": 17,
      "outputs": []
    },
    {
      "cell_type": "code",
      "source": [
        "hydrogen.dump()"
      ],
      "metadata": {
        "colab": {
          "base_uri": "https://localhost:8080/"
        },
        "id": "kOh1WW8hE3zb",
        "outputId": "924de314-dd88-4845-f27d-92f8c89e9bb0"
      },
      "execution_count": 18,
      "outputs": [
        {
          "output_type": "stream",
          "name": "stdout",
          "text": [
            "name=Hydrogen, symbol=H, number=1\n"
          ]
        }
      ]
    },
    {
      "cell_type": "markdown",
      "source": [
        "7. Call print(hydrogen). In the definition of Element, change the name of method dump to __str__,\n",
        "create a new hydrogen object, and call print(hydrogen) again.\n",
        "\n",
        "Ans. "
      ],
      "metadata": {
        "id": "eSJ3Ie05E7--"
      }
    },
    {
      "cell_type": "code",
      "source": [
        "print(hydrogen)"
      ],
      "metadata": {
        "colab": {
          "base_uri": "https://localhost:8080/"
        },
        "id": "4J8MvP19E-5T",
        "outputId": "fab1289e-3fc7-4729-90e8-390c9df18bb8"
      },
      "execution_count": 19,
      "outputs": [
        {
          "output_type": "stream",
          "name": "stdout",
          "text": [
            "<__main__.Element object at 0x7fd28f5e3f40>\n"
          ]
        }
      ]
    },
    {
      "cell_type": "code",
      "source": [
        "class Element:\n",
        "        def __init__(self, name, symbol, number):\n",
        "            self.name = name\n",
        "            self.symbol = symbol\n",
        "            self.number = number\n",
        "        def __str__(self):\n",
        "            return ('name=%s, symbol=%s, number=%s' %\n",
        "                (self.name, self.symbol, self.number))"
      ],
      "metadata": {
        "id": "86mHfl2mE_rF"
      },
      "execution_count": 20,
      "outputs": []
    },
    {
      "cell_type": "code",
      "source": [
        "hydrogen = Element(**el_dict)\n",
        "print(hydrogen)"
      ],
      "metadata": {
        "colab": {
          "base_uri": "https://localhost:8080/"
        },
        "id": "twgD8ntgFDeE",
        "outputId": "f6d506f9-c8f4-4e47-88ab-9171b5462ef9"
      },
      "execution_count": 21,
      "outputs": [
        {
          "output_type": "stream",
          "name": "stdout",
          "text": [
            "name=Hydrogen, symbol=H, number=1\n"
          ]
        }
      ]
    },
    {
      "cell_type": "markdown",
      "source": [
        "8. Modify Element to make the attributes name, symbol, and number private. Define a getter\n",
        "property for each to return its value.\n",
        "\n",
        "Ans. "
      ],
      "metadata": {
        "id": "J-M_QkqzFIib"
      }
    },
    {
      "cell_type": "code",
      "source": [
        "class Element:\n",
        "        def __init__(self, name, symbol, number):\n",
        "            self.__name = name\n",
        "            self.__symbol = symbol\n",
        "            self.__number = number\n",
        "        @property\n",
        "        def name(self):\n",
        "            return self.__name\n",
        "        @property\n",
        "        def symbol(self):\n",
        "            return self.__symbol\n",
        "        @property\n",
        "        def number(self):\n",
        "            return self.__number"
      ],
      "metadata": {
        "id": "XWk2HcurFN5i"
      },
      "execution_count": 22,
      "outputs": []
    },
    {
      "cell_type": "code",
      "source": [
        "hydrogen = Element('Hydrogen', 'H', 1)"
      ],
      "metadata": {
        "id": "KhnT60HqFPqi"
      },
      "execution_count": 23,
      "outputs": []
    },
    {
      "cell_type": "code",
      "source": [
        "hydrogen.name"
      ],
      "metadata": {
        "colab": {
          "base_uri": "https://localhost:8080/",
          "height": 35
        },
        "id": "SSn1T4fEFRMj",
        "outputId": "e69a5363-ed61-4931-fc81-c66eb8fde0ae"
      },
      "execution_count": 24,
      "outputs": [
        {
          "output_type": "execute_result",
          "data": {
            "text/plain": [
              "'Hydrogen'"
            ],
            "application/vnd.google.colaboratory.intrinsic+json": {
              "type": "string"
            }
          },
          "metadata": {},
          "execution_count": 24
        }
      ]
    },
    {
      "cell_type": "code",
      "source": [
        "hydrogen.symbol"
      ],
      "metadata": {
        "colab": {
          "base_uri": "https://localhost:8080/",
          "height": 35
        },
        "id": "Dj6OMVmqFSml",
        "outputId": "16d148e2-49f1-4141-9db6-6c161877ee5a"
      },
      "execution_count": 25,
      "outputs": [
        {
          "output_type": "execute_result",
          "data": {
            "text/plain": [
              "'H'"
            ],
            "application/vnd.google.colaboratory.intrinsic+json": {
              "type": "string"
            }
          },
          "metadata": {},
          "execution_count": 25
        }
      ]
    },
    {
      "cell_type": "code",
      "source": [
        "hydrogen.number"
      ],
      "metadata": {
        "colab": {
          "base_uri": "https://localhost:8080/"
        },
        "id": "iSqfEc_uFUHb",
        "outputId": "f3045eb8-3ac9-4e72-e9de-90b529b1e1ef"
      },
      "execution_count": 26,
      "outputs": [
        {
          "output_type": "execute_result",
          "data": {
            "text/plain": [
              "1"
            ]
          },
          "metadata": {},
          "execution_count": 26
        }
      ]
    },
    {
      "cell_type": "markdown",
      "source": [
        "9. Define three classes: Bear, Rabbit, and Octothorpe. For each, define only one method: eats(). This\n",
        "should return &#39;berries&#39; (Bear), &#39;clover&#39; (Rabbit), or &#39;campers&#39; (Octothorpe). Create one object from\n",
        "each and print what it eats.\n",
        "\n",
        "Ans. "
      ],
      "metadata": {
        "id": "0c8NH857FW_M"
      }
    },
    {
      "cell_type": "code",
      "source": [
        "class Bear:\n",
        "        def eats(self):\n",
        "            return 'berries'\n",
        "class Rabbit:\n",
        "     def eats(self):\n",
        "        return 'clover'\n",
        "class Octothorpe:\n",
        "     def eats(self):\n",
        "            return 'campers'"
      ],
      "metadata": {
        "id": "YeMq8jWEFcAU"
      },
      "execution_count": 28,
      "outputs": []
    },
    {
      "cell_type": "code",
      "source": [
        "b = Bear()\n",
        "r = Rabbit()\n",
        "o = Octothorpe()\n",
        "print(b.eats())\n",
        "print(r.eats())\n",
        "print(o.eats())"
      ],
      "metadata": {
        "colab": {
          "base_uri": "https://localhost:8080/"
        },
        "id": "EOjtinmBFdF0",
        "outputId": "418f367f-d3e8-4f17-9b0a-884e290a0d8c"
      },
      "execution_count": 29,
      "outputs": [
        {
          "output_type": "stream",
          "name": "stdout",
          "text": [
            "berries\n",
            "clover\n",
            "campers\n"
          ]
        }
      ]
    },
    {
      "cell_type": "markdown",
      "source": [
        "10. Define these classes: Laser, Claw, and SmartPhone. Each has only one method: does(). This\n",
        "returns &#39;disintegrate&#39; (Laser), &#39;crush&#39; (Claw), or &#39;ring&#39; (SmartPhone). Then, define the class Robot that\n",
        "has one instance (object) of each of these. Define a does() method for the Robot that prints what its\n",
        "component objects do.\n",
        "\n",
        "Ans. "
      ],
      "metadata": {
        "id": "rgvHPUVYFs5e"
      }
    },
    {
      "cell_type": "code",
      "source": [
        "class Laser:\n",
        "    def does(self):\n",
        "             return 'disintegrate'\n",
        "class Claw:\n",
        "     def does(self):\n",
        "            return 'crush'\n",
        "\n",
        "class SmartPhone:\n",
        "     def does(self):\n",
        "            return 'ring'\n",
        "\n",
        "class Robot:\n",
        "    def __init__(self):\n",
        "            self.laser = Laser()\n",
        "            self.claw = Claw()\n",
        "            self.smartphone = SmartPhone()\n",
        "    def does(self):\n",
        "            return '''I have many attachments:\n",
        "            My laser, to %s.\n",
        "            My claw, to %s.\n",
        "            My smartphone, to %s.''' % (\n",
        "            self.laser.does(),\n",
        "            self.claw.does(),\n",
        "            self.smartphone.does() )"
      ],
      "metadata": {
        "id": "V6ywc8odFwb0"
      },
      "execution_count": 30,
      "outputs": []
    },
    {
      "cell_type": "code",
      "source": [
        "robbie = Robot()\n",
        "print(robbie.does())"
      ],
      "metadata": {
        "colab": {
          "base_uri": "https://localhost:8080/"
        },
        "id": "52krDyU0FxGD",
        "outputId": "1b5bf274-8458-4549-90a0-cc937ac7451a"
      },
      "execution_count": 31,
      "outputs": [
        {
          "output_type": "stream",
          "name": "stdout",
          "text": [
            "I have many attachments:\n",
            "            My laser, to disintegrate.\n",
            "            My claw, to crush.\n",
            "            My smartphone, to ring.\n"
          ]
        }
      ]
    }
  ]
}