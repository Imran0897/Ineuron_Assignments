{
  "nbformat": 4,
  "nbformat_minor": 0,
  "metadata": {
    "colab": {
      "provenance": [],
      "authorship_tag": "ABX9TyPE/ewDIFeyeJpH+MJyLJEk",
      "include_colab_link": true
    },
    "kernelspec": {
      "name": "python3",
      "display_name": "Python 3"
    },
    "language_info": {
      "name": "python"
    }
  },
  "cells": [
    {
      "cell_type": "markdown",
      "metadata": {
        "id": "view-in-github",
        "colab_type": "text"
      },
      "source": [
        "<a href=\"https://colab.research.google.com/github/Imran0897/Ineuron_Assignments/blob/main/Programming_Assignment_13.ipynb\" target=\"_parent\"><img src=\"https://colab.research.google.com/assets/colab-badge.svg\" alt=\"Open In Colab\"/></a>"
      ]
    },
    {
      "cell_type": "code",
      "source": [
        "#1."
      ],
      "metadata": {
        "id": "_NDLkf7HWexz"
      },
      "execution_count": null,
      "outputs": []
    },
    {
      "cell_type": "code",
      "source": [
        "import math\n",
        "\n",
        "c = 50\n",
        "h = 30\n",
        "value = []\n",
        "\n",
        "num = [x for x in input().split(',')]\n",
        "for d in num:\n",
        "\n",
        "    value.append(str(int(round(math.sqrt(2*c*float(d)/h)))))\n",
        "\n",
        "\n",
        "print(\"output\")\n",
        "\n",
        "print(','.join(value))"
      ],
      "metadata": {
        "id": "ugGbpepNWcJM",
        "colab": {
          "base_uri": "https://localhost:8080/"
        },
        "outputId": "dcad857c-e249-45ea-c0dd-382f43913b90"
      },
      "execution_count": 2,
      "outputs": [
        {
          "output_type": "stream",
          "name": "stdout",
          "text": [
            "100,150,180\n",
            "output\n",
            "18,22,24\n"
          ]
        }
      ]
    },
    {
      "cell_type": "code",
      "source": [
        "#2."
      ],
      "metadata": {
        "id": "gl225FftWhSf"
      },
      "execution_count": null,
      "outputs": []
    },
    {
      "cell_type": "code",
      "source": [
        "row_num = int(input(\"Input number of rows: \"))\n",
        "col_num = int(input(\"Input number of columns: \"))\n",
        "multi_list = [[0 for col in range(col_num)] for row in range(row_num)]\n",
        "\n",
        "for row in range(row_num):\n",
        "    for col in range(col_num):\n",
        "        multi_list[row][col]= row*col\n",
        "\n",
        "print(multi_list)"
      ],
      "metadata": {
        "colab": {
          "base_uri": "https://localhost:8080/"
        },
        "id": "pZs6Nb3PS4O8",
        "outputId": "16bde950-ae88-4a16-e8f7-4d5c761ca582"
      },
      "execution_count": null,
      "outputs": [
        {
          "output_type": "stream",
          "name": "stdout",
          "text": [
            "Input number of rows: 3\n",
            "Input number of columns: 5\n",
            "[[0, 0, 0, 0, 0], [0, 1, 2, 3, 4], [0, 2, 4, 6, 8]]\n"
          ]
        }
      ]
    },
    {
      "cell_type": "code",
      "source": [
        "#3."
      ],
      "metadata": {
        "id": "C0RqxTdUVyy6"
      },
      "execution_count": null,
      "outputs": []
    },
    {
      "cell_type": "code",
      "source": [
        "items = input(\"Input comma separated sequence of words\")\n",
        "words = sorted(set(items.split(',')))\n",
        "for i in words:\n",
        "  print(i, end = '\\n')"
      ],
      "metadata": {
        "colab": {
          "base_uri": "https://localhost:8080/"
        },
        "id": "dWz2CSudWmbG",
        "outputId": "071655bc-89a0-448a-9036-1829e2f15c3f"
      },
      "execution_count": 3,
      "outputs": [
        {
          "output_type": "stream",
          "name": "stdout",
          "text": [
            "Input comma separated sequence of wordswithout,hello,bag,world\n",
            "bag\n",
            "hello\n",
            "without\n",
            "world\n"
          ]
        }
      ]
    },
    {
      "cell_type": "code",
      "source": [
        "#4."
      ],
      "metadata": {
        "id": "5XhrOpauDo3s"
      },
      "execution_count": null,
      "outputs": []
    },
    {
      "cell_type": "code",
      "source": [
        "phrase = input(\"\")\n",
        "splited_ph = phrase.split(' ')\n",
        "\n",
        "word_list = []\n",
        "for i in splited_ph:\n",
        "    if i not in word_list:\n",
        "        word_list.append(i)\n",
        "    else:\n",
        "        continue\n",
        "word_list.sort()\n",
        "print((' ').join(word_list))"
      ],
      "metadata": {
        "colab": {
          "base_uri": "https://localhost:8080/"
        },
        "id": "HO9yJwSaD8ZX",
        "outputId": "b350ae75-fdc5-484b-83bc-d5413a018f0e"
      },
      "execution_count": 5,
      "outputs": [
        {
          "output_type": "stream",
          "name": "stdout",
          "text": [
            "hello world and practice makes perfect and hello world again\n",
            "again and hello makes perfect practice world\n"
          ]
        }
      ]
    },
    {
      "cell_type": "code",
      "source": [
        "#5."
      ],
      "metadata": {
        "id": "Dm0LHOx2Ycfz"
      },
      "execution_count": null,
      "outputs": []
    },
    {
      "cell_type": "code",
      "source": [
        "phrase = input(\"Type in: \")\n",
        "phrase = list(phrase)\n",
        "\n",
        "a, b = 0, 0\n",
        "for i in phrase:\n",
        "    if i.isalpha():\n",
        "        a = a + 1\n",
        "    if i.isdigit():\n",
        "        b = b + 1\n",
        "    else:\n",
        "        pass\n",
        "\n",
        "print(\"Letters:\", a)\n",
        "print(\"Digits:\", b)"
      ],
      "metadata": {
        "colab": {
          "base_uri": "https://localhost:8080/"
        },
        "id": "5Yc97YCGaQ78",
        "outputId": "5c1036e5-94a5-45d1-fcb1-e81dabc508a6"
      },
      "execution_count": 8,
      "outputs": [
        {
          "output_type": "stream",
          "name": "stdout",
          "text": [
            "Type in: hello world! 123\n",
            "Letters: 10\n",
            "Digits: 3\n"
          ]
        }
      ]
    },
    {
      "cell_type": "code",
      "source": [
        "#6."
      ],
      "metadata": {
        "id": "z_guFKmlg8Rf"
      },
      "execution_count": null,
      "outputs": []
    },
    {
      "cell_type": "code",
      "source": [
        "import re\n",
        "\n",
        "passwords = input(\"Type in: \")\n",
        "passwords = passwords.split(\",\")\n",
        "\n",
        "accepted_pass = []\n",
        "for i in passwords:\n",
        "    \n",
        "    if len(i) < 6 or len(i) > 12:\n",
        "        continue\n",
        "\n",
        "    elif not re.search(\"([a-z])+\", i):\n",
        "        continue\n",
        "\n",
        "    elif not re.search(\"([A-Z])+\", i):\n",
        "        continue\n",
        "\n",
        "    elif not re.search(\"([0-9])+\", i):\n",
        "        continue\n",
        "\n",
        "    elif not re.search(\"([!@$%^&])+\", i):\n",
        "        continue\n",
        "\n",
        "    else:\n",
        "        accepted_pass.append(i)\n",
        "\n",
        "print((\" \").join(accepted_pass))"
      ],
      "metadata": {
        "colab": {
          "base_uri": "https://localhost:8080/"
        },
        "id": "jGYLz2p4E61A",
        "outputId": "6f3cf647-5cf4-44d0-d1fe-4455f96ebbef"
      },
      "execution_count": 13,
      "outputs": [
        {
          "output_type": "stream",
          "name": "stdout",
          "text": [
            "Type in: ABd1234@1,a F1#,2w3E*,2We3345\n",
            "ABd1234@1\n"
          ]
        }
      ]
    },
    {
      "cell_type": "code",
      "source": [],
      "metadata": {
        "id": "wsMDrChQFX7j"
      },
      "execution_count": null,
      "outputs": []
    }
  ]
}