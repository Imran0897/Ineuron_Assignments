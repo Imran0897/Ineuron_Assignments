{
  "nbformat": 4,
  "nbformat_minor": 0,
  "metadata": {
    "colab": {
      "provenance": [],
      "authorship_tag": "ABX9TyNCc/9Ote+4ajval5/CFGG5",
      "include_colab_link": true
    },
    "kernelspec": {
      "name": "python3",
      "display_name": "Python 3"
    },
    "language_info": {
      "name": "python"
    }
  },
  "cells": [
    {
      "cell_type": "markdown",
      "metadata": {
        "id": "view-in-github",
        "colab_type": "text"
      },
      "source": [
        "<a href=\"https://colab.research.google.com/github/Imran0897/Ineuron_Assignments/blob/main/Programming_Assignment_16.ipynb\" target=\"_parent\"><img src=\"https://colab.research.google.com/assets/colab-badge.svg\" alt=\"Open In Colab\"/></a>"
      ]
    },
    {
      "cell_type": "code",
      "execution_count": 1,
      "metadata": {
        "id": "3acvtCv71jJR"
      },
      "outputs": [],
      "source": [
        "#1."
      ]
    },
    {
      "cell_type": "code",
      "source": [
        "def stutter(word):\n",
        "    return (2*(word[:2]+'... '))+word+'?'\n",
        "word = input('Enter word : ')\n",
        "print(stutter(word))"
      ],
      "metadata": {
        "colab": {
          "base_uri": "https://localhost:8080/"
        },
        "id": "3Q9aMVXH2sw7",
        "outputId": "4616e897-e311-460f-eb4d-20f40b61a102"
      },
      "execution_count": 2,
      "outputs": [
        {
          "output_type": "stream",
          "name": "stdout",
          "text": [
            "Enter word : outstanding\n",
            "ou... ou... outstanding?\n"
          ]
        }
      ]
    },
    {
      "cell_type": "code",
      "source": [
        "#2."
      ],
      "metadata": {
        "id": "-b_wugnX2yMr"
      },
      "execution_count": 3,
      "outputs": []
    },
    {
      "cell_type": "code",
      "source": [
        "def rad_to_angle(n):\n",
        "  return round(((n*180)/3.14),1)"
      ],
      "metadata": {
        "id": "kySrZZul3IF-"
      },
      "execution_count": 9,
      "outputs": []
    },
    {
      "cell_type": "code",
      "source": [
        "rad_to_angle(20)"
      ],
      "metadata": {
        "colab": {
          "base_uri": "https://localhost:8080/"
        },
        "id": "VstX2ckV3npZ",
        "outputId": "6b143a51-0d0b-4612-a0af-ed062ffb6c80"
      },
      "execution_count": 12,
      "outputs": [
        {
          "output_type": "execute_result",
          "data": {
            "text/plain": [
              "1146.5"
            ]
          },
          "metadata": {},
          "execution_count": 12
        }
      ]
    },
    {
      "cell_type": "code",
      "source": [
        "#3."
      ],
      "metadata": {
        "id": "9lIFBCMb3qnj"
      },
      "execution_count": 13,
      "outputs": []
    },
    {
      "cell_type": "code",
      "source": [
        "def is_curzon(n):\n",
        "  a = 2**n + 1\n",
        "  b = 2*n+1\n",
        "  if a%b==0:\n",
        "    print(True)\n",
        "  else:\n",
        "    print(False)"
      ],
      "metadata": {
        "id": "OQPPsY1P4aBm"
      },
      "execution_count": 14,
      "outputs": []
    },
    {
      "cell_type": "code",
      "source": [
        "is_curzon(14)"
      ],
      "metadata": {
        "colab": {
          "base_uri": "https://localhost:8080/"
        },
        "id": "yIRy6rUt6B2X",
        "outputId": "2abd6cc6-a6d7-4f24-cb28-f2eb3fda8688"
      },
      "execution_count": 17,
      "outputs": [
        {
          "output_type": "stream",
          "name": "stdout",
          "text": [
            "True\n"
          ]
        }
      ]
    },
    {
      "cell_type": "code",
      "source": [
        "#4."
      ],
      "metadata": {
        "id": "9gts2VZR6E44"
      },
      "execution_count": 18,
      "outputs": []
    },
    {
      "cell_type": "code",
      "source": [
        "import math\n",
        "def Area_Hexagob(n):\n",
        "\n",
        "  area = (3*math.sqrt(3)*n*n)/2\n",
        "  print(round(area,1))"
      ],
      "metadata": {
        "id": "tdKcZhtm6Ki9"
      },
      "execution_count": 21,
      "outputs": []
    },
    {
      "cell_type": "code",
      "source": [
        "Area_Hexagob(2)"
      ],
      "metadata": {
        "colab": {
          "base_uri": "https://localhost:8080/"
        },
        "id": "s9IoSg0b60hw",
        "outputId": "7186004c-ceb7-488e-b8d6-3b6e1c96c9f8"
      },
      "execution_count": 23,
      "outputs": [
        {
          "output_type": "stream",
          "name": "stdout",
          "text": [
            "10.4\n"
          ]
        }
      ]
    },
    {
      "cell_type": "code",
      "source": [
        "#5."
      ],
      "metadata": {
        "id": "9AbB2eZ163At"
      },
      "execution_count": 24,
      "outputs": []
    },
    {
      "cell_type": "code",
      "source": [
        "\n",
        "def decimalToBinary(n):\n",
        "    return bin(n).replace(\"0b\", \"\")\n",
        "   \n",
        "for i in range(0,7):\n",
        "    print(decimalToBinary(i))"
      ],
      "metadata": {
        "colab": {
          "base_uri": "https://localhost:8080/"
        },
        "id": "BQlQef5M7Cyc",
        "outputId": "6d1579d8-d426-463f-9e3d-6cbb3438444a"
      },
      "execution_count": 27,
      "outputs": [
        {
          "output_type": "stream",
          "name": "stdout",
          "text": [
            "0\n",
            "1\n",
            "10\n",
            "11\n",
            "100\n",
            "101\n",
            "110\n"
          ]
        }
      ]
    },
    {
      "cell_type": "code",
      "source": [],
      "metadata": {
        "id": "MMAi34z67Obi"
      },
      "execution_count": null,
      "outputs": []
    }
  ]
}