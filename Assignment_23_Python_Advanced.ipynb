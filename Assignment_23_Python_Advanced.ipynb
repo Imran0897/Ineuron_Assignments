{
  "nbformat": 4,
  "nbformat_minor": 0,
  "metadata": {
    "colab": {
      "provenance": [],
      "authorship_tag": "ABX9TyPVRdAJR0VJUD0fpBmoKoAg",
      "include_colab_link": true
    },
    "kernelspec": {
      "name": "python3",
      "display_name": "Python 3"
    },
    "language_info": {
      "name": "python"
    }
  },
  "cells": [
    {
      "cell_type": "markdown",
      "metadata": {
        "id": "view-in-github",
        "colab_type": "text"
      },
      "source": [
        "<a href=\"https://colab.research.google.com/github/Imran0897/Ineuron_Assignments/blob/main/Assignment_23_Python_Advanced.ipynb\" target=\"_parent\"><img src=\"https://colab.research.google.com/assets/colab-badge.svg\" alt=\"Open In Colab\"/></a>"
      ]
    },
    {
      "cell_type": "markdown",
      "source": [
        "Q1. If you have any, what are your choices for increasing the comparison between different figures on\n",
        "the same graph?\n",
        "\n",
        "Ans. Bar charts are good for comparisons, while line charts work better for trends. Scatter plot charts are good for relationships and distributions, but pie charts should be used only for simple compositions — never for comparisons or distributions."
      ],
      "metadata": {
        "id": "BKDLntuvdql3"
      }
    },
    {
      "cell_type": "markdown",
      "source": [
        "Q2. Can you explain the benefit of compound interest over a higher rate of interest that does not\n",
        "compound after reading this chapter?\n",
        "\n",
        "Ans. Compound interest makes your money grow faster because interest is calculated on the accumulated interest over time as well as on your original principal. Compounding can create a snowball effect, as the original investments plus the income earned from those investments grow together."
      ],
      "metadata": {
        "id": "lmd4xV7kePeo"
      }
    },
    {
      "cell_type": "markdown",
      "source": [
        "Q3. What is a histogram, exactly? Name a numpy method for creating such a graph.\n",
        "\n",
        "Ans. Histogram is a type of a plot which hold the total number of counts or the percentile value in y-axis w.r.t. corresponding x-variables. When we say the number of counts it means that for a particular range in x-axis\n",
        "what will be the number of counts of the data points. When we talk about percentile it shows the probability occurrence of the x-variable or what percentage of data are below that particular percetile value w.r.t.\n",
        "particular x-variable range. Numpy has a built-in numpy. histogram() function."
      ],
      "metadata": {
        "id": "rOoj7vq0eZFt"
      }
    },
    {
      "cell_type": "markdown",
      "source": [
        "Q4. If necessary, how do you change the aspect ratios between the X and Y axes?\n",
        "\n",
        "Ans. We can use figure(figsize=(10,8)) function inside the matplot.pyplot library which we scale down or up the graph.\n",
        "figure(figsize=(10,8))"
      ],
      "metadata": {
        "id": "J8J_QYo3einA"
      }
    },
    {
      "cell_type": "markdown",
      "source": [
        "Q5. Compare and contrast the three types of array multiplication between two numpy arrays: dot\n",
        "product, outer product, and regular multiplication of two numpy arrays.\n",
        "\n",
        "Ans. import numpy as np"
      ],
      "metadata": {
        "id": "emDsPNnOe8KA"
      }
    },
    {
      "cell_type": "code",
      "source": [
        "import numpy as np\n",
        "a1=np.array([[1,2,3],[4,5,6],[6,7,8]])\n",
        "a2=np.array([[10,20,30],[40,50,60],[60,70,80]])"
      ],
      "metadata": {
        "id": "nNQqQyIqfEyn"
      },
      "execution_count": 1,
      "outputs": []
    },
    {
      "cell_type": "code",
      "source": [
        "print(a1)\n",
        "print()\n",
        "print(a2)"
      ],
      "metadata": {
        "colab": {
          "base_uri": "https://localhost:8080/"
        },
        "id": "DpRoQUidfLJp",
        "outputId": "39a7abed-788c-4b21-c7fd-a84924d51345"
      },
      "execution_count": 2,
      "outputs": [
        {
          "output_type": "stream",
          "name": "stdout",
          "text": [
            "[[1 2 3]\n",
            " [4 5 6]\n",
            " [6 7 8]]\n",
            "\n",
            "[[10 20 30]\n",
            " [40 50 60]\n",
            " [60 70 80]]\n"
          ]
        }
      ]
    },
    {
      "cell_type": "code",
      "source": [
        "a1*a2"
      ],
      "metadata": {
        "colab": {
          "base_uri": "https://localhost:8080/"
        },
        "id": "KzNP1Rs1fNjP",
        "outputId": "777a4f52-1863-480f-80ff-3cbe01d2aa9e"
      },
      "execution_count": 3,
      "outputs": [
        {
          "output_type": "execute_result",
          "data": {
            "text/plain": [
              "array([[ 10,  40,  90],\n",
              "       [160, 250, 360],\n",
              "       [360, 490, 640]])"
            ]
          },
          "metadata": {},
          "execution_count": 3
        }
      ]
    },
    {
      "cell_type": "code",
      "source": [
        "np.dot(a1,a2)"
      ],
      "metadata": {
        "colab": {
          "base_uri": "https://localhost:8080/"
        },
        "id": "x2cXqPeQfOtX",
        "outputId": "84f58855-5bb6-4bad-f2da-acd8bb2991ec"
      },
      "execution_count": 4,
      "outputs": [
        {
          "output_type": "execute_result",
          "data": {
            "text/plain": [
              "array([[ 270,  330,  390],\n",
              "       [ 600,  750,  900],\n",
              "       [ 820, 1030, 1240]])"
            ]
          },
          "metadata": {},
          "execution_count": 4
        }
      ]
    },
    {
      "cell_type": "code",
      "source": [
        "np.outer(a1,a2)"
      ],
      "metadata": {
        "colab": {
          "base_uri": "https://localhost:8080/"
        },
        "id": "ndPiJwDpfRxQ",
        "outputId": "2d18497f-9287-4259-c5eb-b3ec0288ef6f"
      },
      "execution_count": 5,
      "outputs": [
        {
          "output_type": "execute_result",
          "data": {
            "text/plain": [
              "array([[ 10,  20,  30,  40,  50,  60,  60,  70,  80],\n",
              "       [ 20,  40,  60,  80, 100, 120, 120, 140, 160],\n",
              "       [ 30,  60,  90, 120, 150, 180, 180, 210, 240],\n",
              "       [ 40,  80, 120, 160, 200, 240, 240, 280, 320],\n",
              "       [ 50, 100, 150, 200, 250, 300, 300, 350, 400],\n",
              "       [ 60, 120, 180, 240, 300, 360, 360, 420, 480],\n",
              "       [ 60, 120, 180, 240, 300, 360, 360, 420, 480],\n",
              "       [ 70, 140, 210, 280, 350, 420, 420, 490, 560],\n",
              "       [ 80, 160, 240, 320, 400, 480, 480, 560, 640]])"
            ]
          },
          "metadata": {},
          "execution_count": 5
        }
      ]
    },
    {
      "cell_type": "markdown",
      "source": [
        "Q6. Before you buy a home, which numpy function will you use to measure your monthly mortgage\n",
        "payment?\n",
        "\n",
        "Ans. np.pmt(rate, nper, pv) function we will be using in order to calculate monthly mortgage payment before you purchase a house\n",
        "\n",
        "     rate = The periodic interest rate\n",
        "\n",
        "     nper = The number of payment periods\n",
        "     \n",
        "     pv = The total value of the mortgage loan"
      ],
      "metadata": {
        "id": "Fr8OxVyPffcH"
      }
    },
    {
      "cell_type": "markdown",
      "source": [
        "Q7. Can string data be stored in numpy arrays? If so, list at least one restriction that applies to this\n",
        "data.\n",
        "\n",
        "Ans. Yes an array can store the string.The limitation which imposed on the string data is, whenever we store the data of string dtype then it should should keep in mind that the string which is having the maximum length is\n",
        "the limit.\n",
        "The dtype value is the maximum length of a string in such data. Meaning suppose if any new string we wanted \n",
        "to add, then we can add only that string which have the length either equal to that dtype value or less than\n",
        "that. If any string which are adding and if its length is more than the dtype value then it will only accpet \n",
        "to maximum length and rest of the characters will not be included."
      ],
      "metadata": {
        "id": "tDJYvpJBf64R"
      }
    }
  ]
}