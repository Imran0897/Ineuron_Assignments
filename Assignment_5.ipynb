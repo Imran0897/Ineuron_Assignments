{
  "nbformat": 4,
  "nbformat_minor": 0,
  "metadata": {
    "colab": {
      "provenance": [],
      "authorship_tag": "ABX9TyOhukdYTMH+/bvdNxbHcDaA",
      "include_colab_link": true
    },
    "kernelspec": {
      "name": "python3",
      "display_name": "Python 3"
    },
    "language_info": {
      "name": "python"
    }
  },
  "cells": [
    {
      "cell_type": "markdown",
      "metadata": {
        "id": "view-in-github",
        "colab_type": "text"
      },
      "source": [
        "<a href=\"https://colab.research.google.com/github/Imran0897/Ineuron_Assignments/blob/main/Assignment_5.ipynb\" target=\"_parent\"><img src=\"https://colab.research.google.com/assets/colab-badge.svg\" alt=\"Open In Colab\"/></a>"
      ]
    },
    {
      "cell_type": "markdown",
      "source": [
        "Q1. What is the meaning of multiple inheritance?\n",
        "\n",
        "Ans . When a class is derived from more than one base class it is called multiple Inheritance. The derived class inherits all the features of the base case."
      ],
      "metadata": {
        "id": "5le14NjZWOW5"
      }
    },
    {
      "cell_type": "markdown",
      "source": [
        "Q2. What is the concept of delegation?\n",
        "\n",
        "Ans Delegation is an object oriented technique (also called a design pattern). Let's say you have an object x and want to change the behaviour of just one of its methods. You can create a new class that provides a new implementation of the method you're interested in changing and delegates all other methods to the corresponding method of x.\n",
        "\n",
        "The delegation is accomplished via the getattr method; consult the language reference for more information about controlling attribute access."
      ],
      "metadata": {
        "id": "5GUapQobWVy5"
      }
    },
    {
      "cell_type": "markdown",
      "source": [
        "Q3. What is the concept of composition?\n",
        "\n",
        "Ans. It is one of the fundamental concepts of Object-Oriented Programming. A class that references to one or more objects of other classes as an Instance variable. Here, by using the class name or by creating the object we can access the members of one class inside another class. It enables creating complex types by combining objects of different classes. It means that a class Composite can contain an object of another class Component. This type of relationship is known as Has-A Relation."
      ],
      "metadata": {
        "id": "MEp7wvU9WdQ4"
      }
    },
    {
      "cell_type": "markdown",
      "source": [
        "Q4. What are bound methods and how do we use them?\n",
        "Ans. A bound method is the one which is dependent on the instance of the class as the first argument. It passes the instance as the first argument which is used to access the variables and functions. All functions in the class are by default bound methods."
      ],
      "metadata": {
        "id": "dmNtoF-oWmVA"
      }
    },
    {
      "cell_type": "code",
      "source": [
        "class Sample:\n",
        "    def fun(self, some_value):\n",
        "        self.some_value = some_value\n",
        "    \n",
        "s = Sample()\n",
        "\n",
        "print(s.fun)"
      ],
      "metadata": {
        "colab": {
          "base_uri": "https://localhost:8080/"
        },
        "id": "DuSwuKJVWuCB",
        "outputId": "b0e69a91-ebb4-46cb-ce13-634f6022b9d8"
      },
      "execution_count": 1,
      "outputs": [
        {
          "output_type": "stream",
          "name": "stdout",
          "text": [
            "<bound method Sample.fun of <__main__.Sample object at 0x7f5f5e2e99c0>>\n"
          ]
        }
      ]
    },
    {
      "cell_type": "markdown",
      "source": [
        "Q5. What is the purpose of pseudoprivate attributes?\n",
        "\n",
        "Ans. In Python, there is no concept of \"private\" as such. When naming properties and methods at the level, some special processing is actually done to the name, making it inaccessible to the outside world."
      ],
      "metadata": {
        "id": "6yelYhw2WxXC"
      }
    },
    {
      "cell_type": "code",
      "source": [
        "class Test:\n",
        "    def __init__(self, a, b, c, d):\n",
        "        self.__a = a \n",
        "        self.b = b\n",
        "        self.c = c\n",
        "        self.d = d\n",
        "\n",
        "    def custom(self, v):\n",
        "        return v - self.__a\n",
        "\n",
        "t = Test(1,2,3,4)    \n",
        "print(t._Test__a) \n",
        "print(t.b)\n",
        "print(t.custom(5))"
      ],
      "metadata": {
        "colab": {
          "base_uri": "https://localhost:8080/"
        },
        "id": "L8W-fNueWuxR",
        "outputId": "504fcf9c-9b24-48b5-cf77-2a7482f083de"
      },
      "execution_count": 2,
      "outputs": [
        {
          "output_type": "stream",
          "name": "stdout",
          "text": [
            "1\n",
            "2\n",
            "4\n"
          ]
        }
      ]
    }
  ]
}