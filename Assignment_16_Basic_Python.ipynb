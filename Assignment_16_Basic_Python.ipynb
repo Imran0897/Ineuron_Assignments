{
  "nbformat": 4,
  "nbformat_minor": 0,
  "metadata": {
    "colab": {
      "provenance": [],
      "authorship_tag": "ABX9TyPfxvRd/ra1tIbMoSr0BeHY",
      "include_colab_link": true
    },
    "kernelspec": {
      "name": "python3",
      "display_name": "Python 3"
    },
    "language_info": {
      "name": "python"
    }
  },
  "cells": [
    {
      "cell_type": "markdown",
      "metadata": {
        "id": "view-in-github",
        "colab_type": "text"
      },
      "source": [
        "<a href=\"https://colab.research.google.com/github/Imran0897/Ineuron_Assignments/blob/main/Assignment_16_Basic_Python.ipynb\" target=\"_parent\"><img src=\"https://colab.research.google.com/assets/colab-badge.svg\" alt=\"Open In Colab\"/></a>"
      ]
    },
    {
      "cell_type": "markdown",
      "source": [
        "1. Create a list called years_list, starting with the year of your birth, and each year thereafter until\n",
        "the year of your fifth birthday. For example, if you were born in 1980. the list would be years_list =\n",
        "[1980, 1981, 1982, 1983, 1984, 1985].\n",
        "\n",
        "Ans. "
      ],
      "metadata": {
        "id": "jvGHUyHi1bIj"
      }
    },
    {
      "cell_type": "code",
      "source": [
        "years_list = [1980, 1981, 1982, 1983, 1984, 1985]\n",
        "years_list"
      ],
      "metadata": {
        "colab": {
          "base_uri": "https://localhost:8080/"
        },
        "id": "_XkFeKFQ1fhf",
        "outputId": "a55aa8eb-cdca-4b4c-b9c3-5da6dbee08bc"
      },
      "execution_count": 2,
      "outputs": [
        {
          "output_type": "execute_result",
          "data": {
            "text/plain": [
              "[1980, 1981, 1982, 1983, 1984, 1985]"
            ]
          },
          "metadata": {},
          "execution_count": 2
        }
      ]
    },
    {
      "cell_type": "markdown",
      "source": [
        "2. In which year in years_list was your third birthday? Remember, you were 0 years of age for your\n",
        "first year.\n",
        "\n",
        "Ans. "
      ],
      "metadata": {
        "id": "RKEsvJsO1hcG"
      }
    },
    {
      "cell_type": "code",
      "source": [
        "years_list[3]"
      ],
      "metadata": {
        "colab": {
          "base_uri": "https://localhost:8080/"
        },
        "id": "pA93q0rM1zhn",
        "outputId": "f8b8158b-83d3-4f81-b37f-650fc754b6c9"
      },
      "execution_count": 3,
      "outputs": [
        {
          "output_type": "execute_result",
          "data": {
            "text/plain": [
              "1983"
            ]
          },
          "metadata": {},
          "execution_count": 3
        }
      ]
    },
    {
      "cell_type": "markdown",
      "source": [
        "3.In the years list, which year were you the oldest?\n",
        "\n",
        "Ans. "
      ],
      "metadata": {
        "id": "TtQnlPAk14-u"
      }
    },
    {
      "cell_type": "code",
      "source": [
        "years_list[-1]"
      ],
      "metadata": {
        "colab": {
          "base_uri": "https://localhost:8080/"
        },
        "id": "XmHskNSh17du",
        "outputId": "883ef060-5fd6-4c00-bb28-d7ac4fa7a7c3"
      },
      "execution_count": 4,
      "outputs": [
        {
          "output_type": "execute_result",
          "data": {
            "text/plain": [
              "1985"
            ]
          },
          "metadata": {},
          "execution_count": 4
        }
      ]
    },
    {
      "cell_type": "markdown",
      "source": [
        "4. Make a list called things with these three strings as elements: &quot;mozzarella&quot;, &quot;cinderella&quot;,\n",
        "&quot;salmonella&quot;.\n",
        "\n",
        "Ans. "
      ],
      "metadata": {
        "id": "UracIfQQ19LV"
      }
    },
    {
      "cell_type": "code",
      "source": [
        "things = [\"mozzarella\", \"cinderella\", \"salmonella\"]\n",
        "things"
      ],
      "metadata": {
        "colab": {
          "base_uri": "https://localhost:8080/"
        },
        "id": "fI62uktB2DWG",
        "outputId": "c0266919-4691-460c-fde9-6b8b2e5b6a81"
      },
      "execution_count": 6,
      "outputs": [
        {
          "output_type": "execute_result",
          "data": {
            "text/plain": [
              "['mozzarella', 'cinderella', 'salmonella']"
            ]
          },
          "metadata": {},
          "execution_count": 6
        }
      ]
    },
    {
      "cell_type": "markdown",
      "source": [
        "5. Capitalize the element in things that refers to a person and then print the list. Did it change the\n",
        "element in the list?\n",
        "\n",
        "Ans. "
      ],
      "metadata": {
        "id": "Fsr-bOT62Khn"
      }
    },
    {
      "cell_type": "code",
      "source": [
        "things[1].capitalize()"
      ],
      "metadata": {
        "colab": {
          "base_uri": "https://localhost:8080/",
          "height": 35
        },
        "id": "ukBTMNvC2QE-",
        "outputId": "32da0fed-26a0-48f7-ff60-05403babf16f"
      },
      "execution_count": 7,
      "outputs": [
        {
          "output_type": "execute_result",
          "data": {
            "text/plain": [
              "'Cinderella'"
            ],
            "application/vnd.google.colaboratory.intrinsic+json": {
              "type": "string"
            }
          },
          "metadata": {},
          "execution_count": 7
        }
      ]
    },
    {
      "cell_type": "markdown",
      "source": [
        "6. Make a surprise list with the elements &quot;Groucho,&quot; &quot;Chico,&quot; and &quot;Harpo.&quot;\n",
        "\n",
        "Ans. "
      ],
      "metadata": {
        "id": "-lzwqszN2R_x"
      }
    },
    {
      "cell_type": "code",
      "source": [
        "surprise = ['Groucho', 'Chico', 'Harpo']\n",
        "surprise"
      ],
      "metadata": {
        "colab": {
          "base_uri": "https://localhost:8080/"
        },
        "id": "x9M6mne12XF1",
        "outputId": "881fe74f-0dd2-42d4-951e-7f0ba06e067d"
      },
      "execution_count": 8,
      "outputs": [
        {
          "output_type": "execute_result",
          "data": {
            "text/plain": [
              "['Groucho', 'Chico', 'Harpo']"
            ]
          },
          "metadata": {},
          "execution_count": 8
        }
      ]
    },
    {
      "cell_type": "markdown",
      "source": [
        "7. Lowercase the last element of the surprise list, reverse it, and then capitalize it.\n",
        "\n",
        "Ans"
      ],
      "metadata": {
        "id": "eWH14mNQ2bO9"
      }
    },
    {
      "cell_type": "code",
      "source": [
        "surprise[-1] = surprise[-1].lower()\n",
        "surprise[-1] = surprise[-1][::-1]\n",
        "surprise[-1].capitalize()"
      ],
      "metadata": {
        "colab": {
          "base_uri": "https://localhost:8080/",
          "height": 35
        },
        "id": "qtlY_RzV5IXf",
        "outputId": "cde58eee-9a51-4f14-99c0-fd547277830b"
      },
      "execution_count": 9,
      "outputs": [
        {
          "output_type": "execute_result",
          "data": {
            "text/plain": [
              "'Oprah'"
            ],
            "application/vnd.google.colaboratory.intrinsic+json": {
              "type": "string"
            }
          },
          "metadata": {},
          "execution_count": 9
        }
      ]
    },
    {
      "cell_type": "markdown",
      "source": [
        "8. Make an English-to-French dictionary called e2f and print it. Here are your starter words: dog is\n",
        "chien, cat is chat, and walrus is morse.\n",
        "\n",
        "Ans. "
      ],
      "metadata": {
        "id": "53EUo5Vt5SdN"
      }
    },
    {
      "cell_type": "code",
      "source": [
        "e2f = {'dog': 'chien', 'cat': 'chat', 'walrus': 'morse'}\n",
        "\n",
        "e2f"
      ],
      "metadata": {
        "colab": {
          "base_uri": "https://localhost:8080/"
        },
        "id": "otpiBZs_5XVw",
        "outputId": "e4e684d4-efe7-42c7-a102-1b76c20b127c"
      },
      "execution_count": 10,
      "outputs": [
        {
          "output_type": "execute_result",
          "data": {
            "text/plain": [
              "{'dog': 'chien', 'cat': 'chat', 'walrus': 'morse'}"
            ]
          },
          "metadata": {},
          "execution_count": 10
        }
      ]
    },
    {
      "cell_type": "markdown",
      "source": [
        "9. Write the French word for walrus in your three-word dictionary e2f.\n",
        "\n"
      ],
      "metadata": {
        "id": "IVg8soED5dpc"
      }
    },
    {
      "cell_type": "code",
      "source": [
        "e2f['walrus']"
      ],
      "metadata": {
        "colab": {
          "base_uri": "https://localhost:8080/",
          "height": 35
        },
        "id": "EyJf4MSn5g5m",
        "outputId": "20d305a9-27b7-4985-f4ee-42c2ea01bb84"
      },
      "execution_count": 11,
      "outputs": [
        {
          "output_type": "execute_result",
          "data": {
            "text/plain": [
              "'morse'"
            ],
            "application/vnd.google.colaboratory.intrinsic+json": {
              "type": "string"
            }
          },
          "metadata": {},
          "execution_count": 11
        }
      ]
    },
    {
      "cell_type": "markdown",
      "source": [
        "10. Make a French-to-English dictionary called f2e from e2f. Use the items method.\n",
        "\n",
        "Ans. "
      ],
      "metadata": {
        "id": "V1AhXhZI5dxC"
      }
    },
    {
      "cell_type": "code",
      "source": [
        "f2e = {}\n",
        "for english, french in e2f.items():\n",
        "    f2e[french] = english\n",
        "\n",
        "f2e"
      ],
      "metadata": {
        "colab": {
          "base_uri": "https://localhost:8080/"
        },
        "id": "Ed1o7LqN5mxW",
        "outputId": "a8deffce-5849-44c5-b507-8c13ce950074"
      },
      "execution_count": 12,
      "outputs": [
        {
          "output_type": "execute_result",
          "data": {
            "text/plain": [
              "{'chien': 'dog', 'chat': 'cat', 'morse': 'walrus'}"
            ]
          },
          "metadata": {},
          "execution_count": 12
        }
      ]
    },
    {
      "cell_type": "markdown",
      "source": [
        "11. Print the English version of the French word chien using f2e.\n",
        "\n",
        "Ans. "
      ],
      "metadata": {
        "id": "r35YW3xF5uMm"
      }
    },
    {
      "cell_type": "code",
      "source": [
        "f2e['chien']"
      ],
      "metadata": {
        "colab": {
          "base_uri": "https://localhost:8080/",
          "height": 35
        },
        "id": "ekuK3Ekx5zrm",
        "outputId": "83699b03-6de9-4caa-c626-e40ec55c989f"
      },
      "execution_count": 13,
      "outputs": [
        {
          "output_type": "execute_result",
          "data": {
            "text/plain": [
              "'dog'"
            ],
            "application/vnd.google.colaboratory.intrinsic+json": {
              "type": "string"
            }
          },
          "metadata": {},
          "execution_count": 13
        }
      ]
    },
    {
      "cell_type": "markdown",
      "source": [
        "12. Make and print a set of English words from the keys in e2f.\n",
        "\n",
        "Ans. "
      ],
      "metadata": {
        "id": "s-0GBGUY51Pg"
      }
    },
    {
      "cell_type": "code",
      "source": [
        "set(e2f.keys())"
      ],
      "metadata": {
        "colab": {
          "base_uri": "https://localhost:8080/"
        },
        "id": "JVF0iAUb56TO",
        "outputId": "2c6eb7c4-dede-486b-9489-0ed702b70037"
      },
      "execution_count": 14,
      "outputs": [
        {
          "output_type": "execute_result",
          "data": {
            "text/plain": [
              "{'cat', 'dog', 'walrus'}"
            ]
          },
          "metadata": {},
          "execution_count": 14
        }
      ]
    },
    {
      "cell_type": "markdown",
      "source": [
        "13. Make a multilevel dictionary called life. Use these strings for the topmost keys: &#39;animals&#39;, &#39;plants&#39;,\n",
        "and &#39;other&#39;. Make the &#39;animals&#39; key refer to another dictionary with the keys &#39;cats&#39;, &#39;octopi&#39;, and\n",
        "&#39;emus&#39;. Make the &#39;cats&#39; key refer to a list of strings with the values &#39;Henri&#39;, &#39;Grumpy&#39;, and &#39;Lucy&#39;.\n",
        "Make all the other keys refer to empty dictionaries.\n",
        "\n",
        "Ans. "
      ],
      "metadata": {
        "id": "FpUS0UFo585Q"
      }
    },
    {
      "cell_type": "code",
      "source": [
        "life = {\n",
        "        'animals': {\n",
        "            'cats': [\n",
        "                'Henri', 'Grumpy', 'Lucy'\n",
        "                ],\n",
        "            'octopi': {},\n",
        "            'emus': {}\n",
        "            },\n",
        "        'plants': {},\n",
        "        'other': {}\n",
        "        }\n",
        "\n",
        "life"
      ],
      "metadata": {
        "colab": {
          "base_uri": "https://localhost:8080/"
        },
        "id": "a_nOVdWD6D0z",
        "outputId": "119e5059-5931-47df-e984-4f56da060169"
      },
      "execution_count": 15,
      "outputs": [
        {
          "output_type": "execute_result",
          "data": {
            "text/plain": [
              "{'animals': {'cats': ['Henri', 'Grumpy', 'Lucy'], 'octopi': {}, 'emus': {}},\n",
              " 'plants': {},\n",
              " 'other': {}}"
            ]
          },
          "metadata": {},
          "execution_count": 15
        }
      ]
    },
    {
      "cell_type": "markdown",
      "source": [
        "14. Print the top-level keys of life.\n",
        "\n",
        "Ans. "
      ],
      "metadata": {
        "id": "03R5pX2G6JBW"
      }
    },
    {
      "cell_type": "code",
      "source": [
        "print(life.keys())"
      ],
      "metadata": {
        "colab": {
          "base_uri": "https://localhost:8080/"
        },
        "id": "nc0DQZOY6OmF",
        "outputId": "bcbf8f00-4a94-4445-9831-e5b477253d10"
      },
      "execution_count": 16,
      "outputs": [
        {
          "output_type": "stream",
          "name": "stdout",
          "text": [
            "dict_keys(['animals', 'plants', 'other'])\n"
          ]
        }
      ]
    },
    {
      "cell_type": "code",
      "source": [
        "print(list(life.keys()))"
      ],
      "metadata": {
        "colab": {
          "base_uri": "https://localhost:8080/"
        },
        "id": "XChIInMU6PCo",
        "outputId": "9547b43d-7b90-4c18-9505-998cf67612f7"
      },
      "execution_count": 17,
      "outputs": [
        {
          "output_type": "stream",
          "name": "stdout",
          "text": [
            "['animals', 'plants', 'other']\n"
          ]
        }
      ]
    },
    {
      "cell_type": "markdown",
      "source": [
        "15. Print the keys for life[&#39;animals&#39;].\n",
        "\n",
        "Ans. "
      ],
      "metadata": {
        "id": "HP5Jdr726Rr4"
      }
    },
    {
      "cell_type": "code",
      "source": [
        "print(life['animals'].keys())"
      ],
      "metadata": {
        "colab": {
          "base_uri": "https://localhost:8080/"
        },
        "id": "rSpeljH66WAg",
        "outputId": "376f3d07-ccad-4b5c-9398-8888e6edf9da"
      },
      "execution_count": 18,
      "outputs": [
        {
          "output_type": "stream",
          "name": "stdout",
          "text": [
            "dict_keys(['cats', 'octopi', 'emus'])\n"
          ]
        }
      ]
    },
    {
      "cell_type": "markdown",
      "source": [
        "16. Print the values for life[&#39;animals&#39;][&#39;cats&#39;]\n",
        "\n",
        "Ans. "
      ],
      "metadata": {
        "id": "BnZxWNyq6Zef"
      }
    },
    {
      "cell_type": "code",
      "source": [
        "print(life['animals']['cats'])"
      ],
      "metadata": {
        "colab": {
          "base_uri": "https://localhost:8080/"
        },
        "id": "Z3GF2AxM6dR2",
        "outputId": "c7737e0f-01f8-4ccc-e04b-65fa502e6f03"
      },
      "execution_count": 19,
      "outputs": [
        {
          "output_type": "stream",
          "name": "stdout",
          "text": [
            "['Henri', 'Grumpy', 'Lucy']\n"
          ]
        }
      ]
    }
  ]
}