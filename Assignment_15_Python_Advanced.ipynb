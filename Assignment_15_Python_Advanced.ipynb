{
  "nbformat": 4,
  "nbformat_minor": 0,
  "metadata": {
    "colab": {
      "provenance": [],
      "authorship_tag": "ABX9TyOrt/JPXRbnBYhIelnI1afY",
      "include_colab_link": true
    },
    "kernelspec": {
      "name": "python3",
      "display_name": "Python 3"
    },
    "language_info": {
      "name": "python"
    }
  },
  "cells": [
    {
      "cell_type": "markdown",
      "metadata": {
        "id": "view-in-github",
        "colab_type": "text"
      },
      "source": [
        "<a href=\"https://colab.research.google.com/github/Imran0897/Ineuron_Assignments/blob/main/Assignment_15_Python_Advanced.ipynb\" target=\"_parent\"><img src=\"https://colab.research.google.com/assets/colab-badge.svg\" alt=\"Open In Colab\"/></a>"
      ]
    },
    {
      "cell_type": "markdown",
      "source": [
        "1. What are the new features added in Python 3.8 version?\n",
        "\n",
        "Ans. Positional-only parameters(/)\n",
        "\n",
        "There is a new function parameter syntax “/” which indicates that some function parameters must be specified positionally and can’t be used as keyword arguments.\n",
        "\n",
        "Assignment Expressions(:=)\n",
        "\n",
        "This operator is used to assign and return a value in the same expression. This removes the need for initializing the variable upfront.\n",
        "\n",
        "f-strings now support “=”\n",
        "\n",
        "This string formatting mechanism is known as Literal String Interpolation or more commonly as F-strings (because of the leading f character preceding the string literal). The idea behind f-strings is to make string interpolation simpler. Python 3.8 allows the use of the above-discussed assignment operator and equal sign (=) inside the f-strings.\n",
        "\n",
        "reversed() works with a dictionary Unlike Python 3.7, now in Python 3.8, the built-in method “reversed()” can be used for accessing the elements in the reverse order of insertion.\n",
        "\n",
        "No parentheses for return and yield statements ‘yield’ and ‘return’ statements do not require parentheses to return multiple values.\n",
        "\n",
        "pow() function In the three-argument form of pow(), when the exponent is -1, it calculates the modular multiplicative inverse of the given value.\n",
        "\n",
        "Syntax Warning If you miss a comma in your code such as a = [(1, 2) (3, 4)], instead of throwing TypeError, it displays an informative Syntax warning"
      ],
      "metadata": {
        "id": "4Oeyd7CKOFCI"
      }
    },
    {
      "cell_type": "markdown",
      "source": [
        "2. What is monkey patching in Python?\n",
        "\n",
        "Ans. In python, monkey patching refers to run-time modifications of a class or module. In Python, we can actually change the behavior of code at run-time."
      ],
      "metadata": {
        "id": "SXYcx2OsOJpn"
      }
    },
    {
      "cell_type": "markdown",
      "source": [
        "What is the difference between a shallow copy and deep copy?\n",
        "\n",
        "Ans.  In python, when we use = operator, it doesnot create a copy of the object. It just creates the variable, which shares a reference to the same memory location. This is called as shallow copy. In deep copy, new object is a copy of old object and it is created at different memory address and any changes made to new object won't be reflected in old object."
      ],
      "metadata": {
        "id": "9Rm7N2t0ORKn"
      }
    },
    {
      "cell_type": "markdown",
      "source": [
        "4. What is the maximum possible length of an identifier?\n",
        "\n",
        "Ans.  The maximum possible length of an identifier is not defined in Python. It can be any number."
      ],
      "metadata": {
        "id": "vQrXa3ibOY_v"
      }
    },
    {
      "cell_type": "markdown",
      "source": [
        "5. What is generator comprehension?\n",
        "\n",
        "Ans. It is like a list comprehension but it returns an iteraor. We use () instead of [] to achieve this."
      ],
      "metadata": {
        "id": "2FxVmTtjOiFX"
      }
    },
    {
      "cell_type": "code",
      "source": [
        "numbers = (i for i in range(5))\n",
        "\n",
        "print(numbers)\n",
        "\n",
        "print(next(numbers))\n",
        "print(next(numbers))\n",
        "print(next(numbers))\n",
        "print(next(numbers))\n",
        "print(next(numbers))"
      ],
      "metadata": {
        "colab": {
          "base_uri": "https://localhost:8080/"
        },
        "id": "Zkt-X-uYOnEZ",
        "outputId": "087bc679-6da8-45a7-ed92-278219a2b670"
      },
      "execution_count": 1,
      "outputs": [
        {
          "output_type": "stream",
          "name": "stdout",
          "text": [
            "<generator object <genexpr> at 0x7f6f25cd45f0>\n",
            "0\n",
            "1\n",
            "2\n",
            "3\n",
            "4\n"
          ]
        }
      ]
    },
    {
      "cell_type": "code",
      "source": [],
      "metadata": {
        "id": "7gvXO49jOpJc"
      },
      "execution_count": null,
      "outputs": []
    }
  ]
}