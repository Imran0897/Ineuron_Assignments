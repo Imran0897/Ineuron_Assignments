{
  "nbformat": 4,
  "nbformat_minor": 0,
  "metadata": {
    "colab": {
      "provenance": [],
      "authorship_tag": "ABX9TyOg20F4bhq0iZdWjFjjlhIc",
      "include_colab_link": true
    },
    "kernelspec": {
      "name": "python3",
      "display_name": "Python 3"
    },
    "language_info": {
      "name": "python"
    }
  },
  "cells": [
    {
      "cell_type": "markdown",
      "metadata": {
        "id": "view-in-github",
        "colab_type": "text"
      },
      "source": [
        "<a href=\"https://colab.research.google.com/github/Imran0897/Ineuron_Assignments/blob/main/Assignment_2.ipynb\" target=\"_parent\"><img src=\"https://colab.research.google.com/assets/colab-badge.svg\" alt=\"Open In Colab\"/></a>"
      ]
    },
    {
      "cell_type": "markdown",
      "source": [
        "Q1. What is the relationship between classes and modules?\n",
        "\n",
        "Ans. Modules are about providing methods that you can use across multiple classes. Modules are about functions. You dont instantiate modules(e.g. Math module) you just use methods in them.Module is like library of methods. \n",
        "Classes are about objects; it can hold its state (by keeping track of instance variables) and be duplicated as many times as you want."
      ],
      "metadata": {
        "id": "nUzkRvnFNhKz"
      }
    },
    {
      "cell_type": "markdown",
      "source": [
        "Q2. How do you make instances and classes?\n",
        "\n",
        "Ans To create instances of a class, you call the class using class name and pass in whatever arguments its init method accepts.\n",
        "\n",
        "The class statement creates a new class definition. The name of the class immediately follows the keyword class followed by a colon.Explained below"
      ],
      "metadata": {
        "id": "3Ib0Z3zeNuHg"
      }
    },
    {
      "cell_type": "code",
      "source": [
        "class Student:\n",
        "    def __init__(self,name):\n",
        "        self.name = name\n",
        "    \n",
        "    def __str__(self):\n",
        "        return f\"This is {self.name} (an instance of a class Student)\"\n",
        "    \n",
        "student1 = Student(\"XYZ\")       \n",
        "print(student1)"
      ],
      "metadata": {
        "colab": {
          "base_uri": "https://localhost:8080/"
        },
        "id": "uAH-ptqHN-t7",
        "outputId": "a828e7dc-a184-4970-8bb2-e624b539ae61"
      },
      "execution_count": 1,
      "outputs": [
        {
          "output_type": "stream",
          "name": "stdout",
          "text": [
            "This is XYZ (an instance of a class Student)\n"
          ]
        }
      ]
    },
    {
      "cell_type": "markdown",
      "source": [
        "Q3. Where and how should be class attributes created?\n",
        "\n",
        "Ans. Class attributes belong to the class itself they will be shared by all the instances. Such attributes are defined in the class body parts usually at the top, for legibility."
      ],
      "metadata": {
        "id": "VPh9qZVhOPZK"
      }
    },
    {
      "cell_type": "code",
      "source": [
        "class Student:\n",
        "    class_teacher = 'Johnson' \n",
        "    \n",
        "    def __init__(self,name, roll_no): \n",
        "        self.name = name \n",
        "        self.roll_no = roll_no\n",
        "    \n",
        "    def __str__(self):\n",
        "        return f\"This is {self.name} (an instance of a class Student)\"\n",
        "    \n",
        "student1 = Student(\"XYZ\",27)  \n",
        "\n",
        "print(student1.class_teacher) "
      ],
      "metadata": {
        "colab": {
          "base_uri": "https://localhost:8080/"
        },
        "id": "8-Hj0WVjOCpN",
        "outputId": "9d5e94c5-4f16-4d13-f449-8bff36305915"
      },
      "execution_count": 3,
      "outputs": [
        {
          "output_type": "stream",
          "name": "stdout",
          "text": [
            "Johnson\n"
          ]
        }
      ]
    },
    {
      "cell_type": "markdown",
      "source": [
        "Q4. Where and how are instance attributes created?\n",
        "\n",
        "Ans. Unlike class attributes, instance attributes are not shared by objects. Every object has its own copy of the instance attribute. They are created in init method. How they are created is Explained below::"
      ],
      "metadata": {
        "id": "OYISC5dQOE_p"
      }
    },
    {
      "cell_type": "code",
      "source": [
        "class Student:\n",
        "    def __init__(self,name, roll_no): \n",
        "        self.name = name \n",
        "        self.roll_no = roll_no\n",
        "    \n",
        "    def __str__(self):\n",
        "        return f\"This is {self.name} (an instance of a class Student)\"\n",
        "    \n",
        "student1 = Student(\"XYZ\",27)  \n",
        "\n",
        "print(student1.name) \n",
        "print(student1.roll_no)"
      ],
      "metadata": {
        "colab": {
          "base_uri": "https://localhost:8080/"
        },
        "id": "a4mR4iHkOw2r",
        "outputId": "348fc1a6-9e66-4f11-f1c9-d60dadc2a4db"
      },
      "execution_count": 5,
      "outputs": [
        {
          "output_type": "stream",
          "name": "stdout",
          "text": [
            "XYZ\n",
            "27\n"
          ]
        }
      ]
    },
    {
      "cell_type": "markdown",
      "source": [
        "Q5. What does the term &quot;self&quot; in a Python class mean?\n",
        "\n",
        "Ans. Self represents the instance of the class. By using the “self” keyword we can access the attributes and methods of the class in python. It binds the attributes with the given arguments.The reason you need to use self. is because Python does not use the @ syntax to refer to instance attributes. Python decided to do methods in a way that makes the instance to which the method belongs be passed automatically, but not received automatically: the first parameter of methods is the instance the method is called on."
      ],
      "metadata": {
        "id": "bDnaOx7wPAFS"
      }
    },
    {
      "cell_type": "markdown",
      "source": [
        "Q6. How does a Python class handle operator overloading?\n",
        "\n",
        "Ans Operator Overloading means giving extended meaning beyond their predefined operational meaning. For example operator + is used to add two integers as well as join two strings and merge two lists. It is achievable because ‘+’ operator is overloaded by int class and str class."
      ],
      "metadata": {
        "id": "9dk7LOgQPFwH"
      }
    },
    {
      "cell_type": "markdown",
      "source": [
        "Q7. When do you consider allowing operator overloading of your classes?\n",
        "\n",
        "Ans. Let us assumewe have an object called string1 which is a string object as defined below. Now, when we try to add a string to this string object, the compiler will throw an error. This is because the compiler doesn't know how to add them."
      ],
      "metadata": {
        "id": "qr0kXdIuPXjJ"
      }
    },
    {
      "cell_type": "code",
      "source": [
        "class String:\n",
        "    def __init__(self, string):\n",
        "      self.string = string         \n",
        "    def __repr__(self):\n",
        "      return 'Object: {}'.format(self.string)\n",
        "\n",
        "string1 = String('Hello')    \n",
        "print(string1 +' world')"
      ],
      "metadata": {
        "id": "uFjL94YVPtFo"
      },
      "execution_count": null,
      "outputs": []
    },
    {
      "cell_type": "markdown",
      "source": [
        "This error can be avoided by adding the __ add__ method to the String class. This way, we are overloading the + operator to concatenate a string object with a string."
      ],
      "metadata": {
        "id": "zoqmjnNhP-Ro"
      }
    },
    {
      "cell_type": "code",
      "source": [
        "class String:\n",
        "    def __init__(self, string):\n",
        "      self.string = string         \n",
        "                \n",
        "    def __add__(self, other):\n",
        "      return self.string + other\n",
        "            \n",
        "    def __repr__(self):\n",
        "      return 'Object: {}'.format(self.string)\n",
        "\n",
        "string1 = String('Hello')    \n",
        "print(string1 +' world')"
      ],
      "metadata": {
        "colab": {
          "base_uri": "https://localhost:8080/"
        },
        "id": "WoCnhhyNQN1Y",
        "outputId": "c0b50344-e8be-40d2-cb8c-ea44e263c005"
      },
      "execution_count": 12,
      "outputs": [
        {
          "output_type": "stream",
          "name": "stdout",
          "text": [
            "Hello world\n"
          ]
        }
      ]
    },
    {
      "cell_type": "markdown",
      "source": [
        "Q8. What is the most popular form of operator overloading?\n",
        "\n",
        "Ans I feel, most popular form of operator overloading is of addition (+) operator. When two integers are passed to + operator, it will return the sum of two integers. When two strings are passed to + operator, it will return concatenation of two strings."
      ],
      "metadata": {
        "id": "8afsPZ6WQhfp"
      }
    },
    {
      "cell_type": "markdown",
      "source": [
        "Q9. What are the two most important concepts to grasp in order to comprehend Python OOP code?\n",
        "\n",
        "Ans Inheritance and Polymorphism"
      ],
      "metadata": {
        "id": "JR6MHeGgQsBK"
      }
    }
  ]
}