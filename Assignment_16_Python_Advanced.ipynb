{
  "nbformat": 4,
  "nbformat_minor": 0,
  "metadata": {
    "colab": {
      "provenance": [],
      "authorship_tag": "ABX9TyNz8Mqh+mJFe1Y3DtN2+cKv",
      "include_colab_link": true
    },
    "kernelspec": {
      "name": "python3",
      "display_name": "Python 3"
    },
    "language_info": {
      "name": "python"
    }
  },
  "cells": [
    {
      "cell_type": "markdown",
      "metadata": {
        "id": "view-in-github",
        "colab_type": "text"
      },
      "source": [
        "<a href=\"https://colab.research.google.com/github/Imran0897/Ineuron_Assignments/blob/main/Assignment_16_Python_Advanced.ipynb\" target=\"_parent\"><img src=\"https://colab.research.google.com/assets/colab-badge.svg\" alt=\"Open In Colab\"/></a>"
      ]
    },
    {
      "cell_type": "markdown",
      "source": [
        "Q1. What is the benefit of regular expressions?\n",
        "\n",
        "Ans. Regular expression let us search the piece of text that matches the given pattern. The main benefit of using them is, it saves lot of time and are very eeficient to use"
      ],
      "metadata": {
        "id": "PYP0XyBQPbw6"
      }
    },
    {
      "cell_type": "markdown",
      "source": [
        "Q2. Describe the difference between the effects of \"(ab)c+\" and \"a(bc)+.\" Which of these, if any, is the\n",
        "unqualified pattern \"abc+\"?\n",
        "\n",
        "Ans. Pattern (ab)c+ will search for at only one occurence of \"ab\" and one or more occurances of c.\n",
        "\n",
        "Pattern a(bc)+ will search for at only one occurence of \"a\" and one or more occurances of bc.\n",
        "\n",
        "pattern (ab)c+ can be unqualified pattern \"abc+\""
      ],
      "metadata": {
        "id": "enm9L4slPg2v"
      }
    },
    {
      "cell_type": "code",
      "source": [
        "import re\n",
        "\n",
        "match1 = re.search(r'(ab)c+',\"abcccccc\")\n",
        "match2 = re.search(r'a(bc)+',\"abcbc\")\n",
        "\n",
        "print(match1.group())\n",
        "\n",
        "print(match2.group())"
      ],
      "metadata": {
        "colab": {
          "base_uri": "https://localhost:8080/"
        },
        "id": "fFzB8GQZP4bA",
        "outputId": "22a9e983-08c1-41e0-d311-11d3485cd891"
      },
      "execution_count": 1,
      "outputs": [
        {
          "output_type": "stream",
          "name": "stdout",
          "text": [
            "abcccccc\n",
            "abcbc\n"
          ]
        }
      ]
    },
    {
      "cell_type": "markdown",
      "source": [
        "Q3. How much do you need to use the following sentence while using regular expressions?\n",
        "\n",
        "import re\n",
        "\n",
        "Ans. We have to use it everytime we use functions of the module re."
      ],
      "metadata": {
        "id": "nwIyR-ZBP64F"
      }
    },
    {
      "cell_type": "markdown",
      "source": [
        "Q4. Which characters have special significance in square brackets when expressing a range, and\n",
        "under what circumstances?\n",
        "\n",
        "Ans. \\ (backslash) : general escape character, is usd when you use character class metacharacters as literals inside a character class only.\n",
        "\n",
        "^ (circumflex anchor) : negate the class, if this is the first character in the brackets(If ^ is not the first, it is not a metacharacter.)"
      ],
      "metadata": {
        "id": "Sgx5ElzXQGxJ"
      }
    },
    {
      "cell_type": "markdown",
      "source": [
        "Q5. How does compiling a regular-expression object benefit you?\n",
        "\n",
        "Ans. It is faster compared to using pattern ad other re functions."
      ],
      "metadata": {
        "id": "TPN9XbUDQOnl"
      }
    },
    {
      "cell_type": "markdown",
      "source": [
        "Q6. What are some examples of how to use the match object returned by re.match and re.search?\n",
        "\n",
        "Ans. re.search() searches for the whole string even if the string contains multi-lines and tries to find a match of the substring in all the lines of string\n",
        "\n",
        "re.match() searches only from the beginning of the string and return match object if found. But if a match of substring is found somewhere in the middle of the string, it returns none.\n",
        "\n",
        "But, both search() and match() returns only the first occurance of pattern."
      ],
      "metadata": {
        "id": "gMGOOMV6QTrQ"
      }
    },
    {
      "cell_type": "code",
      "source": [
        "import re\n",
        "\n",
        "pattern = 'ineuron'\n",
        "\n",
        "search = re.search(pattern,\"Ineuron is the best coaching class ineuron!\",re.IGNORECASE)\n",
        "\n",
        "print(search)\n",
        "\n",
        "match = re.match(pattern,\"The best coaching class is Ineuron!\",re.IGNORECASE)\n",
        "\n",
        "print(match)"
      ],
      "metadata": {
        "colab": {
          "base_uri": "https://localhost:8080/"
        },
        "id": "xIU6M1xnQdSA",
        "outputId": "d81a7fe7-39ce-4ddb-ee82-f062780cab86"
      },
      "execution_count": 2,
      "outputs": [
        {
          "output_type": "stream",
          "name": "stdout",
          "text": [
            "<re.Match object; span=(0, 7), match='Ineuron'>\n",
            "None\n"
          ]
        }
      ]
    },
    {
      "cell_type": "markdown",
      "source": [
        "Q7. What is the difference between using a vertical bar (|) as an alteration and using square brackets\n",
        "as a character set?\n",
        "\n",
        "Ans. | : is regex or. It will check either of any string is present in search string.\n",
        "\n",
        "[] : This will search for any character is present in string"
      ],
      "metadata": {
        "id": "Hs56eSuUQgdR"
      }
    },
    {
      "cell_type": "code",
      "source": [
        "import re\n",
        "\n",
        "print(re.findall(\"She|he\", \"She is a great human!\"))\n",
        "\n",
        "print(re.findall(r'[^\\d]+',\"she is great human!\"))"
      ],
      "metadata": {
        "colab": {
          "base_uri": "https://localhost:8080/"
        },
        "id": "533g0o8pQpC_",
        "outputId": "ba95020b-6e7f-4702-bf80-95572c2d25c7"
      },
      "execution_count": 3,
      "outputs": [
        {
          "output_type": "stream",
          "name": "stdout",
          "text": [
            "['She']\n",
            "['she is great human!']\n"
          ]
        }
      ]
    },
    {
      "cell_type": "markdown",
      "source": [
        "Q8. In regular-expression search patterns, why is it necessary to use the raw-string indicator (r)? In replacement strings?\n",
        "\n",
        "Ans. r indicates raw string means that the characters ahead are individual charachers not escape characters. It changes how the string literal is interpreted. Such literals are stored as they appear."
      ],
      "metadata": {
        "id": "Akg5fmrVQmP3"
      }
    }
  ]
}