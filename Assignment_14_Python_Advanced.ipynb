{
  "nbformat": 4,
  "nbformat_minor": 0,
  "metadata": {
    "colab": {
      "provenance": [],
      "authorship_tag": "ABX9TyNSs76tTTkNmWZ1IDDRM/dn",
      "include_colab_link": true
    },
    "kernelspec": {
      "name": "python3",
      "display_name": "Python 3"
    },
    "language_info": {
      "name": "python"
    }
  },
  "cells": [
    {
      "cell_type": "markdown",
      "metadata": {
        "id": "view-in-github",
        "colab_type": "text"
      },
      "source": [
        "<a href=\"https://colab.research.google.com/github/Imran0897/Ineuron_Assignments/blob/main/Assignment_14_Python_Advanced.ipynb\" target=\"_parent\"><img src=\"https://colab.research.google.com/assets/colab-badge.svg\" alt=\"Open In Colab\"/></a>"
      ]
    },
    {
      "cell_type": "markdown",
      "source": [
        "Q1. Is an assignment operator like += only for show? Is it possible that it would lead to faster results\n",
        "at the runtime?\n",
        "\n",
        "Ans. += is fatser and easy to write for us. runtime of a += 5 is slightly less than a = a + 5 but, the difference is really minor."
      ],
      "metadata": {
        "id": "6u5QdeMg47WL"
      }
    },
    {
      "cell_type": "markdown",
      "source": [
        "Q2. What is the smallest number of statements you would have to write in most programming languages to\n",
        "replace the Python expression a, b = a + b, a?\n",
        "\n",
        "Ans. 2"
      ],
      "metadata": {
        "id": "q5kjXu6B5Lk3"
      }
    },
    {
      "cell_type": "markdown",
      "source": [
        "Q3. In Python, what is the most effective way to set a list of 100 integers to 0?\n",
        "\n",
        "Ans"
      ],
      "metadata": {
        "id": "IDKwJgRX5Y6o"
      }
    },
    {
      "cell_type": "code",
      "source": [
        "l = [0] * 100\n",
        "\n",
        "print(l)"
      ],
      "metadata": {
        "colab": {
          "base_uri": "https://localhost:8080/"
        },
        "id": "GXadjjN55jkI",
        "outputId": "9c32be7e-3bff-4783-a625-599c3ffe43cf"
      },
      "execution_count": 1,
      "outputs": [
        {
          "output_type": "stream",
          "name": "stdout",
          "text": [
            "[0, 0, 0, 0, 0, 0, 0, 0, 0, 0, 0, 0, 0, 0, 0, 0, 0, 0, 0, 0, 0, 0, 0, 0, 0, 0, 0, 0, 0, 0, 0, 0, 0, 0, 0, 0, 0, 0, 0, 0, 0, 0, 0, 0, 0, 0, 0, 0, 0, 0, 0, 0, 0, 0, 0, 0, 0, 0, 0, 0, 0, 0, 0, 0, 0, 0, 0, 0, 0, 0, 0, 0, 0, 0, 0, 0, 0, 0, 0, 0, 0, 0, 0, 0, 0, 0, 0, 0, 0, 0, 0, 0, 0, 0, 0, 0, 0, 0, 0, 0]\n"
          ]
        }
      ]
    },
    {
      "cell_type": "markdown",
      "source": [
        "Q4. What is the most effective way to initialise a list of 99 integers that repeats the sequence 1, 2, 3?\n",
        "S If necessary, show step-by-step instructions on how to accomplish this.\n",
        "\n",
        "Ans. "
      ],
      "metadata": {
        "id": "dTeky21tL92u"
      }
    },
    {
      "cell_type": "code",
      "source": [
        "l1 = [1,2,3] \n",
        "\n",
        "count = int(101/len(l1)) \n",
        "\n",
        "l =  l1 * count \n",
        "\n",
        "print(l)"
      ],
      "metadata": {
        "colab": {
          "base_uri": "https://localhost:8080/"
        },
        "id": "MKNCIsHj5kGC",
        "outputId": "6d1333ce-d97c-4830-f919-488644bdfd90"
      },
      "execution_count": 3,
      "outputs": [
        {
          "output_type": "stream",
          "name": "stdout",
          "text": [
            "[1, 2, 3, 1, 2, 3, 1, 2, 3, 1, 2, 3, 1, 2, 3, 1, 2, 3, 1, 2, 3, 1, 2, 3, 1, 2, 3, 1, 2, 3, 1, 2, 3, 1, 2, 3, 1, 2, 3, 1, 2, 3, 1, 2, 3, 1, 2, 3, 1, 2, 3, 1, 2, 3, 1, 2, 3, 1, 2, 3, 1, 2, 3, 1, 2, 3, 1, 2, 3, 1, 2, 3, 1, 2, 3, 1, 2, 3, 1, 2, 3, 1, 2, 3, 1, 2, 3, 1, 2, 3, 1, 2, 3, 1, 2, 3, 1, 2, 3]\n"
          ]
        }
      ]
    },
    {
      "cell_type": "markdown",
      "source": [
        "Q5. If you&#39;re using IDLE to run a Python application, explain how to print a multidimensional list as\n",
        "efficiently?\n",
        "\n",
        "Ans. We can print multidimentional list by simply writing the name of the variable in a cell"
      ],
      "metadata": {
        "id": "7B9_QZSpMScW"
      }
    },
    {
      "cell_type": "code",
      "source": [
        "l = [[1,2,3,4],['A','B'],[5,6,7,8]]\n",
        "\n",
        "l"
      ],
      "metadata": {
        "colab": {
          "base_uri": "https://localhost:8080/"
        },
        "id": "tTDsWOzoMdl-",
        "outputId": "724054ec-8dbc-4eca-c6d5-d5b63df2edcb"
      },
      "execution_count": 4,
      "outputs": [
        {
          "output_type": "execute_result",
          "data": {
            "text/plain": [
              "[[1, 2, 3, 4], ['A', 'B'], [5, 6, 7, 8]]"
            ]
          },
          "metadata": {},
          "execution_count": 4
        }
      ]
    },
    {
      "cell_type": "markdown",
      "source": [
        "Q6. Is it possible to use list comprehension with a string? If so, how can you go about doing it?\n",
        "\n",
        "Ans. Yes, it is possible as string is an iterable object. Explained below::"
      ],
      "metadata": {
        "id": "vE3CwkPdMf36"
      }
    },
    {
      "cell_type": "code",
      "source": [
        "s = 'ineuron'\n",
        "\n",
        "[i*2 for i in s]"
      ],
      "metadata": {
        "colab": {
          "base_uri": "https://localhost:8080/"
        },
        "id": "UQFP2MWOMoJw",
        "outputId": "209ce10c-da22-46ce-fc6e-fc81b9c3a4d3"
      },
      "execution_count": 5,
      "outputs": [
        {
          "output_type": "execute_result",
          "data": {
            "text/plain": [
              "['ii', 'nn', 'ee', 'uu', 'rr', 'oo', 'nn']"
            ]
          },
          "metadata": {},
          "execution_count": 5
        }
      ]
    },
    {
      "cell_type": "markdown",
      "source": [
        "Q7. From the command line, how do you get support with a user-written Python programme? Is this\n",
        "possible from inside IDLE?\n",
        "\n",
        "Ans. Steps for command line:\n",
        "\n",
        "    1. Open command prompt.\n",
        "    2. Go to the directory containing python program file(.py)\n",
        "    3. Type \"python file_name.py\", press enter to run the file.\n",
        "\n",
        "Steps for python IDLE:\n",
        "\n",
        "    1. Open python IDLE.\n",
        "    2. Click on file>open>file_name.py\n",
        "    3. Press F5 key to run the program."
      ],
      "metadata": {
        "id": "xiZMZ9MpMstW"
      }
    },
    {
      "cell_type": "markdown",
      "source": [
        "Q8. Functions are said to be “first-class objects” in Python but not in most other languages, such as\n",
        "C++ or Java. What can you do in Python with a function (callable object) that you can&#39;t do in C or\n",
        "C++?\n",
        "\n",
        "Ans. In Python, functions are like any other object, such as an int or a list. That means that you can use functions as arguments to other functions, store functions as dictionary values, or return a function from another function. This leads to many powerful ways to use functions."
      ],
      "metadata": {
        "id": "yP-NaqbyM_YY"
      }
    },
    {
      "cell_type": "markdown",
      "source": [
        "Q9. How do you distinguish between a wrapper, a wrapped feature, and a decorator?\n",
        "\n",
        "Ans. A wrapper, a wrapped feature, and a decorator are all same. They can be thought of as functions which modify the functionality of another function. They help to make your code shorter and more \"Pythonic\"."
      ],
      "metadata": {
        "id": "xWP3i_0GNMGu"
      }
    },
    {
      "cell_type": "markdown",
      "source": [
        "Q10. If a function is a generator function, what does it return?\n",
        "\n",
        "Ans. If a function is a generator function, it does not return any values, instead, it return an iterator object, which we can iterate through to get values."
      ],
      "metadata": {
        "id": "gvohS5LnNRae"
      }
    },
    {
      "cell_type": "markdown",
      "source": [
        "Q11. What is the one improvement that must be made to a function in order for it to become a\n",
        "generator function in the Python language?\n",
        "\n",
        "Ans. We can use \"yield\" keyword instead of \"return\" to make function a generator."
      ],
      "metadata": {
        "id": "hUmiIYaXNYpl"
      }
    },
    {
      "cell_type": "code",
      "source": [
        "def even_nos(n):\n",
        "    for i in range(n):\n",
        "        if i % 2 == 0:\n",
        "            yield i\n",
        "\n",
        "for i in even_nos(10):\n",
        "    print(i)"
      ],
      "metadata": {
        "colab": {
          "base_uri": "https://localhost:8080/"
        },
        "id": "tVqqgPnBM4p3",
        "outputId": "b18a6c97-2633-4427-c67d-8e5505987838"
      },
      "execution_count": 6,
      "outputs": [
        {
          "output_type": "stream",
          "name": "stdout",
          "text": [
            "0\n",
            "2\n",
            "4\n",
            "6\n",
            "8\n"
          ]
        }
      ]
    },
    {
      "cell_type": "markdown",
      "source": [
        "Q12. Identify at least one benefit of generators.\n",
        "\n",
        "Ans. The main advantage here is that instead of having to compute an entire series of values up front, the generator computes one value and then suspends its activity awaiting the next instruction. This feature is known as state suspension.\n",
        "\n",
        "Generators are memory efficient."
      ],
      "metadata": {
        "id": "6P4xUE8aNhC_"
      }
    }
  ]
}