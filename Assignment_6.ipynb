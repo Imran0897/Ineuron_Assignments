{
  "nbformat": 4,
  "nbformat_minor": 0,
  "metadata": {
    "colab": {
      "provenance": [],
      "authorship_tag": "ABX9TyOhlJKQhINWwJmt+V+uNpGd",
      "include_colab_link": true
    },
    "kernelspec": {
      "name": "python3",
      "display_name": "Python 3"
    },
    "language_info": {
      "name": "python"
    }
  },
  "cells": [
    {
      "cell_type": "markdown",
      "metadata": {
        "id": "view-in-github",
        "colab_type": "text"
      },
      "source": [
        "<a href=\"https://colab.research.google.com/github/Imran0897/Ineuron_Assignments/blob/main/Assignment_6.ipynb\" target=\"_parent\"><img src=\"https://colab.research.google.com/assets/colab-badge.svg\" alt=\"Open In Colab\"/></a>"
      ]
    },
    {
      "cell_type": "markdown",
      "source": [
        "Q1. Describe three applications for exception processing.\n",
        "\n",
        "Ans Exceptions are raised when the program is syntactically correct, but the code resulted in an error. This error does not stop the execution of the program, however, it changes the normal flow of the program."
      ],
      "metadata": {
        "id": "u7rQFSP6Xada"
      }
    },
    {
      "cell_type": "code",
      "source": [
        "def div(a,b):   \n",
        "    try:    \n",
        "        c = a/b  \n",
        "        print(\"a/b = \",c)    \n",
        "    except Exception as e:    \n",
        "        print(e)  \n",
        "        return \"can't divide by zero\"\n",
        "    else:    \n",
        "        return \"This is else block and executed when code in try excetues without any exception\"\n",
        "        \n",
        "a = int(input(\"Enter a:\"))    \n",
        "b = int(input(\"Enter b:\"))           \n",
        "print(div(a,b))"
      ],
      "metadata": {
        "colab": {
          "base_uri": "https://localhost:8080/"
        },
        "id": "i-bhRRhuXiVp",
        "outputId": "da9df7f2-f377-4eb7-df9d-40659180bbe8"
      },
      "execution_count": 1,
      "outputs": [
        {
          "output_type": "stream",
          "name": "stdout",
          "text": [
            "Enter a:8\n",
            "Enter b:4\n",
            "a/b =  2.0\n",
            "This is else block and executed when code in try excetues without any exception\n"
          ]
        }
      ]
    },
    {
      "cell_type": "code",
      "source": [
        "try:\n",
        "    f = open('sample.txt','r')\n",
        "except Exception as e:\n",
        "    print(e)\n",
        "else:\n",
        "    print(\"File opened successfully\")\n",
        "    f.close()\n",
        "    \n",
        "print('Program is not interrupted')    "
      ],
      "metadata": {
        "colab": {
          "base_uri": "https://localhost:8080/"
        },
        "id": "KjB1WpYBXiZw",
        "outputId": "20a12beb-e395-44aa-9059-a87aefe15002"
      },
      "execution_count": 2,
      "outputs": [
        {
          "output_type": "stream",
          "name": "stdout",
          "text": [
            "[Errno 2] No such file or directory: 'sample.txt'\n",
            "Program is not interrupted\n"
          ]
        }
      ]
    },
    {
      "cell_type": "code",
      "source": [
        "try:\n",
        "    raise NameError('akash')\n",
        "except NameError as e:\n",
        "    print(\"Excepton!!\")"
      ],
      "metadata": {
        "colab": {
          "base_uri": "https://localhost:8080/"
        },
        "id": "nthwkZbfXidC",
        "outputId": "42fd6ac5-aa9e-4a9d-bb80-4afcbb988f1e"
      },
      "execution_count": 3,
      "outputs": [
        {
          "output_type": "stream",
          "name": "stdout",
          "text": [
            "Excepton!!\n"
          ]
        }
      ]
    },
    {
      "cell_type": "markdown",
      "source": [
        "Q2. What happens if you don&#39;t do something extra to treat an exception?\n",
        "\n",
        "Ans Whenever an exception occurs, the program stops the execution, and thus the further code is not executed. Therefore, an exception is the run-time errors that are unable to handle to Python script. An exception is a Python object that represents an error"
      ],
      "metadata": {
        "id": "8lbxlg_FX_4o"
      }
    },
    {
      "cell_type": "markdown",
      "source": [
        "Q3. What are your options for recovering from an exception in your script?\n",
        "\n",
        "Ans In except block, we write a code to handle exception and next set of actions."
      ],
      "metadata": {
        "id": "IQlTDOVUYHu5"
      }
    },
    {
      "cell_type": "code",
      "source": [
        "def askint():\n",
        "    while True:\n",
        "        try:\n",
        "            a = int(input('Enter an integer value::'))\n",
        "        except Exception as e:\n",
        "            print(e)\n",
        "            print('Please enter an integer value')\n",
        "            continue\n",
        "        else:\n",
        "            print(f'Yes you have entered an ineger {a}')\n",
        "            break\n",
        "        finally:\n",
        "            print('Yayy i always executes!!')\n",
        "        \n",
        "askint()   "
      ],
      "metadata": {
        "colab": {
          "base_uri": "https://localhost:8080/"
        },
        "id": "lVIbFrFpYNxw",
        "outputId": "be8e26a4-3f73-40fc-f91b-c0cb5a744dd2"
      },
      "execution_count": 4,
      "outputs": [
        {
          "output_type": "stream",
          "name": "stdout",
          "text": [
            "Enter an integer value::15\n",
            "Yes you have entered an ineger 15\n",
            "Yayy i always executes!!\n"
          ]
        }
      ]
    },
    {
      "cell_type": "markdown",
      "source": [
        "Q4. Describe two methods for triggering exceptions in your script.\n",
        "\n",
        "Ans. Try statement – This method throws the exceptions when the code within try is executed.\n",
        "\n",
        "Raise – Triggers an exception manually using custom exceptions.\n",
        "\n",
        "Examples are already explained above."
      ],
      "metadata": {
        "id": "imITpk0gYYVI"
      }
    },
    {
      "cell_type": "markdown",
      "source": [
        "Q5. Identify two methods for specifying actions to be executed at termination time, regardless of\n",
        "whether or not an exception exists.\n",
        "\n",
        "Ans. In else block, code is written to handle if no exception is raised by code in try block.\n",
        "\n",
        "In finally block, code executes regardless of whether or not an exception exists."
      ],
      "metadata": {
        "id": "BviQD4MVYdTL"
      }
    },
    {
      "cell_type": "code",
      "source": [],
      "metadata": {
        "id": "6YRy-hR2YjKV"
      },
      "execution_count": null,
      "outputs": []
    }
  ]
}