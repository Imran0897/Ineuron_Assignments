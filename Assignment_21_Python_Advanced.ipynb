{
  "nbformat": 4,
  "nbformat_minor": 0,
  "metadata": {
    "colab": {
      "provenance": [],
      "authorship_tag": "ABX9TyNOlNlsdfPfBCztROxKl+CG",
      "include_colab_link": true
    },
    "kernelspec": {
      "name": "python3",
      "display_name": "Python 3"
    },
    "language_info": {
      "name": "python"
    }
  },
  "cells": [
    {
      "cell_type": "markdown",
      "metadata": {
        "id": "view-in-github",
        "colab_type": "text"
      },
      "source": [
        "<a href=\"https://colab.research.google.com/github/Imran0897/Ineuron_Assignments/blob/main/Assignment_21_Python_Advanced.ipynb\" target=\"_parent\"><img src=\"https://colab.research.google.com/assets/colab-badge.svg\" alt=\"Open In Colab\"/></a>"
      ]
    },
    {
      "cell_type": "markdown",
      "source": [
        "Q1. What is a probability distribution, exactly? If the values are meant to be random, how can you\n",
        "predict them at all?\n",
        "\n",
        "Ans. A probability distribution describes how a random variable is distributed,it tells us which values a random variable is most likely to take on and which values are less likely.Based on the previous data and the occurences of the random event, we can predict the outcome in terms of probabilities."
      ],
      "metadata": {
        "id": "iHBh16OxS7F3"
      }
    },
    {
      "cell_type": "markdown",
      "source": [
        "Q2. Is there a distinction between true random numbers and pseudo-random numbers, if there is\n",
        "one? Why are the latter considered “good enough”?\n",
        "\n",
        "Ans. The difference between true random number(TRN) and pseudo-random number(PRN), is that TRN's are unpredictable physical values means (like atmospheric noise), and PRN are generated using mathematical algorithms (completely\n",
        "computer-generated).The PRN's are good enough as they follow a uniform distribution and the seed for generating PRN is unpredictable and unknown."
      ],
      "metadata": {
        "id": "gwjwiNKBTUVP"
      }
    },
    {
      "cell_type": "markdown",
      "source": [
        "Q4. Provide a real-life example of a normal distribution.\n",
        "\n",
        "Ans. The difference between true random number(TRN) and pseudo-random number(PRN), is that TRN's are unpredictable physical values means (like atmospheric noise), and PRN are generated using mathematical algorithms (completely computer-generated).The PRN's are good enough as they follow a uniform distribution and the seed for generating PRN is unpredictable and unknown."
      ],
      "metadata": {
        "id": "OgsHul-jTmTn"
      }
    },
    {
      "cell_type": "markdown",
      "source": [
        "Q5. In the short term, how can you expect a probability distribution to behave? What do you think will\n",
        "happen as the number of trials grows?\n",
        "\n",
        "Ans. A normal distribution is determined by two parameters the mean and the variance. A normal distribution with a mean of 0 and a standard deviation of 1 is called a standard normal distribution."
      ],
      "metadata": {
        "id": "O8sgLvO7UCa4"
      }
    },
    {
      "cell_type": "markdown",
      "source": [
        "Q6. What kind of object can be shuffled by using random.shuffle?\n",
        "\n",
        "Ans. random.shuffle can used to shuffle list object"
      ],
      "metadata": {
        "id": "cnhvIMGJUS4P"
      }
    },
    {
      "cell_type": "markdown",
      "source": [
        "Q7. Describe the math package&#39;s general categories of functions.\n",
        "\n",
        "Ans. The general categories of math package are\n",
        "\n",
        "1) Trigonometric functions\n",
        "\n",
        "2)Quadratic functions\n",
        "\n",
        "3)Exponential functions\n",
        "\n",
        "4)Hyperbolic functions\n",
        "\n",
        "5)Periodic functions\n",
        "\n",
        "6)Arithmetic functions\n",
        "\n",
        "7)Logarithimic functions\n",
        "\n",
        "8)Conversions to Integer"
      ],
      "metadata": {
        "id": "X0jtVtHJVE8_"
      }
    },
    {
      "cell_type": "markdown",
      "source": [
        "Q8. What is the relationship between exponentiation and logarithms?\n",
        "\n",
        "Ans. The exponential function is given by ƒ(x) = ex, whereas the logarithmic function is given by g(x) = ln x, and former is the inverse of the latter."
      ],
      "metadata": {
        "id": "5jLsobUwVnMA"
      }
    },
    {
      "cell_type": "markdown",
      "source": [
        "Q9. What are the three logarithmic functions that Python supports?\n",
        "\n",
        "Ans. \n",
        "1)log2(x) - logarithmic value of x to base 2\n",
        "\n",
        "2)log10(x) - logarithmic value of x to base 10\n",
        "\n",
        "3)log(x,base) - logarithmic value of x to base. If only first parameter is given , it computes its value tp base e,natural logarithm\n",
        "\n",
        "4)log1p(x) - natural logarithm (base e) value of 1+x"
      ],
      "metadata": {
        "id": "TrrI1tB7WYtf"
      }
    }
  ]
}