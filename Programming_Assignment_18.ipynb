{
  "nbformat": 4,
  "nbformat_minor": 0,
  "metadata": {
    "colab": {
      "provenance": [],
      "authorship_tag": "ABX9TyO7X9mTjvjbRKJsYMHuVbZ0",
      "include_colab_link": true
    },
    "kernelspec": {
      "name": "python3",
      "display_name": "Python 3"
    },
    "language_info": {
      "name": "python"
    }
  },
  "cells": [
    {
      "cell_type": "markdown",
      "metadata": {
        "id": "view-in-github",
        "colab_type": "text"
      },
      "source": [
        "<a href=\"https://colab.research.google.com/github/Imran0897/Ineuron_Assignments/blob/main/Programming_Assignment_18.ipynb\" target=\"_parent\"><img src=\"https://colab.research.google.com/assets/colab-badge.svg\" alt=\"Open In Colab\"/></a>"
      ]
    },
    {
      "cell_type": "code",
      "execution_count": 1,
      "metadata": {
        "id": "Bbvj63VLBACN"
      },
      "outputs": [],
      "source": [
        "#1"
      ]
    },
    {
      "cell_type": "code",
      "source": [
        "def only_str(l):\n",
        "  l1 = []\n",
        "  for i in l:\n",
        "    if type(i)==int:\n",
        "      l1.append(i)\n",
        "  print(l1) "
      ],
      "metadata": {
        "id": "cfmWsZeNCDQ2"
      },
      "execution_count": 7,
      "outputs": []
    },
    {
      "cell_type": "code",
      "source": [
        "only_str([81,' 72', 'aaydf', '1', 123])"
      ],
      "metadata": {
        "colab": {
          "base_uri": "https://localhost:8080/"
        },
        "id": "FriirOSPCeKJ",
        "outputId": "8f515b25-2c9f-4cad-f4d5-41554ffaf512"
      },
      "execution_count": 9,
      "outputs": [
        {
          "output_type": "stream",
          "name": "stdout",
          "text": [
            "[81, 123]\n"
          ]
        }
      ]
    },
    {
      "cell_type": "code",
      "source": [
        "#2"
      ],
      "metadata": {
        "id": "zIrzUgbUDPVV"
      },
      "execution_count": 10,
      "outputs": []
    },
    {
      "cell_type": "code",
      "source": [
        "def reverser(n):\n",
        "  n = n[::-1]\n",
        "\n",
        "  return n.swapcase()"
      ],
      "metadata": {
        "id": "M3BYafZVDhaz"
      },
      "execution_count": 15,
      "outputs": []
    },
    {
      "cell_type": "code",
      "source": [
        "reverser('Hello World')"
      ],
      "metadata": {
        "colab": {
          "base_uri": "https://localhost:8080/",
          "height": 35
        },
        "id": "CPRdL5E-DtM6",
        "outputId": "54ff59ad-fa50-4d12-d1d0-d5fbbf654ef2"
      },
      "execution_count": 16,
      "outputs": [
        {
          "output_type": "execute_result",
          "data": {
            "text/plain": [
              "'DLROw OLLEh'"
            ],
            "application/vnd.google.colaboratory.intrinsic+json": {
              "type": "string"
            }
          },
          "metadata": {},
          "execution_count": 16
        }
      ]
    },
    {
      "cell_type": "code",
      "source": [
        "#3."
      ],
      "metadata": {
        "id": "jhKQM35XEbPv"
      },
      "execution_count": 14,
      "outputs": []
    },
    {
      "cell_type": "code",
      "source": [
        "def first_middle_last(l):\n",
        "  first = l[0]\n",
        "  middle = l[1:-1]\n",
        "  last = l[-1]\n",
        "\n",
        "  return first , middle , last"
      ],
      "metadata": {
        "id": "1_hE0w2yEfCU"
      },
      "execution_count": 23,
      "outputs": []
    },
    {
      "cell_type": "code",
      "source": [
        "first_middle_last([1, 2, 3, 4, 5, 6])"
      ],
      "metadata": {
        "colab": {
          "base_uri": "https://localhost:8080/"
        },
        "id": "LEYDZknWFXQn",
        "outputId": "dec48ce9-2763-4b08-8df4-7a7e95980b27"
      },
      "execution_count": 24,
      "outputs": [
        {
          "output_type": "execute_result",
          "data": {
            "text/plain": [
              "(1, [2, 3, 4, 5], 6)"
            ]
          },
          "metadata": {},
          "execution_count": 24
        }
      ]
    },
    {
      "cell_type": "code",
      "source": [
        "#4."
      ],
      "metadata": {
        "id": "NAHAznYeFviL"
      },
      "execution_count": 25,
      "outputs": []
    },
    {
      "cell_type": "code",
      "source": [
        "def factorial(n):     \n",
        "    if n == 0:\n",
        "        return 1    \n",
        "    return n * factorial(n-1)\n"
      ],
      "metadata": {
        "id": "DDG43LETF69a"
      },
      "execution_count": 26,
      "outputs": []
    },
    {
      "cell_type": "code",
      "source": [
        "factorial(5)"
      ],
      "metadata": {
        "colab": {
          "base_uri": "https://localhost:8080/"
        },
        "id": "wiIF2C6BGBBA",
        "outputId": "2effb954-9fc6-4fea-9c6e-0bf99e678806"
      },
      "execution_count": 27,
      "outputs": [
        {
          "output_type": "execute_result",
          "data": {
            "text/plain": [
              "120"
            ]
          },
          "metadata": {},
          "execution_count": 27
        }
      ]
    },
    {
      "cell_type": "code",
      "source": [
        "#5."
      ],
      "metadata": {
        "id": "n2DmmNruGD0I"
      },
      "execution_count": 28,
      "outputs": []
    },
    {
      "cell_type": "code",
      "source": [
        "def move_to_end(l,a):\n",
        "\n",
        "  l.remove(a)\n",
        "  l.append(a)\n",
        "  return l"
      ],
      "metadata": {
        "id": "9H7fIn4pGRQL"
      },
      "execution_count": 33,
      "outputs": []
    },
    {
      "cell_type": "code",
      "source": [
        "move_to_end([\"a\", 8, \"c\", 1, \"d\", 3, 4],\"c\")"
      ],
      "metadata": {
        "colab": {
          "base_uri": "https://localhost:8080/"
        },
        "id": "bSmoYBP6Gdob",
        "outputId": "d14e5d98-c222-4e6d-d872-08bdeed69f52"
      },
      "execution_count": 35,
      "outputs": [
        {
          "output_type": "execute_result",
          "data": {
            "text/plain": [
              "['a', 8, 1, 'd', 3, 4, 'c']"
            ]
          },
          "metadata": {},
          "execution_count": 35
        }
      ]
    },
    {
      "cell_type": "code",
      "source": [],
      "metadata": {
        "id": "ehU1Aik_GlMg"
      },
      "execution_count": null,
      "outputs": []
    }
  ]
}