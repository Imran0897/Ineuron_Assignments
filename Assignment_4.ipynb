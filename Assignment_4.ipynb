{
  "nbformat": 4,
  "nbformat_minor": 0,
  "metadata": {
    "colab": {
      "provenance": [],
      "authorship_tag": "ABX9TyNYypsxugc+KeLqnMeekQ23",
      "include_colab_link": true
    },
    "kernelspec": {
      "name": "python3",
      "display_name": "Python 3"
    },
    "language_info": {
      "name": "python"
    }
  },
  "cells": [
    {
      "cell_type": "markdown",
      "metadata": {
        "id": "view-in-github",
        "colab_type": "text"
      },
      "source": [
        "<a href=\"https://colab.research.google.com/github/Imran0897/Ineuron_Assignments/blob/main/Assignment_4.ipynb\" target=\"_parent\"><img src=\"https://colab.research.google.com/assets/colab-badge.svg\" alt=\"Open In Colab\"/></a>"
      ]
    },
    {
      "cell_type": "markdown",
      "source": [
        "Q1. Which two operator overloading methods can you use in your classes to support iteration?\n",
        "\n",
        "Ans. add() and mul() methods can be used for both integers and string data objects. String is iterable object. When two strings are passed to + operator, it will return concatenated string. When * (number) is preceeded by string, then that string is repeated those many number of time."
      ],
      "metadata": {
        "id": "RNQxTJHDTJ9S"
      }
    },
    {
      "cell_type": "markdown",
      "source": [
        "Q2. In what contexts do the two operator overloading methods manage printing?\n",
        "\n",
        "Ans It depends on the input parameter result is printed. Example, If both inputs are string function will print string output."
      ],
      "metadata": {
        "id": "xhQGMUY8UvOx"
      }
    },
    {
      "cell_type": "markdown",
      "source": [
        "Q3. In a class, how do you intercept slice operations?"
      ],
      "metadata": {
        "id": "dgDVoNbSU2jy"
      }
    },
    {
      "cell_type": "code",
      "source": [
        "import profile\n",
        "import sys\n",
        "\n",
        "\n",
        "\n",
        "class InterceptedList2(list):\n",
        "\n",
        "    def __setitem__(self, key, value):\n",
        "        print ('saving')\n",
        "        list.__setitem__(self, key, value)\n",
        "\n",
        "    def __delitem__(self, key):\n",
        "        print ('saving')\n",
        "        list.__delitem__(self, key)\n",
        "\n",
        "\n",
        "\n",
        "l2 = InterceptedList2()\n",
        "l2.extend([1,2,3,4])\n",
        "profile.run(\"l2[3:] = [5]\")\n",
        "profile.run(\"l2[2:6] = [12,4]\")\n",
        "profile.run(\"l2[-1:] = [42]\")\n",
        "profile.run(\"l2[::2] = [6,6]\")"
      ],
      "metadata": {
        "colab": {
          "base_uri": "https://localhost:8080/"
        },
        "id": "aSY3FmcRUubT",
        "outputId": "7e681c66-1db0-4eb1-cb39-a0e2ff4d3f89"
      },
      "execution_count": 1,
      "outputs": [
        {
          "output_type": "stream",
          "name": "stdout",
          "text": [
            "saving\n",
            "         40 function calls in 0.001 seconds\n",
            "\n",
            "   Ordered by: standard name\n",
            "\n",
            "   ncalls  tottime  percall  cumtime  percall filename:lineno(function)\n",
            "        3    0.000    0.000    0.000    0.000 :0(acquire)\n",
            "        3    0.000    0.000    0.000    0.000 :0(append)\n",
            "        1    0.000    0.000    0.000    0.000 :0(exec)\n",
            "        2    0.000    0.000    0.000    0.000 :0(getpid)\n",
            "        2    0.000    0.000    0.000    0.000 :0(isinstance)\n",
            "        1    0.000    0.000    0.000    0.000 :0(print)\n",
            "        1    0.000    0.000    0.000    0.000 :0(setprofile)\n",
            "        1    0.000    0.000    0.000    0.000 <ipython-input-1-e65e972bf339>:8(__setitem__)\n",
            "        1    0.000    0.000    0.000    0.000 <string>:1(<module>)\n",
            "        3    0.000    0.000    0.000    0.000 iostream.py:195(schedule)\n",
            "        2    0.000    0.000    0.000    0.000 iostream.py:308(_is_master_process)\n",
            "        2    0.000    0.000    0.000    0.000 iostream.py:321(_schedule_flush)\n",
            "        2    0.000    0.000    0.000    0.000 iostream.py:384(write)\n",
            "        3    0.000    0.000    0.000    0.000 iostream.py:91(_event_pipe)\n",
            "        1    0.000    0.000    0.001    0.001 profile:0(l2[3:] = [5])\n",
            "        0    0.000             0.000          profile:0(profiler)\n",
            "        3    0.000    0.000    0.000    0.000 socket.py:543(send)\n",
            "        3    0.000    0.000    0.000    0.000 threading.py:1102(_wait_for_tstate_lock)\n",
            "        3    0.000    0.000    0.000    0.000 threading.py:1169(is_alive)\n",
            "        3    0.000    0.000    0.000    0.000 threading.py:553(is_set)\n",
            "\n",
            "\n",
            "saving\n",
            "         32 function calls in 0.000 seconds\n",
            "\n",
            "   Ordered by: standard name\n",
            "\n",
            "   ncalls  tottime  percall  cumtime  percall filename:lineno(function)\n",
            "        2    0.000    0.000    0.000    0.000 :0(acquire)\n",
            "        2    0.000    0.000    0.000    0.000 :0(append)\n",
            "        1    0.000    0.000    0.000    0.000 :0(exec)\n",
            "        2    0.000    0.000    0.000    0.000 :0(getpid)\n",
            "        2    0.000    0.000    0.000    0.000 :0(isinstance)\n",
            "        1    0.000    0.000    0.000    0.000 :0(print)\n",
            "        1    0.000    0.000    0.000    0.000 :0(setprofile)\n",
            "        1    0.000    0.000    0.000    0.000 <ipython-input-1-e65e972bf339>:8(__setitem__)\n",
            "        1    0.000    0.000    0.000    0.000 <string>:1(<module>)\n",
            "        2    0.000    0.000    0.000    0.000 iostream.py:195(schedule)\n",
            "        2    0.000    0.000    0.000    0.000 iostream.py:308(_is_master_process)\n",
            "        2    0.000    0.000    0.000    0.000 iostream.py:321(_schedule_flush)\n",
            "        2    0.000    0.000    0.000    0.000 iostream.py:384(write)\n",
            "        2    0.000    0.000    0.000    0.000 iostream.py:91(_event_pipe)\n",
            "        1    0.000    0.000    0.000    0.000 profile:0(l2[2:6] = [12,4])\n",
            "        0    0.000             0.000          profile:0(profiler)\n",
            "        2    0.000    0.000    0.000    0.000 socket.py:543(send)\n",
            "        2    0.000    0.000    0.000    0.000 threading.py:1102(_wait_for_tstate_lock)\n",
            "        2    0.000    0.000    0.000    0.000 threading.py:1169(is_alive)\n",
            "        2    0.000    0.000    0.000    0.000 threading.py:553(is_set)\n",
            "\n",
            "\n",
            "saving\n",
            "         32 function calls in 0.001 seconds\n",
            "\n",
            "   Ordered by: standard name\n",
            "\n",
            "   ncalls  tottime  percall  cumtime  percall filename:lineno(function)\n",
            "        2    0.000    0.000    0.000    0.000 :0(acquire)\n",
            "        2    0.000    0.000    0.000    0.000 :0(append)\n",
            "        1    0.000    0.000    0.001    0.001 :0(exec)\n",
            "        2    0.000    0.000    0.000    0.000 :0(getpid)\n",
            "        2    0.000    0.000    0.000    0.000 :0(isinstance)\n",
            "        1    0.000    0.000    0.000    0.000 :0(print)\n",
            "        1    0.000    0.000    0.000    0.000 :0(setprofile)\n",
            "        1    0.000    0.000    0.000    0.000 <ipython-input-1-e65e972bf339>:8(__setitem__)\n",
            "        1    0.000    0.000    0.000    0.000 <string>:1(<module>)\n",
            "        2    0.000    0.000    0.000    0.000 iostream.py:195(schedule)\n",
            "        2    0.000    0.000    0.000    0.000 iostream.py:308(_is_master_process)\n",
            "        2    0.000    0.000    0.000    0.000 iostream.py:321(_schedule_flush)\n",
            "        2    0.000    0.000    0.000    0.000 iostream.py:384(write)\n",
            "        2    0.000    0.000    0.000    0.000 iostream.py:91(_event_pipe)\n",
            "        1    0.000    0.000    0.001    0.001 profile:0(l2[-1:] = [42])\n",
            "        0    0.000             0.000          profile:0(profiler)\n",
            "        2    0.000    0.000    0.000    0.000 socket.py:543(send)\n",
            "        2    0.000    0.000    0.000    0.000 threading.py:1102(_wait_for_tstate_lock)\n",
            "        2    0.000    0.000    0.000    0.000 threading.py:1169(is_alive)\n",
            "        2    0.000    0.000    0.000    0.000 threading.py:553(is_set)\n",
            "\n",
            "\n",
            "saving\n",
            "         32 function calls in 0.000 seconds\n",
            "\n",
            "   Ordered by: standard name\n",
            "\n",
            "   ncalls  tottime  percall  cumtime  percall filename:lineno(function)\n",
            "        2    0.000    0.000    0.000    0.000 :0(acquire)\n",
            "        2    0.000    0.000    0.000    0.000 :0(append)\n",
            "        1    0.000    0.000    0.000    0.000 :0(exec)\n",
            "        2    0.000    0.000    0.000    0.000 :0(getpid)\n",
            "        2    0.000    0.000    0.000    0.000 :0(isinstance)\n",
            "        1    0.000    0.000    0.000    0.000 :0(print)\n",
            "        1    0.000    0.000    0.000    0.000 :0(setprofile)\n",
            "        1    0.000    0.000    0.000    0.000 <ipython-input-1-e65e972bf339>:8(__setitem__)\n",
            "        1    0.000    0.000    0.000    0.000 <string>:1(<module>)\n",
            "        2    0.000    0.000    0.000    0.000 iostream.py:195(schedule)\n",
            "        2    0.000    0.000    0.000    0.000 iostream.py:308(_is_master_process)\n",
            "        2    0.000    0.000    0.000    0.000 iostream.py:321(_schedule_flush)\n",
            "        2    0.000    0.000    0.000    0.000 iostream.py:384(write)\n",
            "        2    0.000    0.000    0.000    0.000 iostream.py:91(_event_pipe)\n",
            "        1    0.000    0.000    0.000    0.000 profile:0(l2[::2] = [6,6])\n",
            "        0    0.000             0.000          profile:0(profiler)\n",
            "        2    0.000    0.000    0.000    0.000 socket.py:543(send)\n",
            "        2    0.000    0.000    0.000    0.000 threading.py:1102(_wait_for_tstate_lock)\n",
            "        2    0.000    0.000    0.000    0.000 threading.py:1169(is_alive)\n",
            "        2    0.000    0.000    0.000    0.000 threading.py:553(is_set)\n",
            "\n",
            "\n"
          ]
        }
      ]
    },
    {
      "cell_type": "markdown",
      "source": [
        "Q4. In a class, how do you capture in-place addition?\n",
        "\n",
        "Ans. Python in its definition provides methods to perform inplace operations, i.e doing assignment and computation in a single statement using “operator” module. For example,\n",
        "\n",
        "x += y is equivalent to x = operator.iadd(x, y)\n",
        "\n",
        "iadd() function is used to assign and add the current value. This operation does “a+=b” operation. Assigning is not performed in case of immutable containers, such as strings, numbers and tuples."
      ],
      "metadata": {
        "id": "PnNhidqkVANL"
      }
    },
    {
      "cell_type": "markdown",
      "source": [
        "Q5. When is it appropriate to use operator overloading?\n",
        "\n",
        "Ans When we have two objects which are a physical representation of a class (user-defined data type) and we have to add two objects with binary ‘+’ operator it throws an error, because compiler don’t know how to add two objects. So we define a method for an operator and that process is called operator overloading."
      ],
      "metadata": {
        "id": "JkYXQGWfVMUb"
      }
    }
  ]
}