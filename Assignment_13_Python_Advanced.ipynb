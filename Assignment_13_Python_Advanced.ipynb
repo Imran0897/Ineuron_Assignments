{
  "nbformat": 4,
  "nbformat_minor": 0,
  "metadata": {
    "colab": {
      "provenance": [],
      "authorship_tag": "ABX9TyMJW7/5Z3RkZKczKWqLaPvH",
      "include_colab_link": true
    },
    "kernelspec": {
      "name": "python3",
      "display_name": "Python 3"
    },
    "language_info": {
      "name": "python"
    }
  },
  "cells": [
    {
      "cell_type": "markdown",
      "metadata": {
        "id": "view-in-github",
        "colab_type": "text"
      },
      "source": [
        "<a href=\"https://colab.research.google.com/github/Imran0897/Ineuron_Assignments/blob/main/Assignment_13_Python_Advanced.ipynb\" target=\"_parent\"><img src=\"https://colab.research.google.com/assets/colab-badge.svg\" alt=\"Open In Colab\"/></a>"
      ]
    },
    {
      "cell_type": "markdown",
      "source": [
        "Q1. Can you create a programme or function that employs both positive and negative indexing? Is\n",
        "there any repercussion if you do so?\n",
        "\n",
        "Ans.  Python supports negative indexing of an iterable object. We can access the elements of a object from the end by indexes starting from -1, -2, -3... There is no repercussion if we use either positive or negative indexing."
      ],
      "metadata": {
        "id": "OHdCfbUq0idh"
      }
    },
    {
      "cell_type": "code",
      "source": [
        "def indexing(data, typ):\n",
        "    if typ == 'positive':\n",
        "        print(data[0:])\n",
        "        print(data[3:len(data)-1])\n",
        "    if typ == 'negative':\n",
        "        print(data[-2])\n",
        "        print(data[-1:0:-1])\n",
        "        print(data[-3:-1])     \n",
        "    \n",
        "indexing(\"abcdefg\",'positive')\n",
        "indexing([1,2,3,4,5,6,7],'positive')"
      ],
      "metadata": {
        "colab": {
          "base_uri": "https://localhost:8080/"
        },
        "id": "Hzf_1XD907gg",
        "outputId": "9c3a5e0d-91a5-4888-d926-e6d7497eed4c"
      },
      "execution_count": 2,
      "outputs": [
        {
          "output_type": "stream",
          "name": "stdout",
          "text": [
            "abcdefg\n",
            "def\n",
            "[1, 2, 3, 4, 5, 6, 7]\n",
            "[4, 5, 6]\n"
          ]
        }
      ]
    },
    {
      "cell_type": "markdown",
      "source": [
        "Q2. What is the most effective way of starting with 1,000 elements in a Python list? Assume that all\n",
        "elements should be set to the same value.\n",
        "\n",
        "Ans. We can use * operator for this."
      ],
      "metadata": {
        "id": "VhUrnDqx1M-o"
      }
    },
    {
      "cell_type": "code",
      "source": [
        "my_list = [12] * 1000\n",
        "print(\"Length of the list is::\",len(my_list))\n",
        "print(my_list)"
      ],
      "metadata": {
        "colab": {
          "base_uri": "https://localhost:8080/"
        },
        "id": "jebKOY3m1k6j",
        "outputId": "c61a72d4-54e9-40d6-d39d-c82f340f907c"
      },
      "execution_count": 4,
      "outputs": [
        {
          "output_type": "stream",
          "name": "stdout",
          "text": [
            "Length of the list is:: 1000\n",
            "[12, 12, 12, 12, 12, 12, 12, 12, 12, 12, 12, 12, 12, 12, 12, 12, 12, 12, 12, 12, 12, 12, 12, 12, 12, 12, 12, 12, 12, 12, 12, 12, 12, 12, 12, 12, 12, 12, 12, 12, 12, 12, 12, 12, 12, 12, 12, 12, 12, 12, 12, 12, 12, 12, 12, 12, 12, 12, 12, 12, 12, 12, 12, 12, 12, 12, 12, 12, 12, 12, 12, 12, 12, 12, 12, 12, 12, 12, 12, 12, 12, 12, 12, 12, 12, 12, 12, 12, 12, 12, 12, 12, 12, 12, 12, 12, 12, 12, 12, 12, 12, 12, 12, 12, 12, 12, 12, 12, 12, 12, 12, 12, 12, 12, 12, 12, 12, 12, 12, 12, 12, 12, 12, 12, 12, 12, 12, 12, 12, 12, 12, 12, 12, 12, 12, 12, 12, 12, 12, 12, 12, 12, 12, 12, 12, 12, 12, 12, 12, 12, 12, 12, 12, 12, 12, 12, 12, 12, 12, 12, 12, 12, 12, 12, 12, 12, 12, 12, 12, 12, 12, 12, 12, 12, 12, 12, 12, 12, 12, 12, 12, 12, 12, 12, 12, 12, 12, 12, 12, 12, 12, 12, 12, 12, 12, 12, 12, 12, 12, 12, 12, 12, 12, 12, 12, 12, 12, 12, 12, 12, 12, 12, 12, 12, 12, 12, 12, 12, 12, 12, 12, 12, 12, 12, 12, 12, 12, 12, 12, 12, 12, 12, 12, 12, 12, 12, 12, 12, 12, 12, 12, 12, 12, 12, 12, 12, 12, 12, 12, 12, 12, 12, 12, 12, 12, 12, 12, 12, 12, 12, 12, 12, 12, 12, 12, 12, 12, 12, 12, 12, 12, 12, 12, 12, 12, 12, 12, 12, 12, 12, 12, 12, 12, 12, 12, 12, 12, 12, 12, 12, 12, 12, 12, 12, 12, 12, 12, 12, 12, 12, 12, 12, 12, 12, 12, 12, 12, 12, 12, 12, 12, 12, 12, 12, 12, 12, 12, 12, 12, 12, 12, 12, 12, 12, 12, 12, 12, 12, 12, 12, 12, 12, 12, 12, 12, 12, 12, 12, 12, 12, 12, 12, 12, 12, 12, 12, 12, 12, 12, 12, 12, 12, 12, 12, 12, 12, 12, 12, 12, 12, 12, 12, 12, 12, 12, 12, 12, 12, 12, 12, 12, 12, 12, 12, 12, 12, 12, 12, 12, 12, 12, 12, 12, 12, 12, 12, 12, 12, 12, 12, 12, 12, 12, 12, 12, 12, 12, 12, 12, 12, 12, 12, 12, 12, 12, 12, 12, 12, 12, 12, 12, 12, 12, 12, 12, 12, 12, 12, 12, 12, 12, 12, 12, 12, 12, 12, 12, 12, 12, 12, 12, 12, 12, 12, 12, 12, 12, 12, 12, 12, 12, 12, 12, 12, 12, 12, 12, 12, 12, 12, 12, 12, 12, 12, 12, 12, 12, 12, 12, 12, 12, 12, 12, 12, 12, 12, 12, 12, 12, 12, 12, 12, 12, 12, 12, 12, 12, 12, 12, 12, 12, 12, 12, 12, 12, 12, 12, 12, 12, 12, 12, 12, 12, 12, 12, 12, 12, 12, 12, 12, 12, 12, 12, 12, 12, 12, 12, 12, 12, 12, 12, 12, 12, 12, 12, 12, 12, 12, 12, 12, 12, 12, 12, 12, 12, 12, 12, 12, 12, 12, 12, 12, 12, 12, 12, 12, 12, 12, 12, 12, 12, 12, 12, 12, 12, 12, 12, 12, 12, 12, 12, 12, 12, 12, 12, 12, 12, 12, 12, 12, 12, 12, 12, 12, 12, 12, 12, 12, 12, 12, 12, 12, 12, 12, 12, 12, 12, 12, 12, 12, 12, 12, 12, 12, 12, 12, 12, 12, 12, 12, 12, 12, 12, 12, 12, 12, 12, 12, 12, 12, 12, 12, 12, 12, 12, 12, 12, 12, 12, 12, 12, 12, 12, 12, 12, 12, 12, 12, 12, 12, 12, 12, 12, 12, 12, 12, 12, 12, 12, 12, 12, 12, 12, 12, 12, 12, 12, 12, 12, 12, 12, 12, 12, 12, 12, 12, 12, 12, 12, 12, 12, 12, 12, 12, 12, 12, 12, 12, 12, 12, 12, 12, 12, 12, 12, 12, 12, 12, 12, 12, 12, 12, 12, 12, 12, 12, 12, 12, 12, 12, 12, 12, 12, 12, 12, 12, 12, 12, 12, 12, 12, 12, 12, 12, 12, 12, 12, 12, 12, 12, 12, 12, 12, 12, 12, 12, 12, 12, 12, 12, 12, 12, 12, 12, 12, 12, 12, 12, 12, 12, 12, 12, 12, 12, 12, 12, 12, 12, 12, 12, 12, 12, 12, 12, 12, 12, 12, 12, 12, 12, 12, 12, 12, 12, 12, 12, 12, 12, 12, 12, 12, 12, 12, 12, 12, 12, 12, 12, 12, 12, 12, 12, 12, 12, 12, 12, 12, 12, 12, 12, 12, 12, 12, 12, 12, 12, 12, 12, 12, 12, 12, 12, 12, 12, 12, 12, 12, 12, 12, 12, 12, 12, 12, 12, 12, 12, 12, 12, 12, 12, 12, 12, 12, 12, 12, 12, 12, 12, 12, 12, 12, 12, 12, 12, 12, 12, 12, 12, 12, 12, 12, 12, 12, 12, 12, 12, 12, 12, 12, 12, 12, 12, 12, 12, 12, 12, 12, 12, 12, 12, 12, 12, 12, 12, 12, 12, 12, 12, 12, 12, 12, 12, 12, 12, 12, 12, 12, 12, 12, 12, 12, 12, 12, 12, 12, 12, 12, 12, 12, 12, 12, 12, 12, 12, 12, 12, 12, 12, 12, 12, 12, 12, 12, 12, 12, 12, 12, 12, 12, 12, 12, 12, 12, 12, 12, 12, 12, 12, 12, 12, 12, 12, 12, 12, 12, 12, 12, 12, 12, 12, 12, 12, 12, 12, 12, 12, 12, 12, 12, 12, 12, 12, 12, 12, 12, 12, 12, 12, 12, 12, 12, 12, 12, 12, 12, 12, 12, 12, 12, 12, 12, 12, 12, 12, 12, 12, 12, 12, 12, 12, 12, 12, 12, 12, 12, 12, 12, 12, 12, 12, 12, 12, 12, 12, 12, 12, 12, 12, 12, 12, 12, 12, 12, 12, 12, 12, 12, 12, 12, 12, 12, 12, 12, 12, 12, 12, 12, 12, 12, 12, 12, 12, 12, 12, 12, 12, 12, 12, 12, 12]\n"
          ]
        }
      ]
    },
    {
      "cell_type": "markdown",
      "source": [
        "Q3. How do you slice a list to get any other part while missing the rest? (For example, suppose you\n",
        "want to make a new list with the elements first, third, fifth, seventh, and so on.)\n",
        "\n",
        "Ans. We use list slicing operations to acheive this."
      ],
      "metadata": {
        "id": "HWpmkASn1NNi"
      }
    },
    {
      "cell_type": "code",
      "source": [
        "my_list = [1,2,3,4,5,6,7,8,9,10,11,12]\n",
        "\n",
        "new_list = my_list[1:len(my_list):2]\n",
        "\n",
        "print(new_list)"
      ],
      "metadata": {
        "colab": {
          "base_uri": "https://localhost:8080/"
        },
        "id": "GnHubCOn1yLB",
        "outputId": "62f3e1d6-d2f4-464a-e287-628b74fb8536"
      },
      "execution_count": 5,
      "outputs": [
        {
          "output_type": "stream",
          "name": "stdout",
          "text": [
            "[2, 4, 6, 8, 10, 12]\n"
          ]
        }
      ]
    },
    {
      "cell_type": "markdown",
      "source": [
        "Q4. Explain the distinctions between indexing and slicing.\n",
        "\n",
        "Ans. Indexing is the way of accessing a single element of the object by its index or position, where as, slicing enables us to access the sub parts of object. Slicing can be done using indexes."
      ],
      "metadata": {
        "id": "rzCoINv317Dr"
      }
    },
    {
      "cell_type": "code",
      "source": [
        "my_list = [1,2,3,4,5,6,7,8,9,10,11,12]\n",
        "\n",
        "new_list = my_list[1:len(my_list):2]\n",
        "\n",
        "print(new_list)\n",
        "\n",
        "print(new_list[2]) "
      ],
      "metadata": {
        "colab": {
          "base_uri": "https://localhost:8080/"
        },
        "id": "3PfA_l8Y109K",
        "outputId": "7488b0b8-0005-4542-bc85-984a42f82a73"
      },
      "execution_count": 7,
      "outputs": [
        {
          "output_type": "stream",
          "name": "stdout",
          "text": [
            "[2, 4, 6, 8, 10, 12]\n",
            "6\n"
          ]
        }
      ]
    },
    {
      "cell_type": "markdown",
      "source": [
        "Q5. What happens if one of the slicing expressions indexes is out of range?\n",
        "\n",
        "Ans The slicing operation doesn’t raise an error if one of the indices are out of range. This is in not in the case of indexing;if you index an element that is out of bounds, Python will throw an index out of bounds error. However, with slicing it simply returns an exisiting accessed elements. It stops accessing elements after the end of the object is reached.\n",
        "\n"
      ],
      "metadata": {
        "id": "bE0w0iso2f41"
      }
    },
    {
      "cell_type": "markdown",
      "source": [
        "Q6. If you pass a list to a function, and if you want the function to be able to change the values of the\n",
        "list—so that the list is different after the function returns—what action should you avoid?\n",
        "\n",
        "Ans. We should avoid passing the list as an argument in the function by value. If we do so, it will point to different memory location and will not be able alter the list"
      ],
      "metadata": {
        "id": "68KqIpeL2f-f"
      }
    },
    {
      "cell_type": "markdown",
      "source": [
        "Q7. What is the concept of an unbalanced matrix?\n",
        "\n",
        "Ans. A matrix is balanced if all cells in the matrix are balanced and a cell of the matrix is balanced if the number of cells in that matrix that are adjacent to that cell is strictly greater than the value written in this cell. Adjacent cell means cells in the top, down, left, and right cell of each cell if it exists."
      ],
      "metadata": {
        "id": "eztxeGEI2Iu2"
      }
    },
    {
      "cell_type": "code",
      "source": [
        "import numpy as np\n",
        "\n",
        "mat = np.matrix([[1, 2, 3],[4, 5, 6],[7, 8, 9]])\n",
        "mat \n",
        "\n",
        "# This is unbalanced matrix"
      ],
      "metadata": {
        "colab": {
          "base_uri": "https://localhost:8080/"
        },
        "id": "Ntz9Wshh3lcb",
        "outputId": "eeb77f2c-a9a1-4d76-e88b-d9bf2e20089b"
      },
      "execution_count": 8,
      "outputs": [
        {
          "output_type": "execute_result",
          "data": {
            "text/plain": [
              "matrix([[1, 2, 3],\n",
              "        [4, 5, 6],\n",
              "        [7, 8, 9]])"
            ]
          },
          "metadata": {},
          "execution_count": 8
        }
      ]
    },
    {
      "cell_type": "markdown",
      "source": [
        "Q8. Why is it necessary to use either list comprehension or a loop to create arbitrarily large matrices?\n",
        "\n",
        "Ans. In Python 3, we can use numpy library to create large matrices instaed of list comprehension or a loop."
      ],
      "metadata": {
        "id": "tM7rrB5Z3OnB"
      }
    }
  ]
}