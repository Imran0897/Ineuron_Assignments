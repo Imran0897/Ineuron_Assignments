{
  "nbformat": 4,
  "nbformat_minor": 0,
  "metadata": {
    "colab": {
      "provenance": [],
      "authorship_tag": "ABX9TyMB4Ir/q8yba0HJiuMPe7u5",
      "include_colab_link": true
    },
    "kernelspec": {
      "name": "python3",
      "display_name": "Python 3"
    },
    "language_info": {
      "name": "python"
    }
  },
  "cells": [
    {
      "cell_type": "markdown",
      "metadata": {
        "id": "view-in-github",
        "colab_type": "text"
      },
      "source": [
        "<a href=\"https://colab.research.google.com/github/Imran0897/Ineuron_Assignments/blob/main/Assignment_25_Basic_Python.ipynb\" target=\"_parent\"><img src=\"https://colab.research.google.com/assets/colab-badge.svg\" alt=\"Open In Colab\"/></a>"
      ]
    },
    {
      "cell_type": "markdown",
      "source": [
        "1) . What is the difference between enclosing a list comprehension in square brackets and\n",
        "parentheses?\n",
        "\n",
        "Ans. List Comprehension with square brackets produces list.\n",
        "List Comprehension with parentheses creates generators"
      ],
      "metadata": {
        "id": "yizruGyFWuGt"
      }
    },
    {
      "cell_type": "code",
      "source": [
        "lstSquare = [i for i in range(10)]\n",
        "lstSquare"
      ],
      "metadata": {
        "colab": {
          "base_uri": "https://localhost:8080/"
        },
        "id": "TfxhQkY1W7n1",
        "outputId": "b6efd3ea-aaae-4257-a2f3-fe36eca79f18"
      },
      "execution_count": 1,
      "outputs": [
        {
          "output_type": "execute_result",
          "data": {
            "text/plain": [
              "[0, 1, 2, 3, 4, 5, 6, 7, 8, 9]"
            ]
          },
          "metadata": {},
          "execution_count": 1
        }
      ]
    },
    {
      "cell_type": "markdown",
      "source": [
        "If you are familiar with list comprehensions, then this look likes it might create a tuple which is (1,2,3,4,....), but it is actually a generator expression - this expression is a one time only iterator which will yield the values 1, 2, 3, 4.... in that order"
      ],
      "metadata": {
        "id": "FSBljEe6W-Lt"
      }
    },
    {
      "cell_type": "code",
      "source": [
        "lstParanthesis = (i for i in range(10))\n",
        "lstParanthesis"
      ],
      "metadata": {
        "colab": {
          "base_uri": "https://localhost:8080/"
        },
        "id": "JeZQ_Pk_W8XM",
        "outputId": "4070ea8b-5649-4514-b296-0110a09d47bc"
      },
      "execution_count": 2,
      "outputs": [
        {
          "output_type": "execute_result",
          "data": {
            "text/plain": [
              "<generator object <genexpr> at 0x7fbbcfb48740>"
            ]
          },
          "metadata": {},
          "execution_count": 2
        }
      ]
    },
    {
      "cell_type": "code",
      "source": [
        "list(lstParanthesis)"
      ],
      "metadata": {
        "colab": {
          "base_uri": "https://localhost:8080/"
        },
        "id": "Ia0X587-XBu2",
        "outputId": "794fa77e-6803-4649-96f3-c80db914dce0"
      },
      "execution_count": 3,
      "outputs": [
        {
          "output_type": "execute_result",
          "data": {
            "text/plain": [
              "[0, 1, 2, 3, 4, 5, 6, 7, 8, 9]"
            ]
          },
          "metadata": {},
          "execution_count": 3
        }
      ]
    },
    {
      "cell_type": "markdown",
      "source": [
        "2) What is the relationship between generators and iterators?\n",
        "\n",
        "Ans. An iterator is an object which contains a countable number of values and it is used to iterate over iterable objects like list, tuples etc\n",
        "Using an iterator-\n",
        "iter() keyword is used to create an iterator containing an iterable object.\n",
        "next() keyword is used to call the next element in the iterable object.\n",
        "\n",
        "Generator\n",
        "It is another way of creating iterators in a simple way where it uses the keyword “yield” instead of returning it in a defined function\n",
        "Generators are implemented using a function\n",
        "Here, the yield function returns the data without affecting or exiting the function. \n",
        "It will return a sequence of data in an iterable format where we need to iterate over the sequence to use the data as they won’t store the entire sequence in the memory\n",
        "By using next() function we can iterate the output of generator function"
      ],
      "metadata": {
        "id": "2-CC-nnjXEL8"
      }
    },
    {
      "cell_type": "code",
      "source": [
        "# iterator\n",
        "iter_list = iter(['Apple', 'Orange', 'Banana'])\n",
        "print(next(iter_list))\n",
        "print(next(iter_list))\n",
        "print(next(iter_list))"
      ],
      "metadata": {
        "colab": {
          "base_uri": "https://localhost:8080/"
        },
        "id": "NwNcsgr4XOZu",
        "outputId": "509f4aac-a132-400a-8a40-8fd8931d8152"
      },
      "execution_count": 4,
      "outputs": [
        {
          "output_type": "stream",
          "name": "stdout",
          "text": [
            "Apple\n",
            "Orange\n",
            "Banana\n"
          ]
        }
      ]
    },
    {
      "cell_type": "code",
      "source": [
        "# GEnerator \n",
        "\n",
        "def sq_numbers(n):\n",
        "    for i in range(1, n+1):\n",
        "        yield i*i"
      ],
      "metadata": {
        "id": "zh1ZHnumXPGl"
      },
      "execution_count": 5,
      "outputs": []
    },
    {
      "cell_type": "code",
      "source": [
        "sq_numbers(8)"
      ],
      "metadata": {
        "colab": {
          "base_uri": "https://localhost:8080/"
        },
        "id": "m4IjE55SXRv9",
        "outputId": "02094bd6-2276-4dfc-ac99-6022c347733f"
      },
      "execution_count": 6,
      "outputs": [
        {
          "output_type": "execute_result",
          "data": {
            "text/plain": [
              "<generator object sq_numbers at 0x7fbbcfb48c10>"
            ]
          },
          "metadata": {},
          "execution_count": 6
        }
      ]
    },
    {
      "cell_type": "code",
      "source": [
        "lst = sq_numbers(8)\n",
        "lst"
      ],
      "metadata": {
        "colab": {
          "base_uri": "https://localhost:8080/"
        },
        "id": "cA2LQccUXWhu",
        "outputId": "d8739213-328c-4462-b329-07e737e1c3ae"
      },
      "execution_count": 7,
      "outputs": [
        {
          "output_type": "execute_result",
          "data": {
            "text/plain": [
              "<generator object sq_numbers at 0x7fbbcfb48c80>"
            ]
          },
          "metadata": {},
          "execution_count": 7
        }
      ]
    },
    {
      "cell_type": "code",
      "source": [
        "print(next(lst))\n",
        "print(next(lst))\n",
        "print(next(lst))\n",
        "print(next(lst))"
      ],
      "metadata": {
        "colab": {
          "base_uri": "https://localhost:8080/"
        },
        "id": "qH7-czbZXbW1",
        "outputId": "04e23310-2f65-4950-fb56-2494c5529e45"
      },
      "execution_count": 8,
      "outputs": [
        {
          "output_type": "stream",
          "name": "stdout",
          "text": [
            "1\n",
            "4\n",
            "9\n",
            "16\n"
          ]
        }
      ]
    },
    {
      "cell_type": "markdown",
      "source": [
        "3) What are the signs that a function is a generator function?\n",
        "\n",
        "Ans. If a function contains at least one yield statement (it may contain other yield or return statements), it becomes a generator function. Both yield and return will return some value from a function."
      ],
      "metadata": {
        "id": "JGPoG_ydXpjF"
      }
    },
    {
      "cell_type": "markdown",
      "source": [
        "4) What is the purpose of a yield statement?\n",
        "\n",
        "Ans. A yield statement looks much like a return statement, except that instead of stopping execution of the function and \n",
        "returning, yield instead provides a value to the code looping over the generator and pauses execution of the generator \n",
        "function"
      ],
      "metadata": {
        "id": "SUBXk_b7XtcV"
      }
    },
    {
      "cell_type": "markdown",
      "source": [
        "5) What is the relationship between map calls and list comprehensions? Make a comparison and\n",
        "contrast between the two.\n",
        "\n",
        "Ans. \n",
        "\n",
        "Map function:\n",
        "Suppose we have a function and we want to compute this function for different values in a single line of code . This is where map() function plays its role. map() function returns a map object(which is an iterator) of the results after applying the given function to each item of a given iterable (list, tuple etc.)\n",
        "\n",
        "\n",
        "If we already have a function defined, it is often good to use map For example, map(sum, myLists) is more neat than [sum(x) for x in myLists]. You gain the elegance of not having to make up a dummy variable (e.g. sum(x) for x... or sum(_) for _... or sum(readableName) for readableName...) which you have to type twice, just to iterate.\n",
        "\n",
        "\n",
        "List Comprehension:\n",
        "List Comprehension is a substitute for the lambda function, map(), filter() and reduce()\n",
        "\n",
        "\n",
        "Comparision :\n",
        "    1. List comprehension is more concise and easier to read as compared to map\n",
        "\n",
        "    2. List comprehension allows filtering. In map, we have no such facility\n",
        "\n",
        "    For example, to print all even numbers in range of 100, we can write [n for n in range(100) if n%2 == 0]. There is \n",
        "    no alternate for it in map\n",
        "    3. List comprehension are used when a list of results is required, where as map only returns a map object and does \n",
        "    not return any list.\n",
        "\n",
        "    4. List comprehension is faster than map when we need to evaluate expressions that are too long or complicated \n",
        "    to express\n",
        "\n",
        "    5. Map is faster in case of calling an already defined function (as no lambda is required)"
      ],
      "metadata": {
        "id": "NMEx_npKXzTE"
      }
    }
  ]
}