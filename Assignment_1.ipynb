{
  "nbformat": 4,
  "nbformat_minor": 0,
  "metadata": {
    "colab": {
      "provenance": [],
      "authorship_tag": "ABX9TyOt4jLIQyxxVilMQri6poqN",
      "include_colab_link": true
    },
    "kernelspec": {
      "name": "python3",
      "display_name": "Python 3"
    },
    "language_info": {
      "name": "python"
    }
  },
  "cells": [
    {
      "cell_type": "markdown",
      "metadata": {
        "id": "view-in-github",
        "colab_type": "text"
      },
      "source": [
        "<a href=\"https://colab.research.google.com/github/Imran0897/Ineuron_Assignments/blob/main/Assignment_1.ipynb\" target=\"_parent\"><img src=\"https://colab.research.google.com/assets/colab-badge.svg\" alt=\"Open In Colab\"/></a>"
      ]
    },
    {
      "cell_type": "markdown",
      "source": [
        "1.  What is the purpose of Python's OOP?\n",
        "\n",
        "Ans. Python was designed with OOP approach and it offers the following advantages:\n",
        "1. Provides a clear program structure and a clean code\n",
        "\n",
        "2. Facilitates easy maintenance and modification of existing code.\n",
        "\n",
        "3. Since the class is sharable, the code can be reused.\n",
        "4. Since the class is sharable, the code can be reused and many other such Advantages.\n"
      ],
      "metadata": {
        "id": "JrFzPxK5tVEF"
      }
    },
    {
      "cell_type": "markdown",
      "source": [
        "2. Where does an inheritance search look for an attribute?\n",
        "\n",
        "Ans. Attribute fetches are simply tree searches. The term inheritance is applied because objects lower in a tree inherit attributes attached to objects higher in that tree. As the search proceeds from the bottom up, in a sense, the objects linked into a tree are the union of all the attributes defined in all their tree parents, all the way up the tree."
      ],
      "metadata": {
        "id": "LCxnsAPbtzXj"
      }
    },
    {
      "cell_type": "markdown",
      "source": [
        "3. How do you distinguish between a class object and an instance object?\n",
        "\n",
        "Ans. Class objects represent the class itself, while instance objects represent individual instances of the class.\n",
        "Class objects can have class-level attributes and methods that are shared among all instances of the class, while instance objects have their own set of attributes and methods that are independent of other.Objects and Instances are almost similar and are often used interchangeably but with a small difference. Object is a generic term , it is physically present but remains undiferrentiated. Instance is something that gives them a separate identity.\n",
        "\n",
        "Object is the physical entity for which memory is allocated. Object contains many instances.\n",
        "\n",
        "Instance : An instance is also the physical manifestation of a class that occupies memory and has data members."
      ],
      "metadata": {
        "id": "XoO4TonpKVBy"
      }
    },
    {
      "cell_type": "markdown",
      "source": [
        "4. What makes the first argument in a class’s method function special?\n",
        "\n",
        "Ans. Self represents the instance of the class. By using the “self” keyword we can access the attributes and methods of the class in python. It binds the attributes with the given arguments.The reason you need to use self. is because Python does not use the @ syntax to refer to instance attributes. Python decided to do methods in a way that makes the instance to which the method belongs be passed automatically, but not received automatically: the first parameter of methods is the instance the method is called on."
      ],
      "metadata": {
        "id": "nRUN-pntK2KI"
      }
    },
    {
      "cell_type": "markdown",
      "source": [
        "5. What is the purpose of the __init__ method?\n",
        "\n",
        "Ans The task of init method is to initialize(assign values) to the data members of the class when an object of class is created. It contains collection of statements that are executed at time of Object creation. It is run as soon as an object of a class is instantiated. The method is useful to do any initialization you want to do with your object."
      ],
      "metadata": {
        "id": "et3iDgkrLj5p"
      }
    },
    {
      "cell_type": "markdown",
      "source": [
        "6. What is the process for creating a class instance?\n",
        "\n",
        "Ans To create instances of a class, you call the class using class name and pass in whatever arguments its init method accepts."
      ],
      "metadata": {
        "id": "HfUMsEbGLu5Y"
      }
    },
    {
      "cell_type": "markdown",
      "source": [
        "7. What is the process for creating a class?\n",
        "\n",
        "Ans. The class statement creates a new class definition. The name of the class immediately follows the keyword class followed by a colon.Explained below.\n",
        "\n",
        "class Student:\n",
        "    def __init__(self,name):\n",
        "        self.name = name\n",
        "    \n",
        "    def __str__(self):\n",
        "        return f\"This is {self.name} (an instance of a class Student)\"\n",
        "    \n",
        "student1 = Student(\"XYZ\")       \n",
        "print(student1)"
      ],
      "metadata": {
        "id": "fQu6YmlML9Kh"
      }
    },
    {
      "cell_type": "markdown",
      "source": [
        "8. How would you define the superclasses of a class?\n",
        "\n",
        "Ans A superclass is the class from which many subclasses can be created. The subclasses inherit the characteristics of a superclass. The superclass is also known as the parent class or base class."
      ],
      "metadata": {
        "id": "I_fdZ-1QMaSw"
      }
    },
    {
      "cell_type": "code",
      "source": [
        "class A:\n",
        "    def method_A(self):\n",
        "        return \"this is method of class A\"\n",
        "    \n",
        "class B(A):\n",
        "    def method_B(self):\n",
        "        return \"this is method of class B\"\n",
        "\n",
        "class C(A):\n",
        "    def method_B(self):\n",
        "        return \"this is method of class C\"\n",
        "    \n",
        "class D(A):\n",
        "    def method_B(self):\n",
        "        return \"this is method of class D\"\n",
        "\n",
        "# Class B, C, D are subclasses and Class A is superclass    \n",
        "a = A()\n",
        "b = B()\n",
        "c = C()\n",
        "d = D()\n",
        "\n",
        "print(a.method_A())\n",
        "print(b.method_B())\n",
        "print(b.method_A())   # objects of class B, C and D are able to access method of class A because Class A is superclass. \n",
        "print(c.method_A())\n",
        "print(d.method_A())"
      ],
      "metadata": {
        "colab": {
          "base_uri": "https://localhost:8080/"
        },
        "id": "DGOPFUxBLX_n",
        "outputId": "98d056c0-74ea-4122-fa3f-067dc85dc49a"
      },
      "execution_count": 2,
      "outputs": [
        {
          "output_type": "stream",
          "name": "stdout",
          "text": [
            "this is method of class A\n",
            "this is method of class B\n",
            "this is method of class A\n",
            "this is method of class A\n",
            "this is method of class A\n"
          ]
        }
      ]
    },
    {
      "cell_type": "code",
      "source": [],
      "metadata": {
        "id": "jQOzMcAXMssW"
      },
      "execution_count": null,
      "outputs": []
    }
  ]
}