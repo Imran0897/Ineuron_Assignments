{
  "nbformat": 4,
  "nbformat_minor": 0,
  "metadata": {
    "colab": {
      "provenance": [],
      "authorship_tag": "ABX9TyNW62uAEys+QFSukNloJznb",
      "include_colab_link": true
    },
    "kernelspec": {
      "name": "python3",
      "display_name": "Python 3"
    },
    "language_info": {
      "name": "python"
    }
  },
  "cells": [
    {
      "cell_type": "markdown",
      "metadata": {
        "id": "view-in-github",
        "colab_type": "text"
      },
      "source": [
        "<a href=\"https://colab.research.google.com/github/Imran0897/Ineuron_Assignments/blob/main/Assignment_24_Basic_Python.ipynb\" target=\"_parent\"><img src=\"https://colab.research.google.com/assets/colab-badge.svg\" alt=\"Open In Colab\"/></a>"
      ]
    },
    {
      "cell_type": "markdown",
      "source": [
        "1. What is the relationship between def statements and lambda expressions ?\n",
        "\n",
        "Ans. Keyword def that marks the start of the function header. A function name to uniquely identify the function. \n",
        "Function naming follows the same rules of writing identifiers in Python\n",
        "\n",
        "lambdas are one-line methods without a name.\n",
        "They work practically the same as any other method in Python\n",
        "Lambdas differ from normal Python methods because they can have only one expression,\n",
        "can't contain any statements and their return type is a function object"
      ],
      "metadata": {
        "id": "oo3t3oBuN7aN"
      }
    },
    {
      "cell_type": "markdown",
      "source": [
        "2. What is the benefit of lambda?\n",
        "\n",
        "Ans. Fewer Lines of Code\n",
        "Lambda functions are inline functions and thus execute comparatively faster\n",
        "Many times lambda functions make code much more readable by avoiding the logical jumps caused by function calls"
      ],
      "metadata": {
        "id": "8C_575uNN-zs"
      }
    },
    {
      "cell_type": "markdown",
      "source": [
        "3. Compare and contrast map, filter, and reduce.\n",
        "\n",
        "Ans. map applies as a transformation to an element.\n",
        "The map() function iterates through all items in the given iterable and executes the function we \n",
        "passed as an argument on each of them.\n",
        "Syntax : map(function, iterable(s))\n",
        "\n",
        "\n",
        "filter accumulates only elements matching a condition.\n",
        "filter() forms a new list that contains only elements that satisfy a certain condition, i.e. the function we \n",
        "passed returns True\n",
        "Syntax : filter(function, iterable(s))\n",
        "\n",
        "\n",
        "reduce accumulates all elements to a single value, by using immutable values\n",
        "reduce() works by calling the function we passed for the first two items in the sequence. The result returned by \n",
        "the function is used in another call to function alongside with the next (third in this case), element\n",
        "Syntax : reduce(function, sequence[, initial])"
      ],
      "metadata": {
        "id": "T87xnOLfOPB2"
      }
    },
    {
      "cell_type": "code",
      "source": [
        "### Map functions\n",
        "fruit = [\"Apple\", \"Banana\", \"Pear\", \"Apricot\", \"Orange\"]\n",
        "map_object = map(lambda s: s[0] == \"A\", fruit)\n",
        "\n",
        "for i in map_object:\n",
        "    print(i)"
      ],
      "metadata": {
        "colab": {
          "base_uri": "https://localhost:8080/"
        },
        "id": "rjs02YUBOym9",
        "outputId": "eb53812a-45b8-434a-b78a-75f70e0912f9"
      },
      "execution_count": 1,
      "outputs": [
        {
          "output_type": "stream",
          "name": "stdout",
          "text": [
            "True\n",
            "False\n",
            "False\n",
            "True\n",
            "False\n"
          ]
        }
      ]
    },
    {
      "cell_type": "code",
      "source": [
        "### Filter functions\n",
        "fruit = [\"Apple\", \"Banana\", \"Pear\", \"Apricot\", \"Orange\"]\n",
        "filter_object = filter(lambda s: s[0] == \"A\", fruit)\n",
        "\n",
        "for i in filter_object:\n",
        "    print(i)"
      ],
      "metadata": {
        "colab": {
          "base_uri": "https://localhost:8080/"
        },
        "id": "p1byPCsCO4Q9",
        "outputId": "5d025d51-a6df-402b-ea0f-79ab01f6bbaf"
      },
      "execution_count": 2,
      "outputs": [
        {
          "output_type": "stream",
          "name": "stdout",
          "text": [
            "Apple\n",
            "Apricot\n"
          ]
        }
      ]
    },
    {
      "cell_type": "code",
      "source": [
        "### Reduce function\n",
        "from functools import reduce\n",
        "\n",
        "list = [2, 4, 7, 3]\n",
        "print(reduce(lambda x, y: x + y, list))\n",
        "print(\"With an initial value: \" + str(reduce(lambda x, y: x + y, list, 10)))"
      ],
      "metadata": {
        "colab": {
          "base_uri": "https://localhost:8080/"
        },
        "id": "ZHlHMAHeO92D",
        "outputId": "d6cad671-e45e-4998-a858-a05143f14560"
      },
      "execution_count": 3,
      "outputs": [
        {
          "output_type": "stream",
          "name": "stdout",
          "text": [
            "16\n",
            "With an initial value: 26\n"
          ]
        }
      ]
    },
    {
      "cell_type": "code",
      "source": [
        "### Reduce function\n",
        "from functools import reduce\n",
        "\n",
        "def add(x, y):\n",
        "    return x + y\n",
        "\n",
        "list = [2, 4, 7, 3]\n",
        "print(reduce(add, list))"
      ],
      "metadata": {
        "colab": {
          "base_uri": "https://localhost:8080/"
        },
        "id": "j2hlBedbPAFT",
        "outputId": "25c3ded1-d42d-4c65-843c-49492153441a"
      },
      "execution_count": 4,
      "outputs": [
        {
          "output_type": "stream",
          "name": "stdout",
          "text": [
            "16\n"
          ]
        }
      ]
    },
    {
      "cell_type": "markdown",
      "source": [
        "4. What are function annotations, and how are they used?\n",
        "\n",
        "Ans. Function annotation is the standard way to access the metadata with the arguments and the return value of the function.\n",
        "These are nothing but some random and optional Python expressions that get allied to different parts of the function.\n",
        "They get evaluated only during the compile-time and have no significance during the run-time of the code.\n",
        "They do not have any significance or meaning associated with them until accessed by some third-party libraries.\n",
        "They are used to type check the functions by declaring the type of the parameters and the return value for the functions.\n",
        "The string-based annotations help us to improve the help messages.\n",
        "\n",
        "Syntax :\n",
        "    def func(a: 'int') -> 'int':\n",
        "        pass\n",
        "\n",
        "Annotations for simple parameters:\n",
        "    def func(x: 'float'=10.8, y: 'argument2'):\n",
        "        In the above code the argument, ‘x’ of the function func, \n",
        "        has been annotated to float data type and the argument ‘y’ \n",
        "        has a string-based annotation. The argument can also be \n",
        "        assigned to a default value using a ‘=’ symbol followed \n",
        "        by the default value. These default values are optional to the code.\n",
        "\n",
        "Annotations for return values:\n",
        "    def func(a: expression) -> 'int':\n",
        "        The annotations for the return value is written after the ‘->’ symbol."
      ],
      "metadata": {
        "id": "ZBQ_NnVGOrTl"
      }
    },
    {
      "cell_type": "code",
      "source": [
        "def fib(n:'float', b:'int')-> 'result': \n",
        "    pass\n",
        "print(fib.__annotations__)"
      ],
      "metadata": {
        "colab": {
          "base_uri": "https://localhost:8080/"
        },
        "id": "xQhG3djIUrFt",
        "outputId": "dd2d9402-478b-4f98-c731-455ee7f478cb"
      },
      "execution_count": 7,
      "outputs": [
        {
          "output_type": "stream",
          "name": "stdout",
          "text": [
            "{'n': 'float', 'b': 'int', 'return': 'result'}\n"
          ]
        }
      ]
    },
    {
      "cell_type": "markdown",
      "source": [
        "5. What are recursive functions, and how are they used?\n",
        "\n",
        "Ans. A recursive function is a function that calls itself during its execution. \n",
        "This means that the function will continue to call itself and repeat its behavior until some condition is met to return \n",
        "a result"
      ],
      "metadata": {
        "id": "1SSU2uCMVJYE"
      }
    },
    {
      "cell_type": "code",
      "source": [
        "# example\n",
        "def fact(x):\n",
        "    if x == 1 :\n",
        "        return 1\n",
        "    else :\n",
        "        return x * fact(x-1) # recurtion\n",
        "    \n",
        "fact(3)"
      ],
      "metadata": {
        "colab": {
          "base_uri": "https://localhost:8080/"
        },
        "id": "Zz63q8N5VQS-",
        "outputId": "e722ca2d-415a-449e-c7f8-7402ac2f049e"
      },
      "execution_count": 8,
      "outputs": [
        {
          "output_type": "execute_result",
          "data": {
            "text/plain": [
              "6"
            ]
          },
          "metadata": {},
          "execution_count": 8
        }
      ]
    },
    {
      "cell_type": "markdown",
      "source": [
        "6. What are some general design guidelines for coding functions?\n",
        "\n",
        "Ans. 1. Use 4-space indentation and no tabs.\n",
        "2. Use docstrings\n",
        "3. Wrap linethat they don’t exceed 79 characters\n",
        "4. Use of regular and updated comments are valuable to both the coders and users\n",
        "5. Use of trailing commas : in case of tuple -> ('good',)\n",
        "6. Use Python’s default UTF-8 or ASCII encodings and not any fancy encodings\n",
        "7. Naming Conventions\n",
        "8.Characters that should not be used for identifiers :\n",
        "    ‘l’ (lowercase letter el), \n",
        "    ‘O’ (uppercase letter oh), \n",
        "    ‘I’ (uppercase letter eye) as single character variable names as these are similar to the numerals one and zero.\n",
        "9. Don’t use non-ASCII characters in identifiers\n",
        "10. Name your classes and functions consistently\n",
        "11. While naming of function of methods always use self for the first argument"
      ],
      "metadata": {
        "id": "ykM7U9utVTr6"
      }
    },
    {
      "cell_type": "markdown",
      "source": [
        "7. Name three or more ways that functions can communicate results to a caller.\n",
        "Ans. 7. Name three or more ways that functions can communicate results to a caller.\n",
        "\n",
        "Ans. \n",
        "1. Function can return single value\n",
        "2. Can return multiple values, tuple\n",
        "3. can return list,dictionary\n",
        "4. can return function object\n",
        "5. can return class object"
      ],
      "metadata": {
        "id": "krOglFhYVZaE"
      }
    }
  ]
}