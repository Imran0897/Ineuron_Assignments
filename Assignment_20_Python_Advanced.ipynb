{
  "nbformat": 4,
  "nbformat_minor": 0,
  "metadata": {
    "colab": {
      "provenance": [],
      "authorship_tag": "ABX9TyNHbSVCuJzRwYaVPL2V0AcH",
      "include_colab_link": true
    },
    "kernelspec": {
      "name": "python3",
      "display_name": "Python 3"
    },
    "language_info": {
      "name": "python"
    }
  },
  "cells": [
    {
      "cell_type": "markdown",
      "metadata": {
        "id": "view-in-github",
        "colab_type": "text"
      },
      "source": [
        "<a href=\"https://colab.research.google.com/github/Imran0897/Ineuron_Assignments/blob/main/Assignment_20_Python_Advanced.ipynb\" target=\"_parent\"><img src=\"https://colab.research.google.com/assets/colab-badge.svg\" alt=\"Open In Colab\"/></a>"
      ]
    },
    {
      "cell_type": "markdown",
      "source": [
        "1. Compare and contrast the float and Decimal classes&#39; benefits and drawbacks.\n",
        "\n",
        "Ans. "
      ],
      "metadata": {
        "id": "PY7CpQjeIs3A"
      }
    },
    {
      "cell_type": "code",
      "source": [
        "a = 0.35\n",
        "print(type(a))\n",
        "#       Float objects like this one are always represented internally up to a certain degree of accuracy only.\n",
        "#       This becomes evident when adding 0.1 to a:\n",
        "print(a+0.1)\n",
        "#       The reason for this is that floats are internally represented in binary format;\n",
        "#       that is, a decimal number 0 < n < 1 is represented by a series of the form . \n",
        "#       For certain floating-point numbers the binary representation might involve a large number \n",
        "#       of elements or might even be an infinite series. However, given a fixed number of bits used \n",
        "#       to represent such a number—i.e., a fixed number of terms in the representation \n",
        "#       series—inaccuracies are the consequence. Other numbers can be represented perfectly \n",
        "#       and are therefore stored exactly even with a finite number of bits available. \n",
        "#       Example is  :\n",
        "b=0.5 \n",
        "print(b.as_integer_ratio()) #i.e. 0.5 is exactly represented as 1/2\n",
        "#       incase of b=0.35\n",
        "b=0.35\n",
        "print(b.as_integer_ratio()) # Here teh b=0.35 is not exact\n",
        "#       The precision is dependent on the number of bits used to represent the number. \n",
        "#       Hence some error can creep in. It translates 15 digits accuracy for float.\n",
        "#       For example, the issue can be of importance when summing over a large set of numbers. \n",
        "#       In such a situation, a certain kind and/or magnitude of representation error might, \n",
        "#       in aggregate, lead to significant deviations from a benchmark value.\n",
        "#       In order to overcome this we use the decimal module.\n",
        "#       The module decimal provides an arbitrary-precision object for floating-point numbers \n",
        "#       and several options to address precision issues when working with such numbers:\n",
        "import decimal\n",
        "from decimal import Decimal\n",
        "print(decimal.getcontext())\n",
        "d = Decimal(1) / Decimal (55)\n",
        "print(\"d=\",d)\n",
        "decimal.getcontext().prec = 5  # lower precision \n",
        "e=Decimal(1)/Decimal(55)\n",
        "print(\"e=\",e)\n",
        "#       The precision can in this way be adjusted to the exact problem at hand and one can operate\n",
        "#       with floating-point objects that exhibit different degrees of accuracy."
      ],
      "metadata": {
        "colab": {
          "base_uri": "https://localhost:8080/"
        },
        "id": "p1qQrfsQI_HI",
        "outputId": "1e72e597-c35a-4854-bf4d-edc8365b0267"
      },
      "execution_count": 1,
      "outputs": [
        {
          "output_type": "stream",
          "name": "stdout",
          "text": [
            "<class 'float'>\n",
            "0.44999999999999996\n",
            "(1, 2)\n",
            "(3152519739159347, 9007199254740992)\n",
            "Context(prec=28, rounding=ROUND_HALF_EVEN, Emin=-999999, Emax=999999, capitals=1, clamp=0, flags=[], traps=[InvalidOperation, DivisionByZero, Overflow])\n",
            "d= 0.01818181818181818181818181818\n",
            "e= 0.018182\n"
          ]
        }
      ]
    },
    {
      "cell_type": "markdown",
      "source": [
        "2. Decimal(&#39;1.200&#39;) and Decimal(&#39;1.2&#39;) are two objects to consider. In what sense are these the same\n",
        "object? Are these just two ways of representing the exact same value, or do they correspond to\n",
        "different internal states?\n",
        "\n",
        "Ans. "
      ],
      "metadata": {
        "id": "K3qLqhsUJhYO"
      }
    },
    {
      "cell_type": "code",
      "source": [
        "#Ans : Though they are identical value wise, internal representation or internal state of these two \n",
        "#       values are different, as they have decimal values of different precisions. \n",
        "print(Decimal('1.200'))\n",
        "print(Decimal('1.2'))"
      ],
      "metadata": {
        "colab": {
          "base_uri": "https://localhost:8080/"
        },
        "id": "wwbWBOpFJacK",
        "outputId": "036a378c-3f00-4b35-a303-c502bf6b533e"
      },
      "execution_count": 2,
      "outputs": [
        {
          "output_type": "stream",
          "name": "stdout",
          "text": [
            "1.200\n",
            "1.2\n"
          ]
        }
      ]
    },
    {
      "cell_type": "markdown",
      "source": [
        "3. What happens if the equality of Decimal(&#39;1.200&#39;) and Decimal(&#39;1.2&#39;) is checked?\n",
        "\n",
        "Ans. "
      ],
      "metadata": {
        "id": "D3O0X6_6Jwn_"
      }
    },
    {
      "cell_type": "code",
      "source": [
        "# Ans : It returns that the values are stored are True.\n",
        "print(Decimal('1.200') == Decimal('1.2'))"
      ],
      "metadata": {
        "colab": {
          "base_uri": "https://localhost:8080/"
        },
        "id": "fI1kjg2lJpNr",
        "outputId": "fa72f62a-648b-4fe1-9afd-ed524d791104"
      },
      "execution_count": 3,
      "outputs": [
        {
          "output_type": "stream",
          "name": "stdout",
          "text": [
            "True\n"
          ]
        }
      ]
    },
    {
      "cell_type": "markdown",
      "source": [
        "4. Why is it preferable to start a Decimal object with a string rather than a floating-point value?\n",
        "\n",
        "Ans. Floating-point value is converted to Decimal format. Decimal can store float value with absolute precision. But when float value is given as Decimal object,it first has to be converted from floating point value which might already have rounding error.Hence it is preferable to start a Decimal object with a string.Example is as follows : "
      ],
      "metadata": {
        "id": "4Pv2JVoRJ63G"
      }
    },
    {
      "cell_type": "code",
      "source": [
        "import decimal\n",
        "from decimal import Decimal\n",
        "a=Decimal(0.3) #0.3 is a float\n",
        "print(a) # It is not stored exactly as 0.3 but as printed.\n",
        "b=Decimal('0.3') #'0.3' is a string\n",
        "print(b) #It exactly prints 0.3, precisely, with correct precision."
      ],
      "metadata": {
        "colab": {
          "base_uri": "https://localhost:8080/"
        },
        "id": "ESedFTWMJ27C",
        "outputId": "a8646ef4-ccdd-46d6-e6ed-2deda3751f5c"
      },
      "execution_count": 4,
      "outputs": [
        {
          "output_type": "stream",
          "name": "stdout",
          "text": [
            "0.299999999999999988897769753748434595763683319091796875\n",
            "0.3\n"
          ]
        }
      ]
    },
    {
      "cell_type": "markdown",
      "source": [
        "5. In an arithmetic phrase, how simple is it to combine Decimal objects with integers?\n",
        "\n",
        "Ans. "
      ],
      "metadata": {
        "id": "BgnyltPmKMS3"
      }
    },
    {
      "cell_type": "code",
      "source": [
        "import decimal\n",
        "from decimal import Decimal\n",
        "val=2\n",
        "print(type(val))\n",
        "a=Decimal(val)\n",
        "print(a)\n",
        "b=a*Decimal(val)\n",
        "print(b)"
      ],
      "metadata": {
        "colab": {
          "base_uri": "https://localhost:8080/"
        },
        "id": "i7lFQjPGKK97",
        "outputId": "aeb909b6-ccd5-408e-8c8b-c868e0b0dca2"
      },
      "execution_count": 5,
      "outputs": [
        {
          "output_type": "stream",
          "name": "stdout",
          "text": [
            "<class 'int'>\n",
            "2\n",
            "4\n"
          ]
        }
      ]
    },
    {
      "cell_type": "markdown",
      "source": [
        "6. Can Decimal objects and floating-point values be combined easily?\n",
        "\n",
        "Ans.  Arithmetic operfations like Adding,subtracting or multiplying a Decimal object by a floating-point value is generates an error. To do these operations, the floating point has to be converted to a Decimal object—for example, converting from a floating-point value and then rounding. Else, arithmetic operations between the two types cause runtime errors."
      ],
      "metadata": {
        "id": "mu5xemkAKTWp"
      }
    },
    {
      "cell_type": "code",
      "source": [
        "import decimal\n",
        "from decimal import Decimal\n",
        "val=0.3\n",
        "b=Decimal(val)\n",
        "print(\"Muliplication:\",Decimal('0.2')*b ) \n",
        "print(Decimal('0.2')*val)"
      ],
      "metadata": {
        "colab": {
          "base_uri": "https://localhost:8080/",
          "height": 217
        },
        "id": "kr8YgRPvKSl8",
        "outputId": "3d1d4831-116c-497e-afaf-90a7faa021cd"
      },
      "execution_count": 6,
      "outputs": [
        {
          "output_type": "stream",
          "name": "stdout",
          "text": [
            "Muliplication: 0.05999999999999999777955395075\n"
          ]
        },
        {
          "output_type": "error",
          "ename": "TypeError",
          "evalue": "ignored",
          "traceback": [
            "\u001b[0;31m---------------------------------------------------------------------------\u001b[0m",
            "\u001b[0;31mTypeError\u001b[0m                                 Traceback (most recent call last)",
            "\u001b[0;32m<ipython-input-6-b6d81cea3513>\u001b[0m in \u001b[0;36m<cell line: 6>\u001b[0;34m()\u001b[0m\n\u001b[1;32m      4\u001b[0m \u001b[0mb\u001b[0m\u001b[0;34m=\u001b[0m\u001b[0mDecimal\u001b[0m\u001b[0;34m(\u001b[0m\u001b[0mval\u001b[0m\u001b[0;34m)\u001b[0m\u001b[0;34m\u001b[0m\u001b[0;34m\u001b[0m\u001b[0m\n\u001b[1;32m      5\u001b[0m \u001b[0mprint\u001b[0m\u001b[0;34m(\u001b[0m\u001b[0;34m\"Muliplication:\"\u001b[0m\u001b[0;34m,\u001b[0m\u001b[0mDecimal\u001b[0m\u001b[0;34m(\u001b[0m\u001b[0;34m'0.2'\u001b[0m\u001b[0;34m)\u001b[0m\u001b[0;34m*\u001b[0m\u001b[0mb\u001b[0m \u001b[0;34m)\u001b[0m\u001b[0;34m\u001b[0m\u001b[0;34m\u001b[0m\u001b[0m\n\u001b[0;32m----> 6\u001b[0;31m \u001b[0mprint\u001b[0m\u001b[0;34m(\u001b[0m\u001b[0mDecimal\u001b[0m\u001b[0;34m(\u001b[0m\u001b[0;34m'0.2'\u001b[0m\u001b[0;34m)\u001b[0m\u001b[0;34m*\u001b[0m\u001b[0mval\u001b[0m\u001b[0;34m)\u001b[0m\u001b[0;34m\u001b[0m\u001b[0;34m\u001b[0m\u001b[0m\n\u001b[0m",
            "\u001b[0;31mTypeError\u001b[0m: unsupported operand type(s) for *: 'decimal.Decimal' and 'float'"
          ]
        }
      ]
    },
    {
      "cell_type": "markdown",
      "source": [
        "7. Using the Fraction class but not the Decimal class, give an example of a quantity that can be\n",
        "expressed with absolute precision.\n",
        "\n",
        "Ans. "
      ],
      "metadata": {
        "id": "KFFvdNfjKoCy"
      }
    },
    {
      "cell_type": "code",
      "source": [
        "from fractions import Fraction\n",
        "val=0.5\n",
        "fr=Fraction(val)\n",
        "print(fr)"
      ],
      "metadata": {
        "colab": {
          "base_uri": "https://localhost:8080/"
        },
        "id": "OhmLX5HIKkSb",
        "outputId": "006ff3c6-2495-4ec9-c51f-c9492bd2109c"
      },
      "execution_count": 7,
      "outputs": [
        {
          "output_type": "stream",
          "name": "stdout",
          "text": [
            "1/2\n"
          ]
        }
      ]
    },
    {
      "cell_type": "markdown",
      "source": [
        "8. Describe a quantity that can be accurately expressed by the Decimal or Fraction classes but not by\n",
        "a floating-point value.\n",
        "\n",
        "Ans. "
      ],
      "metadata": {
        "id": "dPEcKdg5Ky7Y"
      }
    },
    {
      "cell_type": "code",
      "source": [
        "# Ans : \n",
        "d=Decimal('0.1') * Decimal('0.1')\n",
        "print(\"decimal=\",d)\n",
        "frac=Fraction('1/10') * Fraction('1/10')\n",
        "print(\"fraction=\",frac)\n",
        "fl=0.1*0.1\n",
        "print(\"float value=\",fl)"
      ],
      "metadata": {
        "colab": {
          "base_uri": "https://localhost:8080/"
        },
        "id": "l4Q7rRFLK24X",
        "outputId": "33e01334-6169-49fe-ddcd-0b8e15ca3438"
      },
      "execution_count": 8,
      "outputs": [
        {
          "output_type": "stream",
          "name": "stdout",
          "text": [
            "decimal= 0.01\n",
            "fraction= 1/100\n",
            "float value= 0.010000000000000002\n"
          ]
        }
      ]
    },
    {
      "cell_type": "markdown",
      "source": [
        "Q9.Consider the following two fraction objects: Fraction(1, 2) and Fraction(1, 2). (5, 10). Is the internal\n",
        "state of these two objects the same? Why do you think that is?\n",
        "\n",
        "Ans. "
      ],
      "metadata": {
        "id": "G2T7p_PZK7PQ"
      }
    },
    {
      "cell_type": "code",
      "source": [
        "from fractions import Fraction\n",
        "frac1=Fraction(1, 2)\n",
        "print(frac1)\n",
        "frac2=Fraction(5, 10)\n",
        "print(frac2)\n",
        "if (frac1 == frac2 ):\n",
        "    print('Fraction (1,2) and Fraction(5,10) are equal')"
      ],
      "metadata": {
        "colab": {
          "base_uri": "https://localhost:8080/"
        },
        "id": "FYlRuopDK3bx",
        "outputId": "9e7f0958-d765-4525-f25b-3a7b2d261f99"
      },
      "execution_count": 9,
      "outputs": [
        {
          "output_type": "stream",
          "name": "stdout",
          "text": [
            "1/2\n",
            "1/2\n",
            "Fraction (1,2) and Fraction(5,10) are equal\n"
          ]
        }
      ]
    },
    {
      "cell_type": "markdown",
      "source": [
        "Q10. How do the Fraction class and the integer type (int) relate to each other? Containment or\n",
        "inheritance?\n",
        "\n",
        "Ans. Fraction class and integer type(int) are related in form of a container.\n",
        "It contains two ints, one the numerator and the other the denominator."
      ],
      "metadata": {
        "id": "fAZiwNwlLJWq"
      }
    },
    {
      "cell_type": "code",
      "source": [
        "from fractions import Fraction\n",
        "\n",
        "frac = Fraction(1,2)\n",
        "print('numerator is', frac.numerator,type(frac.numerator))\n",
        "print('denominator is', frac.denominator,type(frac.numerator) )\n"
      ],
      "metadata": {
        "colab": {
          "base_uri": "https://localhost:8080/"
        },
        "id": "nqfT9BzLLD7d",
        "outputId": "cae69520-919f-4268-faab-3905dca226b1"
      },
      "execution_count": 10,
      "outputs": [
        {
          "output_type": "stream",
          "name": "stdout",
          "text": [
            "numerator is 1 <class 'int'>\n",
            "denominator is 2 <class 'int'>\n"
          ]
        }
      ]
    }
  ]
}