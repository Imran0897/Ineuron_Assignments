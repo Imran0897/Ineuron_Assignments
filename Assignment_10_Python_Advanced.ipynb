{
  "nbformat": 4,
  "nbformat_minor": 0,
  "metadata": {
    "colab": {
      "provenance": [],
      "authorship_tag": "ABX9TyNMAEyerWJRC963P99PCk7D",
      "include_colab_link": true
    },
    "kernelspec": {
      "name": "python3",
      "display_name": "Python 3"
    },
    "language_info": {
      "name": "python"
    }
  },
  "cells": [
    {
      "cell_type": "markdown",
      "metadata": {
        "id": "view-in-github",
        "colab_type": "text"
      },
      "source": [
        "<a href=\"https://colab.research.google.com/github/Imran0897/Ineuron_Assignments/blob/main/Assignment_10_Python_Advanced.ipynb\" target=\"_parent\"><img src=\"https://colab.research.google.com/assets/colab-badge.svg\" alt=\"Open In Colab\"/></a>"
      ]
    },
    {
      "cell_type": "markdown",
      "source": [
        "Q1. What is the difference between __getattr__ and __getattribute__?\n",
        "\n",
        "Ans. Normally, if we want to access the attribute of a class, we access it with instance of the class like instance.attribute_name. These attributes are already present in the class. Where as, to access the attribute of class which are not defined in the class, we use getattr() method.\n",
        "\n",
        "But if the attribute does exist, getattr won’t be invoked"
      ],
      "metadata": {
        "id": "1m7Kd5T-SfSD"
      }
    },
    {
      "cell_type": "code",
      "source": [
        "class Sample:\n",
        "    def __init__(self,address):\n",
        "        self.address = address\n",
        "    \n",
        "    def __getattr__(self,name):\n",
        "        return name.lower()\n",
        "    \n",
        "s =Sample('Banglore')\n",
        "print(s.address)\n",
        "print(s.ABCD) "
      ],
      "metadata": {
        "colab": {
          "base_uri": "https://localhost:8080/"
        },
        "id": "0q16VZ4pS-q8",
        "outputId": "47ec8595-8dcb-473a-dffe-4dced4a861ad"
      },
      "execution_count": 1,
      "outputs": [
        {
          "output_type": "stream",
          "name": "stdout",
          "text": [
            "Banglore\n",
            "abcd\n"
          ]
        }
      ]
    },
    {
      "cell_type": "markdown",
      "source": [
        "Q2. What is the difference between properties and descriptors?\n",
        "\n",
        "Ans. In Properties, We can bind getter, setter functions with an attribute name, using the built-in property function. In descriptor, We can bind getter, setter (and deleter) functions into a separate class. We then assign an object of this class to the attribute name."
      ],
      "metadata": {
        "id": "snWDWlnQS-LT"
      }
    },
    {
      "cell_type": "markdown",
      "source": [
        "Q3. What are the key differences in functionality between __getattr__ and __getattribute__, as well as\n",
        "properties and descriptors?\n",
        "\n",
        "Ans. To access the attribute of class which are not defined in the class, we use getattr() method. But if the attribute does exist, getattr won’t be invoked. getattribute will look for every attribute, doesn’t matter if the attribute exists or not.\n",
        "\n",
        "In Properties, We can bind getter, setter functions with an attribute name, using the built-in property function. In descriptor, We can bind getter, setter (and deleter) functions into a separate class. We then assign an object of this class to the attribute name."
      ],
      "metadata": {
        "id": "WA-g4dhLS69F"
      }
    }
  ]
}