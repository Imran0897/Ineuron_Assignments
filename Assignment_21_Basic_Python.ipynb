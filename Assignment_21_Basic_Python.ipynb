{
  "nbformat": 4,
  "nbformat_minor": 0,
  "metadata": {
    "colab": {
      "provenance": [],
      "authorship_tag": "ABX9TyNW+YwRqOVrj8PSKt+hjicE",
      "include_colab_link": true
    },
    "kernelspec": {
      "name": "python3",
      "display_name": "Python 3"
    },
    "language_info": {
      "name": "python"
    }
  },
  "cells": [
    {
      "cell_type": "markdown",
      "metadata": {
        "id": "view-in-github",
        "colab_type": "text"
      },
      "source": [
        "<a href=\"https://colab.research.google.com/github/Imran0897/Ineuron_Assignments/blob/main/Assignment_21_Basic_Python.ipynb\" target=\"_parent\"><img src=\"https://colab.research.google.com/assets/colab-badge.svg\" alt=\"Open In Colab\"/></a>"
      ]
    },
    {
      "cell_type": "markdown",
      "source": [
        "1. Add the current date to the text file today.txt as a string.\n",
        "\n",
        "Ans. "
      ],
      "metadata": {
        "id": "Z_Sa1zYDLOct"
      }
    },
    {
      "cell_type": "code",
      "source": [
        "from datetime import date"
      ],
      "metadata": {
        "id": "6OMrZ7MELUaE"
      },
      "execution_count": 1,
      "outputs": []
    },
    {
      "cell_type": "code",
      "source": [
        "now = date.today()"
      ],
      "metadata": {
        "id": "rXTGmUj3LVIK"
      },
      "execution_count": 2,
      "outputs": []
    },
    {
      "cell_type": "code",
      "source": [
        "now_str = now.isoformat()"
      ],
      "metadata": {
        "id": "ULIi6yIoLXG6"
      },
      "execution_count": 3,
      "outputs": []
    },
    {
      "cell_type": "code",
      "source": [
        "with open('today', 'wt') as output:\n",
        "    print(now_str, file=output)"
      ],
      "metadata": {
        "id": "jkH-FoF7LYsD"
      },
      "execution_count": 4,
      "outputs": []
    },
    {
      "cell_type": "markdown",
      "source": [
        "2. Read the text file today.txt into the string today_string\n",
        "\n",
        "Ans. "
      ],
      "metadata": {
        "id": "nojDumZVLb_0"
      }
    },
    {
      "cell_type": "code",
      "source": [
        "with open('today', 'rt') as input:\n",
        "    today_string = input.read()"
      ],
      "metadata": {
        "id": "X4J0H4_ELfhD"
      },
      "execution_count": 5,
      "outputs": []
    },
    {
      "cell_type": "code",
      "source": [
        "today_string"
      ],
      "metadata": {
        "colab": {
          "base_uri": "https://localhost:8080/",
          "height": 35
        },
        "id": "4NZuEKN8LgLE",
        "outputId": "17678df8-691e-4941-ffec-b68c28b3a010"
      },
      "execution_count": 6,
      "outputs": [
        {
          "output_type": "execute_result",
          "data": {
            "text/plain": [
              "'2023-05-04\\n'"
            ],
            "application/vnd.google.colaboratory.intrinsic+json": {
              "type": "string"
            }
          },
          "metadata": {},
          "execution_count": 6
        }
      ]
    },
    {
      "cell_type": "markdown",
      "source": [
        "3. Parse the date from today_string.\n",
        "\n",
        "Ans. "
      ],
      "metadata": {
        "id": "TJIkgOkTLj9D"
      }
    },
    {
      "cell_type": "code",
      "source": [
        "fmt = '%Y-%m-%d\\n'"
      ],
      "metadata": {
        "id": "9PMpmA8PLoj9"
      },
      "execution_count": 7,
      "outputs": []
    },
    {
      "cell_type": "markdown",
      "source": [
        "4. List the files in your current directory\n",
        "\n",
        "Ans. "
      ],
      "metadata": {
        "id": "oD5LRMDTLq_8"
      }
    },
    {
      "cell_type": "code",
      "source": [
        "import os"
      ],
      "metadata": {
        "id": "WKqpeIW9LyYD"
      },
      "execution_count": 8,
      "outputs": []
    },
    {
      "cell_type": "code",
      "source": [
        " os.listdir('.')"
      ],
      "metadata": {
        "colab": {
          "base_uri": "https://localhost:8080/"
        },
        "id": "0O09Tg0NLz77",
        "outputId": "f33f2f68-5734-4048-a6cd-be3444c93b4c"
      },
      "execution_count": 9,
      "outputs": [
        {
          "output_type": "execute_result",
          "data": {
            "text/plain": [
              "['.config', 'today', 'sample_data']"
            ]
          },
          "metadata": {},
          "execution_count": 9
        }
      ]
    },
    {
      "cell_type": "markdown",
      "source": [
        "5. Create a list of all of the files in your parent directory (minimum five files should be available).\n",
        "\n",
        "Ans. "
      ],
      "metadata": {
        "id": "KJwrGoqHL4rs"
      }
    },
    {
      "cell_type": "code",
      "source": [
        "import os\n",
        " os.listdir('.')"
      ],
      "metadata": {
        "id": "VGzUTvhCL_MS"
      },
      "execution_count": null,
      "outputs": []
    },
    {
      "cell_type": "markdown",
      "source": [
        "6. Use multiprocessing to create three separate processes. Make each one wait a random number of\n",
        "seconds between one and five, print the current time, and then exit.\n",
        "\n",
        "Ans.import multiprocessing\n",
        "\n",
        "def now(seconds): from datetime import datetime from time import sleep sleep(seconds) print('wait', seconds, 'seconds, time is', datetime.utcnow())\n",
        "\n",
        "if name == 'main': import random for n in range(3): seconds = random.random() proc = multiprocessing.Process(target=now, args=(seconds,)) proc.start()"
      ],
      "metadata": {
        "id": "zLa6MpVlL_or"
      }
    },
    {
      "cell_type": "markdown",
      "source": [
        "7. Create a date object of your day of birth.\n",
        "\n",
        "Ans. "
      ],
      "metadata": {
        "id": "naXJiIExMUDh"
      }
    },
    {
      "cell_type": "code",
      "source": [
        "my_day = date(1997, 8, 24)\n",
        "my_day"
      ],
      "metadata": {
        "colab": {
          "base_uri": "https://localhost:8080/"
        },
        "id": "7EGK5JiNMXTV",
        "outputId": "4cf920e7-7e0f-4a53-9514-9517f7903dd0"
      },
      "execution_count": 15,
      "outputs": [
        {
          "output_type": "execute_result",
          "data": {
            "text/plain": [
              "datetime.date(1997, 8, 24)"
            ]
          },
          "metadata": {},
          "execution_count": 15
        }
      ]
    },
    {
      "cell_type": "markdown",
      "source": [
        "8. What day of the week was your day of birth?\n",
        "\n",
        "Ans. "
      ],
      "metadata": {
        "id": "aY1BLoHFMbj_"
      }
    },
    {
      "cell_type": "code",
      "source": [
        "my_day.weekday()"
      ],
      "metadata": {
        "colab": {
          "base_uri": "https://localhost:8080/"
        },
        "id": "bqbREsA6Mze1",
        "outputId": "4bc268eb-73ce-4472-a5e8-cc51f36f58c6"
      },
      "execution_count": 16,
      "outputs": [
        {
          "output_type": "execute_result",
          "data": {
            "text/plain": [
              "6"
            ]
          },
          "metadata": {},
          "execution_count": 16
        }
      ]
    },
    {
      "cell_type": "code",
      "source": [
        "my_day.isoweekday()"
      ],
      "metadata": {
        "colab": {
          "base_uri": "https://localhost:8080/"
        },
        "id": "2hkKe6jWMz-r",
        "outputId": "e1ed1aeb-794c-4c6b-d411-3fe7804bc6c1"
      },
      "execution_count": 17,
      "outputs": [
        {
          "output_type": "execute_result",
          "data": {
            "text/plain": [
              "7"
            ]
          },
          "metadata": {},
          "execution_count": 17
        }
      ]
    },
    {
      "cell_type": "markdown",
      "source": [
        "9. When will you be (or when were you) 10,000 days old?\n",
        "\n",
        "Ans. "
      ],
      "metadata": {
        "id": "rZecKCWiM3Cz"
      }
    },
    {
      "cell_type": "code",
      "source": [
        "from datetime import timedelta"
      ],
      "metadata": {
        "id": "--NCDmQIM66r"
      },
      "execution_count": 18,
      "outputs": []
    },
    {
      "cell_type": "code",
      "source": [
        "party_day = my_day + timedelta(days=10000)"
      ],
      "metadata": {
        "id": "QDvPRZNMM7eb"
      },
      "execution_count": 19,
      "outputs": []
    },
    {
      "cell_type": "code",
      "source": [
        "party_day"
      ],
      "metadata": {
        "colab": {
          "base_uri": "https://localhost:8080/"
        },
        "id": "eGjk6BMmM-dN",
        "outputId": "535f6363-a390-4c23-d346-17f1fba52048"
      },
      "execution_count": 20,
      "outputs": [
        {
          "output_type": "execute_result",
          "data": {
            "text/plain": [
              "datetime.date(2025, 1, 9)"
            ]
          },
          "metadata": {},
          "execution_count": 20
        }
      ]
    }
  ]
}