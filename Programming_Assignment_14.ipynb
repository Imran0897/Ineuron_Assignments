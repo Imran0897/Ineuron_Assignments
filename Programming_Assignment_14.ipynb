{
  "nbformat": 4,
  "nbformat_minor": 0,
  "metadata": {
    "colab": {
      "provenance": [],
      "authorship_tag": "ABX9TyPhDBn9DgN/UE06v+1LyW4F",
      "include_colab_link": true
    },
    "kernelspec": {
      "name": "python3",
      "display_name": "Python 3"
    },
    "language_info": {
      "name": "python"
    }
  },
  "cells": [
    {
      "cell_type": "markdown",
      "metadata": {
        "id": "view-in-github",
        "colab_type": "text"
      },
      "source": [
        "<a href=\"https://colab.research.google.com/github/Imran0897/Ineuron_Assignments/blob/main/Programming_Assignment_14.ipynb\" target=\"_parent\"><img src=\"https://colab.research.google.com/assets/colab-badge.svg\" alt=\"Open In Colab\"/></a>"
      ]
    },
    {
      "cell_type": "code",
      "execution_count": null,
      "metadata": {
        "id": "eNQNxUwRHUkE"
      },
      "outputs": [],
      "source": [
        "#1."
      ]
    },
    {
      "cell_type": "code",
      "source": [
        "class DivbySev:\n",
        "    def __init__(self, n):\n",
        "        self.n = n\n",
        "    \n",
        "    def __iter__(self):\n",
        "        for i in range(self.n+1):\n",
        "            if i % 7 == 0:\n",
        "                yield i\n",
        "for i in DivbySev(100):\n",
        "  print(i)"
      ],
      "metadata": {
        "colab": {
          "base_uri": "https://localhost:8080/"
        },
        "id": "pp58ISTYHffB",
        "outputId": "e4dad431-5fbd-4c01-8778-528dc87d1ee8"
      },
      "execution_count": 19,
      "outputs": [
        {
          "output_type": "stream",
          "name": "stdout",
          "text": [
            "0\n",
            "7\n",
            "14\n",
            "21\n",
            "28\n",
            "35\n",
            "42\n",
            "49\n",
            "56\n",
            "63\n",
            "70\n",
            "77\n",
            "84\n",
            "91\n",
            "98\n"
          ]
        }
      ]
    },
    {
      "cell_type": "code",
      "source": [
        "#2."
      ],
      "metadata": {
        "id": "Y1zfUSBoI4TQ"
      },
      "execution_count": null,
      "outputs": []
    },
    {
      "cell_type": "code",
      "source": [
        "sent = input()\n",
        "sent1 = sent.split()\n",
        "\n",
        "for i in set(sent1):\n",
        "  if i.isalpha()==False:\n",
        "    print(i,sent1.count(i))\n",
        "for i in set(sent1):\n",
        "  if i.isalpha():\n",
        "    print(i,sent1.count(i))"
      ],
      "metadata": {
        "colab": {
          "base_uri": "https://localhost:8080/"
        },
        "id": "NLoatp6pRBEB",
        "outputId": "736a422e-e4e8-4794-9915-33dece49c200"
      },
      "execution_count": 39,
      "outputs": [
        {
          "output_type": "stream",
          "name": "stdout",
          "text": [
            "New to Python or choosing between Python 2 and Python 3? Read Python 2 or Python 3.\n",
            "3? 1\n",
            "3. 1\n",
            "2 2\n",
            "between 1\n",
            "to 1\n",
            "New 1\n",
            "Read 1\n",
            "choosing 1\n",
            "and 1\n",
            "Python 5\n",
            "or 2\n"
          ]
        }
      ]
    },
    {
      "cell_type": "code",
      "source": [
        "#3."
      ],
      "metadata": {
        "id": "Hpx1mpiujOLW"
      },
      "execution_count": null,
      "outputs": []
    },
    {
      "cell_type": "code",
      "source": [
        "class Person:\n",
        "    def getGender(self):\n",
        "        print(\"Unknown\")\n",
        "\n",
        "class Male(Person):\n",
        "    def getGender(self):\n",
        "        print(\"Male\")\n",
        "\n",
        "class Female(Person):\n",
        "    def getGender(self):\n",
        "        print(\"Female\")"
      ],
      "metadata": {
        "id": "HDwh48jzk6UH"
      },
      "execution_count": 40,
      "outputs": []
    },
    {
      "cell_type": "code",
      "source": [
        "#4"
      ],
      "metadata": {
        "id": "jZQyzD9gm2EZ"
      },
      "execution_count": null,
      "outputs": []
    },
    {
      "cell_type": "code",
      "source": [
        "l1=[\"I\",\"You\"]\n",
        "l2=[\"Play\",\"Love\"]\n",
        "l3=[\"Hockey\",\"Football\"]\n",
        "\n",
        "\n",
        "for i in l1:\n",
        "  for j in l2:\n",
        "    for k in l3:\n",
        "      print(i+\" \"+j+\" \"+k)"
      ],
      "metadata": {
        "colab": {
          "base_uri": "https://localhost:8080/"
        },
        "id": "HG0N-S2Lm-Np",
        "outputId": "0c8f3598-3261-43c8-c020-5be6f9280243"
      },
      "execution_count": 44,
      "outputs": [
        {
          "output_type": "stream",
          "name": "stdout",
          "text": [
            "I Play Hockey\n",
            "I Play Football\n",
            "I Love Hockey\n",
            "I Love Football\n",
            "You Play Hockey\n",
            "You Play Football\n",
            "You Love Hockey\n",
            "You Love Football\n"
          ]
        }
      ]
    },
    {
      "cell_type": "code",
      "source": [
        "#5."
      ],
      "metadata": {
        "id": "txGVt5T3oTNJ"
      },
      "execution_count": 45,
      "outputs": []
    },
    {
      "cell_type": "code",
      "source": [
        "import zlib\n",
        "s = 'hello world!hello world!hello world!hello world!'\n",
        "y = bytes(s, 'utf-8')\n",
        "x = zlib.compress(y)\n",
        "print(x)\n",
        "print(zlib.decompress(x))"
      ],
      "metadata": {
        "colab": {
          "base_uri": "https://localhost:8080/"
        },
        "id": "J5zkqK95nwAB",
        "outputId": "b5f4855c-8061-415e-9025-2e7cff2dcac1"
      },
      "execution_count": 50,
      "outputs": [
        {
          "output_type": "stream",
          "name": "stdout",
          "text": [
            "b'x\\x9c\\xcbH\\xcd\\xc9\\xc9W(\\xcf/\\xcaIQ\\xcc \\x82\\r\\x00\\xbd[\\x11\\xf5'\n",
            "b'hello world!hello world!hello world!hello world!'\n"
          ]
        }
      ]
    },
    {
      "cell_type": "code",
      "source": [
        "#6."
      ],
      "metadata": {
        "id": "7XbCxizKot8u"
      },
      "execution_count": 51,
      "outputs": []
    },
    {
      "cell_type": "code",
      "source": [
        "def binary_search(arr, item):\n",
        "    start = 0\n",
        "    end = len(arr) - 1\n",
        "    \n",
        "    while start <= end:\n",
        "        mid = (start + end) // 2\n",
        "        \n",
        "        if arr[mid] == item:\n",
        "            return mid\n",
        "        \n",
        "        elif arr[mid] > item:\n",
        "            end = mid - 1\n",
        "        \n",
        "        else:\n",
        "            start = mid + 1\n",
        "    return -1"
      ],
      "metadata": {
        "id": "sfSAFyJ0pFhZ"
      },
      "execution_count": 52,
      "outputs": []
    },
    {
      "cell_type": "code",
      "source": [],
      "metadata": {
        "id": "vTTJ84pcq74q"
      },
      "execution_count": null,
      "outputs": []
    }
  ]
}