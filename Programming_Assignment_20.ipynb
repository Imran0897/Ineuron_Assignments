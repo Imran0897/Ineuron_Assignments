{
  "nbformat": 4,
  "nbformat_minor": 0,
  "metadata": {
    "colab": {
      "provenance": [],
      "authorship_tag": "ABX9TyP8aAVP0ubFg2FCnekHkKQF",
      "include_colab_link": true
    },
    "kernelspec": {
      "name": "python3",
      "display_name": "Python 3"
    },
    "language_info": {
      "name": "python"
    }
  },
  "cells": [
    {
      "cell_type": "markdown",
      "metadata": {
        "id": "view-in-github",
        "colab_type": "text"
      },
      "source": [
        "<a href=\"https://colab.research.google.com/github/Imran0897/Ineuron_Assignments/blob/main/Programming_Assignment_20.ipynb\" target=\"_parent\"><img src=\"https://colab.research.google.com/assets/colab-badge.svg\" alt=\"Open In Colab\"/></a>"
      ]
    },
    {
      "cell_type": "code",
      "execution_count": null,
      "metadata": {
        "id": "xM5RDF9IOhDG"
      },
      "outputs": [],
      "source": [
        "#1"
      ]
    },
    {
      "cell_type": "code",
      "source": [
        "def return_int_list (l):\n",
        "  l1=[]\n",
        "\n",
        "  for i in l:\n",
        "    if type(i)==int:\n",
        "      l1.append(i)\n",
        "\n",
        "  return l1"
      ],
      "metadata": {
        "id": "lUlGgzYfO3et"
      },
      "execution_count": 1,
      "outputs": []
    },
    {
      "cell_type": "code",
      "source": [
        "#2."
      ],
      "metadata": {
        "id": "LamZKlkWPMZt"
      },
      "execution_count": 3,
      "outputs": []
    },
    {
      "cell_type": "code",
      "source": [
        "def ele_add_ind(l):\n",
        "  l1 = []\n",
        "\n",
        "  for i in l:\n",
        "    a = i + l.index(i)\n",
        "    l1.append(a)\n",
        "  return l1"
      ],
      "metadata": {
        "id": "V92nTr5dPQ9e"
      },
      "execution_count": 6,
      "outputs": []
    },
    {
      "cell_type": "code",
      "source": [
        "ele_add_ind([1, 2, 3, 4, 5])"
      ],
      "metadata": {
        "colab": {
          "base_uri": "https://localhost:8080/"
        },
        "id": "ZHO59XYZQJPU",
        "outputId": "a34f8c4b-9583-4ada-f94c-d24761bf35b9"
      },
      "execution_count": 7,
      "outputs": [
        {
          "output_type": "execute_result",
          "data": {
            "text/plain": [
              "[1, 3, 5, 7, 9]"
            ]
          },
          "metadata": {},
          "execution_count": 7
        }
      ]
    },
    {
      "cell_type": "code",
      "source": [
        "#3"
      ],
      "metadata": {
        "id": "6GA9MiX_QRj8"
      },
      "execution_count": 8,
      "outputs": []
    },
    {
      "cell_type": "code",
      "source": [
        "import math\n",
        "def cone_vol(h,r):\n",
        "\n",
        "  vol = (1*math.pi*r*r*h)/3\n",
        "\n",
        "  return vol"
      ],
      "metadata": {
        "id": "p63yp-c7QZNp"
      },
      "execution_count": 10,
      "outputs": []
    },
    {
      "cell_type": "code",
      "source": [
        "cone_vol(15,6)"
      ],
      "metadata": {
        "colab": {
          "base_uri": "https://localhost:8080/"
        },
        "id": "1xbaBS_XQ63X",
        "outputId": "2d7d7ff4-8f0e-48fc-8e1d-f733110e455f"
      },
      "execution_count": 12,
      "outputs": [
        {
          "output_type": "execute_result",
          "data": {
            "text/plain": [
              "565.4866776461628"
            ]
          },
          "metadata": {},
          "execution_count": 12
        }
      ]
    },
    {
      "cell_type": "code",
      "source": [
        "#4"
      ],
      "metadata": {
        "id": "c3lv8BISRBI7"
      },
      "execution_count": 13,
      "outputs": []
    },
    {
      "cell_type": "code",
      "source": [
        "def triangle(n):\n",
        "    return n*(n+1)*0.5"
      ],
      "metadata": {
        "id": "QlZk3FTyRqD4"
      },
      "execution_count": 14,
      "outputs": []
    },
    {
      "cell_type": "code",
      "source": [
        "triangle(6)"
      ],
      "metadata": {
        "colab": {
          "base_uri": "https://localhost:8080/"
        },
        "id": "1NibIsMgRrIC",
        "outputId": "4b80795d-5248-4cd4-9e90-07e0d7e13c73"
      },
      "execution_count": 15,
      "outputs": [
        {
          "output_type": "execute_result",
          "data": {
            "text/plain": [
              "21.0"
            ]
          },
          "metadata": {},
          "execution_count": 15
        }
      ]
    },
    {
      "cell_type": "code",
      "source": [
        "#5."
      ],
      "metadata": {
        "id": "-cwcLaseRzEH"
      },
      "execution_count": 16,
      "outputs": []
    },
    {
      "cell_type": "code",
      "source": [
        "def return_missing_value(l):\n",
        "  l1 = [x for x in range(11)]\n",
        "  l2 = sum(l1)\n",
        "\n",
        "  return l2-sum(l)\n"
      ],
      "metadata": {
        "id": "QKLmzyLOR1F2"
      },
      "execution_count": 21,
      "outputs": []
    },
    {
      "cell_type": "code",
      "source": [
        "return_missing_value([1, 2, 3, 4, 6, 7, 8, 9, 10])"
      ],
      "metadata": {
        "colab": {
          "base_uri": "https://localhost:8080/"
        },
        "id": "uJ9G_AVWSgwh",
        "outputId": "2404c959-f6c7-4a53-da70-6bf13e59c19a"
      },
      "execution_count": 22,
      "outputs": [
        {
          "output_type": "execute_result",
          "data": {
            "text/plain": [
              "5"
            ]
          },
          "metadata": {},
          "execution_count": 22
        }
      ]
    },
    {
      "cell_type": "code",
      "source": [],
      "metadata": {
        "id": "DJH1ARRPSnlG"
      },
      "execution_count": null,
      "outputs": []
    }
  ]
}