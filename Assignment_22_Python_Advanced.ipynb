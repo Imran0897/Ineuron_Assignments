{
  "nbformat": 4,
  "nbformat_minor": 0,
  "metadata": {
    "colab": {
      "provenance": [],
      "authorship_tag": "ABX9TyO1qPayMxGnntImEBH5B4Fj",
      "include_colab_link": true
    },
    "kernelspec": {
      "name": "python3",
      "display_name": "Python 3"
    },
    "language_info": {
      "name": "python"
    }
  },
  "cells": [
    {
      "cell_type": "markdown",
      "metadata": {
        "id": "view-in-github",
        "colab_type": "text"
      },
      "source": [
        "<a href=\"https://colab.research.google.com/github/Imran0897/Ineuron_Assignments/blob/main/Assignment_22_Python_Advanced.ipynb\" target=\"_parent\"><img src=\"https://colab.research.google.com/assets/colab-badge.svg\" alt=\"Open In Colab\"/></a>"
      ]
    },
    {
      "cell_type": "markdown",
      "source": [
        "Q1. What are the benefits of the built-in array package, if any?\n",
        "\n",
        "Ans. Arrays represent multiple data items of the same type using a single name.In arrays, the elements can be accessed randomly by using the index number. Arrays allocate memory in contiguous memory locations for all its elements. Hence there is no chance of extra memory being allocated in case of arrays. This avoids memory overflow or shortage of memory in arrays."
      ],
      "metadata": {
        "id": "fzfTb-RuXoRo"
      }
    },
    {
      "cell_type": "markdown",
      "source": [
        "Q2. What are some of the array package&#39;s limitations?\n",
        "\n",
        "Ans. The number of elements to be stored in an array should be known in advance. An array is a static structure (which means the array is of fixed size). Once declared the size of the array cannot be modified. The memory which is allocated to it cannot be increased or decreased. Insertion and deletion are quite difficult in an array as the elements are stored in consecutive memory locations and the shifting operation is costly.Allocating more memory than the requirement leads to wastage of memory space and less allocation of memory \n",
        "also leads to a problem."
      ],
      "metadata": {
        "id": "Aq4bHah6Ytz_"
      }
    },
    {
      "cell_type": "markdown",
      "source": [
        "Q3. Describe the main differences between the array and numpy packages.\n",
        "\n",
        "Ans. The array package doesn't provide any help with numerical calculation with the items insdie it in number form while NumPy give you a wide variety of numerical operations. An array is a single dimensional entity which hold\n",
        "the numerical data, while numpy can have more than 1 dimension.In case of array, item can be accessed by its index position and it is easy task while in numpy item is accessed by its column and row index, which makes it slightly time taking. Same goes with appending operation.In case of array we do not form a tabular structure, while in numpy it forms a tabular structure."
      ],
      "metadata": {
        "id": "aAC7VYTqX2FQ"
      }
    },
    {
      "cell_type": "markdown",
      "source": [
        "Q4. Explain the distinctions between the empty, ones, and zeros functions.\n",
        "\n",
        "Ans. Empty function: An empty function is a function that does not contain any statement within its body. If you try to write a function definition without any statement in python ,it will return an error. To avoid this,we use pass statement. pass is a special statement in Python that does nothing. It only works as a dummy statement ones: This function returns a new array of given shape and data type, where the element’s value is 1.zeros: This function returns a new array of given shape and data type, where the element’s value is 0"
      ],
      "metadata": {
        "id": "jjyQS8nnYMD3"
      }
    },
    {
      "cell_type": "markdown",
      "source": [
        "Q5. In the fromfunction function, which is used to construct new arrays, what is the role of the callable\n",
        "argument?\n",
        "\n",
        "Ans. Its function is to execute the function over each coordinate and the resulting array. The function is called with N parameters, where N is the rank of shape. Each parameter represents the coordinates of the array varying along a specific axis."
      ],
      "metadata": {
        "id": "JuzMghDGZWT_"
      }
    },
    {
      "cell_type": "markdown",
      "source": [
        "Q6. What happens when a numpy array is combined with a single-value operand (a scalar, such as\n",
        "an int or a floating-point value) through addition, as in the expression A + n?\n",
        "\n",
        "Ans. If any scaler value such as integer is added to the numpy array then all the elements inside the array will add that value in it."
      ],
      "metadata": {
        "id": "8IGZmQhiZlW_"
      }
    },
    {
      "cell_type": "code",
      "source": [
        "import numpy as np\n",
        "a=np.arange(9).reshape(3,3)\n",
        "print(a)\n",
        "print()\n",
        "print(a+1)"
      ],
      "metadata": {
        "colab": {
          "base_uri": "https://localhost:8080/"
        },
        "id": "syEg_WkKZtJ_",
        "outputId": "326ffdb2-fcc1-49fb-addb-bf402a14f6a0"
      },
      "execution_count": 1,
      "outputs": [
        {
          "output_type": "stream",
          "name": "stdout",
          "text": [
            "[[0 1 2]\n",
            " [3 4 5]\n",
            " [6 7 8]]\n",
            "\n",
            "[[1 2 3]\n",
            " [4 5 6]\n",
            " [7 8 9]]\n"
          ]
        }
      ]
    },
    {
      "cell_type": "markdown",
      "source": [
        "Q7. Can array-to-scalar operations use combined operation-assign operators (such as += or *=)?\n",
        "What is the outcome?\n",
        "\n",
        "Ans. It will do the operation as per operators. Like if we use + operand it will update the current array by adding and when we use '*', it will update by multiplying."
      ],
      "metadata": {
        "id": "7ZskyKF3Zxvg"
      }
    },
    {
      "cell_type": "code",
      "source": [
        "print(a)"
      ],
      "metadata": {
        "colab": {
          "base_uri": "https://localhost:8080/"
        },
        "id": "1WL_2FJpZ_X_",
        "outputId": "664056d9-94b8-47ae-c8dc-f6dbb2497dc9"
      },
      "execution_count": 2,
      "outputs": [
        {
          "output_type": "stream",
          "name": "stdout",
          "text": [
            "[[0 1 2]\n",
            " [3 4 5]\n",
            " [6 7 8]]\n"
          ]
        }
      ]
    },
    {
      "cell_type": "code",
      "source": [
        "a+=1\n",
        "print(a)"
      ],
      "metadata": {
        "colab": {
          "base_uri": "https://localhost:8080/"
        },
        "id": "f2pxLcjgZ_6z",
        "outputId": "b9dffe7c-7622-456b-f614-9d0ff7c3adac"
      },
      "execution_count": 3,
      "outputs": [
        {
          "output_type": "stream",
          "name": "stdout",
          "text": [
            "[[1 2 3]\n",
            " [4 5 6]\n",
            " [7 8 9]]\n"
          ]
        }
      ]
    },
    {
      "cell_type": "code",
      "source": [
        "a*=2\n",
        "print(a)"
      ],
      "metadata": {
        "colab": {
          "base_uri": "https://localhost:8080/"
        },
        "id": "xYl4rW1xaCKn",
        "outputId": "6fbc54e6-5720-4b2b-ea79-cceafff83c72"
      },
      "execution_count": 4,
      "outputs": [
        {
          "output_type": "stream",
          "name": "stdout",
          "text": [
            "[[ 2  4  6]\n",
            " [ 8 10 12]\n",
            " [14 16 18]]\n"
          ]
        }
      ]
    },
    {
      "cell_type": "markdown",
      "source": [
        "Q8. Does a numpy array contain fixed-length strings? What happens if you allocate a longer string to\n",
        "one of these arrays?\n",
        "\n",
        "Ans.  Yes it is possible that we can include a string of fixed length in numpy array. The dtype of any numpy array containing string values is the maximum length of any string present in the array.Once set, it will only be able to store new string having length not more than the maximum length at the time \n",
        "of the creation. If we try to reassign some another string value having length greater than the maximum length of the existing elements, it simply discards all the values beyond the maximum length accept upto those values \n",
        "which are under the limit.\n"
      ],
      "metadata": {
        "id": "rlTATyohaNYJ"
      }
    },
    {
      "cell_type": "code",
      "source": [
        "import numpy as np\n",
        "name = np.array(['ram', 'mohan', 'shiva'])\n",
        "name"
      ],
      "metadata": {
        "colab": {
          "base_uri": "https://localhost:8080/"
        },
        "id": "cvA8mtoiamVg",
        "outputId": "bb2879bc-7e6a-4225-e22c-15a1588e11ee"
      },
      "execution_count": 5,
      "outputs": [
        {
          "output_type": "execute_result",
          "data": {
            "text/plain": [
              "array(['ram', 'mohan', 'shiva'], dtype='<U5')"
            ]
          },
          "metadata": {},
          "execution_count": 5
        }
      ]
    },
    {
      "cell_type": "markdown",
      "source": [
        "Q9. What happens when you combine two numpy arrays using an operation like addition (+) or\n",
        "multiplication (*)? What are the conditions for combining two numpy arrays?\n",
        "\n",
        "Ans. It will simply add or multiply element to element at same position.The only requirement which must be met are:\n",
        "\n",
        "1)Data type should be same.\n",
        "\n",
        "2) Shape of the two matrices must be same\n"
      ],
      "metadata": {
        "id": "FeNLjiJoayBH"
      }
    },
    {
      "cell_type": "code",
      "source": [
        "a1=a\n",
        "a1"
      ],
      "metadata": {
        "colab": {
          "base_uri": "https://localhost:8080/"
        },
        "id": "JlLcM0rJa9CR",
        "outputId": "d07f24b6-f6ab-4534-ab4b-75221888ba89"
      },
      "execution_count": 6,
      "outputs": [
        {
          "output_type": "execute_result",
          "data": {
            "text/plain": [
              "array([[ 2,  4,  6],\n",
              "       [ 8, 10, 12],\n",
              "       [14, 16, 18]])"
            ]
          },
          "metadata": {},
          "execution_count": 6
        }
      ]
    },
    {
      "cell_type": "code",
      "source": [
        "a2=a+2\n",
        "a2"
      ],
      "metadata": {
        "colab": {
          "base_uri": "https://localhost:8080/"
        },
        "id": "MYJHWCwFa_BE",
        "outputId": "a16e011e-c320-453d-e76b-1d47c76f3a9a"
      },
      "execution_count": 7,
      "outputs": [
        {
          "output_type": "execute_result",
          "data": {
            "text/plain": [
              "array([[ 4,  6,  8],\n",
              "       [10, 12, 14],\n",
              "       [16, 18, 20]])"
            ]
          },
          "metadata": {},
          "execution_count": 7
        }
      ]
    },
    {
      "cell_type": "code",
      "source": [
        "a1+a2"
      ],
      "metadata": {
        "colab": {
          "base_uri": "https://localhost:8080/"
        },
        "id": "Z4XPV0AfbHMe",
        "outputId": "773701eb-3154-4d2c-b87c-b3da46a84c5a"
      },
      "execution_count": 8,
      "outputs": [
        {
          "output_type": "execute_result",
          "data": {
            "text/plain": [
              "array([[ 6, 10, 14],\n",
              "       [18, 22, 26],\n",
              "       [30, 34, 38]])"
            ]
          },
          "metadata": {},
          "execution_count": 8
        }
      ]
    },
    {
      "cell_type": "code",
      "source": [
        "a1*a2"
      ],
      "metadata": {
        "colab": {
          "base_uri": "https://localhost:8080/"
        },
        "id": "-8ZFk6X0bJfW",
        "outputId": "c88562ab-cd06-4ca3-dafa-1b6a335c2e5b"
      },
      "execution_count": 9,
      "outputs": [
        {
          "output_type": "execute_result",
          "data": {
            "text/plain": [
              "array([[  8,  24,  48],\n",
              "       [ 80, 120, 168],\n",
              "       [224, 288, 360]])"
            ]
          },
          "metadata": {},
          "execution_count": 9
        }
      ]
    },
    {
      "cell_type": "code",
      "source": [
        "a1+a2.reshape(9,1)"
      ],
      "metadata": {
        "colab": {
          "base_uri": "https://localhost:8080/",
          "height": 165
        },
        "id": "iANWObTRbLZR",
        "outputId": "db643728-f837-4298-a33b-33ae7fb1894e"
      },
      "execution_count": 10,
      "outputs": [
        {
          "output_type": "error",
          "ename": "ValueError",
          "evalue": "ignored",
          "traceback": [
            "\u001b[0;31m---------------------------------------------------------------------------\u001b[0m",
            "\u001b[0;31mValueError\u001b[0m                                Traceback (most recent call last)",
            "\u001b[0;32m<ipython-input-10-f24d236b5a9f>\u001b[0m in \u001b[0;36m<cell line: 1>\u001b[0;34m()\u001b[0m\n\u001b[0;32m----> 1\u001b[0;31m \u001b[0ma1\u001b[0m\u001b[0;34m+\u001b[0m\u001b[0ma2\u001b[0m\u001b[0;34m.\u001b[0m\u001b[0mreshape\u001b[0m\u001b[0;34m(\u001b[0m\u001b[0;36m9\u001b[0m\u001b[0;34m,\u001b[0m\u001b[0;36m1\u001b[0m\u001b[0;34m)\u001b[0m\u001b[0;34m\u001b[0m\u001b[0;34m\u001b[0m\u001b[0m\n\u001b[0m",
            "\u001b[0;31mValueError\u001b[0m: operands could not be broadcast together with shapes (3,3) (9,1) "
          ]
        }
      ]
    },
    {
      "cell_type": "code",
      "source": [
        "a1*a2.reshape(9,1)"
      ],
      "metadata": {
        "colab": {
          "base_uri": "https://localhost:8080/",
          "height": 165
        },
        "id": "9bDCiP27bODA",
        "outputId": "1c25852d-9587-466c-cc21-693c2f31c058"
      },
      "execution_count": 11,
      "outputs": [
        {
          "output_type": "error",
          "ename": "ValueError",
          "evalue": "ignored",
          "traceback": [
            "\u001b[0;31m---------------------------------------------------------------------------\u001b[0m",
            "\u001b[0;31mValueError\u001b[0m                                Traceback (most recent call last)",
            "\u001b[0;32m<ipython-input-11-4ba0754c30f9>\u001b[0m in \u001b[0;36m<cell line: 1>\u001b[0;34m()\u001b[0m\n\u001b[0;32m----> 1\u001b[0;31m \u001b[0ma1\u001b[0m\u001b[0;34m*\u001b[0m\u001b[0ma2\u001b[0m\u001b[0;34m.\u001b[0m\u001b[0mreshape\u001b[0m\u001b[0;34m(\u001b[0m\u001b[0;36m9\u001b[0m\u001b[0;34m,\u001b[0m\u001b[0;36m1\u001b[0m\u001b[0;34m)\u001b[0m\u001b[0;34m\u001b[0m\u001b[0;34m\u001b[0m\u001b[0m\n\u001b[0m",
            "\u001b[0;31mValueError\u001b[0m: operands could not be broadcast together with shapes (3,3) (9,1) "
          ]
        }
      ]
    },
    {
      "cell_type": "markdown",
      "source": [
        "Q10. What is the best way to use a Boolean array to mask another array?\n",
        "\n",
        "Ans. "
      ],
      "metadata": {
        "id": "UV_SWO87bUCy"
      }
    },
    {
      "cell_type": "code",
      "source": [
        "y = np.array([True,True,False,True])          \n",
        "x = np.array([1,2,3,4])         \n",
        "m = np.ma.masked_where(x>2,y)  \n",
        "print(list(m))\n",
        "print(m.ndim)"
      ],
      "metadata": {
        "colab": {
          "base_uri": "https://localhost:8080/"
        },
        "id": "MdtzH2CebYzI",
        "outputId": "7079de20-20e7-4008-a364-0862c622f101"
      },
      "execution_count": 13,
      "outputs": [
        {
          "output_type": "stream",
          "name": "stdout",
          "text": [
            "[True, True, masked, masked]\n",
            "1\n"
          ]
        }
      ]
    },
    {
      "cell_type": "markdown",
      "source": [
        "Q11. What are three different ways to get the standard deviation of a wide collection of data using\n",
        "both standard Python and its packages? Sort the three of them by how quickly they execute.\n",
        "\n",
        "Ans. Standard deviation can be calculated in amny ways. If wee see the formula of SD, it says std= Square Root of [ Summation of [square of (x-mean)/number of observation] ] .So this can be achive by:\n",
        "1)Using math module :"
      ],
      "metadata": {
        "id": "FyHO4aIFbhMD"
      }
    },
    {
      "cell_type": "code",
      "source": [
        "import math\n",
        "N = 1\n",
        "avg=a\n",
        "total=N\n",
        "x=[1,2]\n",
        "SD=math.sqrt((1-a)**2+(2-a)**2/N)"
      ],
      "metadata": {
        "colab": {
          "base_uri": "https://localhost:8080/",
          "height": 200
        },
        "id": "FeROXdOlbwBI",
        "outputId": "2902688d-89d5-453c-d6d8-a60eb80a6e99"
      },
      "execution_count": 14,
      "outputs": [
        {
          "output_type": "error",
          "ename": "TypeError",
          "evalue": "ignored",
          "traceback": [
            "\u001b[0;31m---------------------------------------------------------------------------\u001b[0m",
            "\u001b[0;31mTypeError\u001b[0m                                 Traceback (most recent call last)",
            "\u001b[0;32m<ipython-input-14-297692db36bf>\u001b[0m in \u001b[0;36m<cell line: 6>\u001b[0;34m()\u001b[0m\n\u001b[1;32m      4\u001b[0m \u001b[0mtotal\u001b[0m\u001b[0;34m=\u001b[0m\u001b[0mN\u001b[0m\u001b[0;34m\u001b[0m\u001b[0;34m\u001b[0m\u001b[0m\n\u001b[1;32m      5\u001b[0m \u001b[0mx\u001b[0m\u001b[0;34m=\u001b[0m\u001b[0;34m[\u001b[0m\u001b[0;36m1\u001b[0m\u001b[0;34m,\u001b[0m\u001b[0;36m2\u001b[0m\u001b[0;34m]\u001b[0m\u001b[0;34m\u001b[0m\u001b[0;34m\u001b[0m\u001b[0m\n\u001b[0;32m----> 6\u001b[0;31m \u001b[0mSD\u001b[0m\u001b[0;34m=\u001b[0m\u001b[0mmath\u001b[0m\u001b[0;34m.\u001b[0m\u001b[0msqrt\u001b[0m\u001b[0;34m(\u001b[0m\u001b[0;34m(\u001b[0m\u001b[0;36m1\u001b[0m\u001b[0;34m-\u001b[0m\u001b[0ma\u001b[0m\u001b[0;34m)\u001b[0m\u001b[0;34m**\u001b[0m\u001b[0;36m2\u001b[0m\u001b[0;34m+\u001b[0m\u001b[0;34m(\u001b[0m\u001b[0;36m2\u001b[0m\u001b[0;34m-\u001b[0m\u001b[0ma\u001b[0m\u001b[0;34m)\u001b[0m\u001b[0;34m**\u001b[0m\u001b[0;36m2\u001b[0m\u001b[0;34m/\u001b[0m\u001b[0mN\u001b[0m\u001b[0;34m)\u001b[0m\u001b[0;34m\u001b[0m\u001b[0;34m\u001b[0m\u001b[0m\n\u001b[0m",
            "\u001b[0;31mTypeError\u001b[0m: only size-1 arrays can be converted to Python scalars"
          ]
        }
      ]
    },
    {
      "cell_type": "code",
      "source": [
        "import numpy as np\n",
        "SD=np.std(x)"
      ],
      "metadata": {
        "id": "61DJ_bOob3Gp"
      },
      "execution_count": 15,
      "outputs": []
    },
    {
      "cell_type": "code",
      "source": [
        "SD= (((1-avg)**2 + (2-avg)**2)/N)**1/2"
      ],
      "metadata": {
        "id": "U0bQjLcIbwvK"
      },
      "execution_count": 16,
      "outputs": []
    },
    {
      "cell_type": "markdown",
      "source": [
        "12. What is the dimensionality of a Boolean mask-generated array?\n",
        "\n",
        "Ans. The dimensionality of a Boolean mask-generated array depends on the shape of the original array and the condition used to create the Boolean mask.\n",
        "\n",
        "When a Boolean mask is applied to an array, it creates a new array with the same shape as the original array, where the values that correspond to True in the Boolean mask are retained, and the values that correspond to False are discarded or set to zero.\n",
        "\n",
        "For example, if we have a 2-dimensional array with shape (3, 4) and apply a Boolean mask of shape (3, 4) to it, the resulting array will also have shape (3, 4). Similarly, if we apply a Boolean mask of shape (3,) to the same 2-dimensional array, the resulting array will have shape (3, 4) as well.\n",
        "\n",
        "In general, the shape of the Boolean mask must be broadcastable to the shape of the original array to apply the mask. Broadcasting allows NumPy to automatically replicate the Boolean mask along the appropriate dimensions to match the shape of the original array.\n",
        "\n",
        "So, the dimensionality of a Boolean mask-generated array is the same as the shape of the original array.\n",
        "\n",
        "\n",
        "\n",
        "\n",
        "\n",
        "\n"
      ],
      "metadata": {
        "id": "EZLyn-fGcIKJ"
      }
    }
  ]
}