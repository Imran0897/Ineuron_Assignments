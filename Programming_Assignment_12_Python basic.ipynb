{
  "nbformat": 4,
  "nbformat_minor": 0,
  "metadata": {
    "colab": {
      "provenance": []
    },
    "kernelspec": {
      "name": "python3",
      "display_name": "Python 3"
    },
    "language_info": {
      "name": "python"
    }
  },
  "cells": [
    {
      "cell_type": "code",
      "execution_count": 27,
      "metadata": {
        "id": "3SmdEUuaKtd5"
      },
      "outputs": [],
      "source": [
        "#1.Write a Python program to Extract Unique values dictionary values?"
      ]
    },
    {
      "cell_type": "code",
      "source": [
        "def unique_value_dict(dict):\n",
        "  s = set()\n",
        "  for i in dict.values():\n",
        "    s.add(i)\n",
        "  return s"
      ],
      "metadata": {
        "id": "dNC5f4B-Q4i7"
      },
      "execution_count": 28,
      "outputs": []
    },
    {
      "cell_type": "code",
      "source": [
        "#2.Write a Python program to find the sum of all items in a dictionary?"
      ],
      "metadata": {
        "id": "Eg3RSf1cQ9lU"
      },
      "execution_count": 29,
      "outputs": []
    },
    {
      "cell_type": "code",
      "source": [
        "def sum_items_dict(dict):\n",
        "  sum = 0\n",
        "  for i , k in dict.items():\n",
        "    sum = sum + i+k\n",
        "  return sum"
      ],
      "metadata": {
        "id": "Szuy1HrANz1Z"
      },
      "execution_count": 30,
      "outputs": []
    },
    {
      "cell_type": "code",
      "source": [
        "#3.Write a Python program to Merging two Dictionaries?"
      ],
      "metadata": {
        "id": "UVOkv0VrQ_gq"
      },
      "execution_count": 31,
      "outputs": []
    },
    {
      "cell_type": "code",
      "source": [
        "dict1={}\n",
        "dict2={}\n",
        "merged_dict = {**dict1, **dict2}\n",
        "\n",
        "print(\"Merged dictionary:\", merged_dict)\n"
      ],
      "metadata": {
        "colab": {
          "base_uri": "https://localhost:8080/"
        },
        "id": "qHb7kbdtPH6a",
        "outputId": "de132476-39cd-4d15-e2ec-60f8a7f53d68"
      },
      "execution_count": 32,
      "outputs": [
        {
          "output_type": "stream",
          "name": "stdout",
          "text": [
            "Merged dictionary: {}\n"
          ]
        }
      ]
    },
    {
      "cell_type": "code",
      "source": [
        "#4.Write a Python program to convert key-values list to flat dictionary?"
      ],
      "metadata": {
        "id": "0j9708o7Qo0Z"
      },
      "execution_count": 39,
      "outputs": []
    },
    {
      "cell_type": "code",
      "source": [
        "dic= { \"day\": [1, 2, 3], \"name\": ['Mon', 'Tues', 'Wed' ] }\n",
        "print(\"Original dictionary: \",dic)\n",
        "f_dic= dict(zip(dic[\"day\"], dic[\"name\"]))\n",
        "print(\"FLATTENED DICTIONARY: \", f_dic)"
      ],
      "metadata": {
        "colab": {
          "base_uri": "https://localhost:8080/"
        },
        "id": "yghwkRDPRCnG",
        "outputId": "87175581-b7b8-457d-c7e6-357d0a2b6a8d"
      },
      "execution_count": 34,
      "outputs": [
        {
          "output_type": "stream",
          "name": "stdout",
          "text": [
            "Original dictionary:  {'day': [1, 2, 3], 'name': ['Mon', 'Tues', 'Wed']}\n",
            "FLATTENED DICTIONARY:  {1: 'Mon', 2: 'Tues', 3: 'Wed'}\n"
          ]
        }
      ]
    },
    {
      "cell_type": "code",
      "source": [
        "#5.Write a Python program to insertion at the beginning in OrderedDict?"
      ],
      "metadata": {
        "id": "IBMFm3dXWhZ4"
      },
      "execution_count": 38,
      "outputs": []
    },
    {
      "cell_type": "code",
      "source": [
        "from collections import OrderedDict\n",
        "\n",
        "iniordered_dict = OrderedDict([('akshat', '1'), ('nikhil', '2')])\n",
        " \n",
        "iniordered_dict.update({'manjeet':'3'})\n",
        "iniordered_dict.move_to_end('manjeet', last = False)\n",
        " \n",
        "print (\"Result Dict : \"+str(iniordered_dict))"
      ],
      "metadata": {
        "colab": {
          "base_uri": "https://localhost:8080/"
        },
        "id": "ejw7pCAzW7qu",
        "outputId": "e8138914-a8bf-4aa7-f94e-a6df573bcbf1"
      },
      "execution_count": 43,
      "outputs": [
        {
          "output_type": "stream",
          "name": "stdout",
          "text": [
            "Result Dict : OrderedDict([('manjeet', '3'), ('akshat', '1'), ('nikhil', '2')])\n"
          ]
        }
      ]
    },
    {
      "cell_type": "code",
      "source": [
        "#6. Write a Python program to check order of character in string using OrderedDict()?"
      ],
      "metadata": {
        "id": "0w1JA8XPX4CU"
      },
      "execution_count": 44,
      "outputs": []
    },
    {
      "cell_type": "code",
      "source": [
        "def check_order(string, pattern):\n",
        "    i, j = 0, 0\n",
        "    for char in string:\n",
        "        if char == pattern[j]:\n",
        "            j += 1\n",
        "        if j == len(pattern):\n",
        "            return True\n",
        "        i += 1\n",
        " \n",
        "    return False"
      ],
      "metadata": {
        "id": "HjiNhOXrYbCD"
      },
      "execution_count": 46,
      "outputs": []
    },
    {
      "cell_type": "code",
      "source": [
        "#7.Write a Python program to sort Python Dictionaries by Key or Value?"
      ],
      "metadata": {
        "id": "A9NrbAJnZu2I"
      },
      "execution_count": 47,
      "outputs": []
    },
    {
      "cell_type": "code",
      "source": [
        "\n",
        "myKeys = list(myDict.keys())\n",
        "myKeys.sort()\n",
        "sorted_dict = {i: myDict[i] for i in myKeys}"
      ],
      "metadata": {
        "id": "ENkDCvP3afob"
      },
      "execution_count": 49,
      "outputs": []
    },
    {
      "cell_type": "code",
      "source": [],
      "metadata": {
        "id": "4YE3VncAafwF"
      },
      "execution_count": null,
      "outputs": []
    }
  ]
}