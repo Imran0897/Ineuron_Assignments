{
  "nbformat": 4,
  "nbformat_minor": 0,
  "metadata": {
    "colab": {
      "provenance": [],
      "authorship_tag": "ABX9TyPFNa5kvFLgobPk4yzM0ZWW",
      "include_colab_link": true
    },
    "kernelspec": {
      "name": "python3",
      "display_name": "Python 3"
    },
    "language_info": {
      "name": "python"
    }
  },
  "cells": [
    {
      "cell_type": "markdown",
      "metadata": {
        "id": "view-in-github",
        "colab_type": "text"
      },
      "source": [
        "<a href=\"https://colab.research.google.com/github/Imran0897/Ineuron_Assignments/blob/main/Assignment_17_Python_Advanced.ipynb\" target=\"_parent\"><img src=\"https://colab.research.google.com/assets/colab-badge.svg\" alt=\"Open In Colab\"/></a>"
      ]
    },
    {
      "cell_type": "markdown",
      "source": [
        "Q1. Explain the difference between greedy and non-greedy syntax with visual terms in as few words\n",
        "as possible. What is the bare minimum effort required to transform a greedy pattern into a non-greedy\n",
        "one? What characters or characters can you introduce or change?\n",
        "\n",
        "Ans. "
      ],
      "metadata": {
        "id": "5m6-eexOSa_H"
      }
    },
    {
      "cell_type": "code",
      "source": [
        "# Ans : Greedy version, Python matches the longest possible string\n",
        "import re\n",
        "text = \"<Robot is the latest addition to the tech items> <Robot is very advanced> <Robot is a machine>\"\n",
        "greedyregobj=re.compile(r'<.*>')\n",
        "match=greedyregobj.search(text)\n",
        "print(match.group())\n",
        "\n",
        "#the Non-greedy version of the regex, Python matches the shortest possible string\n",
        "\n",
        "nongreedyregobj=re.compile(r'<Ro.*?>')\n",
        "match1=nongreedyregobj.search(text)\n",
        "match1.group()"
      ],
      "metadata": {
        "colab": {
          "base_uri": "https://localhost:8080/",
          "height": 53
        },
        "id": "6px05jg7Wuj5",
        "outputId": "d65d6858-17c6-4c83-9993-52b418b942c5"
      },
      "execution_count": 1,
      "outputs": [
        {
          "output_type": "stream",
          "name": "stdout",
          "text": [
            "<Robot is the latest addition to the tech items> <Robot is very advanced> <Robot is a machine>\n"
          ]
        },
        {
          "output_type": "execute_result",
          "data": {
            "text/plain": [
              "'<Robot is the latest addition to the tech items>'"
            ],
            "application/vnd.google.colaboratory.intrinsic+json": {
              "type": "string"
            }
          },
          "metadata": {},
          "execution_count": 1
        }
      ]
    },
    {
      "cell_type": "markdown",
      "source": [
        "Q2. When exactly does greedy versus non-greedy make a difference?  What if you&#39;re looking for a\n",
        "non-greedy match but the only one available is greedy?\n",
        "\n",
        "Ans. In the non-greedy version of the regex, Python matches the shortest possible string. In the greedy version, Python matches the longest possible string. If only non greedy match is available, we can use other filtering or pattern matching methods of regex and further identify the required pattern."
      ],
      "metadata": {
        "id": "caPPhSM7Wvu9"
      }
    },
    {
      "cell_type": "markdown",
      "source": [
        "Q3. In a simple match of a string, which looks only for one match and does not do any replacement, is\n",
        "the use of a nontagged group likely to make any practical difference?"
      ],
      "metadata": {
        "id": "VdzPtWzsW7i9"
      }
    },
    {
      "cell_type": "code",
      "source": [
        "# Ans : \n",
        "import re\n",
        "phoneNumRegex = re.compile(r'\\d\\d\\d')\n",
        "mo = phoneNumRegex.search('My number is 415-555-4242.')\n",
        "print('Phone number found: ' + mo.group()) # non tagged group\n",
        "print('Phone number found: ' + mo.group(0))\n"
      ],
      "metadata": {
        "colab": {
          "base_uri": "https://localhost:8080/"
        },
        "id": "RQc54bIjWvDE",
        "outputId": "160ee5df-17a4-48b9-e32d-d948a01be931"
      },
      "execution_count": 2,
      "outputs": [
        {
          "output_type": "stream",
          "name": "stdout",
          "text": [
            "Phone number found: 415\n",
            "Phone number found: 415\n"
          ]
        }
      ]
    },
    {
      "cell_type": "markdown",
      "source": [
        "Q4. Describe a scenario in which using a nontagged category would have a significant impact on the program&#39;s outcomes.\n",
        "\n",
        "Ans. "
      ],
      "metadata": {
        "id": "67SSqSb1XP1W"
      }
    },
    {
      "cell_type": "code",
      "source": [
        "\n",
        "import re\n",
        "text='135.135'\n",
        "pattern=r'(\\d+)(?:.)(\\d+)'\n",
        "regobj=re.compile(pattern)\n",
        "matobj=regobj.search(text)\n",
        "matobj.groups()\n",
        "#  Here the '.' decimal is not tagged or captured.\n",
        "#  It will useful in scenarios where the separator of value in a string is of no use and we need to capture only the\n",
        "#  values."
      ],
      "metadata": {
        "colab": {
          "base_uri": "https://localhost:8080/"
        },
        "id": "bahOXY5gXNQZ",
        "outputId": "e17f1a27-1921-4eff-bd32-bc89af2ed7bd"
      },
      "execution_count": 3,
      "outputs": [
        {
          "output_type": "execute_result",
          "data": {
            "text/plain": [
              "('135', '135')"
            ]
          },
          "metadata": {},
          "execution_count": 3
        }
      ]
    },
    {
      "cell_type": "markdown",
      "source": [
        "Q5. Unlike a normal regex pattern, a look-ahead condition does not consume the characters it\n",
        "examines. Describe a situation in which this could make a difference in the results of your\n",
        "programme.\n",
        "\n",
        "Ans. While counting the number of multiple lines or mulytiple sentence in a string the positive look ahead makes a difference, without which we wont get the correct count of lines or sentences in a string."
      ],
      "metadata": {
        "id": "lp3tZbiQXYoY"
      }
    },
    {
      "cell_type": "markdown",
      "source": [
        "Q6. In standard expressions, what is the difference between positive look-ahead and negative look-\n",
        "ahead?\n",
        "\n",
        "Ans. Positive look ahead is an assertion continuing the search and extending the string e.g.pattern= r'abc(?=[A-Z])''.Here after 'abc', ? is extending the search and says that in the remaining string, first identify the next \n",
        "charater should be capitalized character between A and Z, but doesnt consume it.\n",
        "Example of Positive lookahead\n",
        "\n",
        "Negative look head is also an assertion to exclude certain patterns e.g. pattern = r'abc(?!abc)', means \n",
        "identify a substring containing \n",
        "'abc' which is not followed by another 'abc'\n",
        "Example of Negative lookahead\n",
        "import re"
      ],
      "metadata": {
        "id": "n85vlsLwXjvW"
      }
    },
    {
      "cell_type": "code",
      "source": [
        "\n",
        "import re\n",
        "pat=r'abc(?=[A-Z])'\n",
        "text=\"abcABCEF\"\n",
        "regobj=re.compile(pat)\n",
        "matobj=regobj.findall(text)\n",
        "print(\"Positive lookahead:\",matobj)\n",
        "\n",
        "import re\n",
        "pat1=r'abc(?!abc)'\n",
        "text1=\"aeiouabcabc\"\n",
        "regobj1=re.compile(pat1)\n",
        "matobj1=regobj1.findall(text)\n",
        "print(\"Negative look ahead:\",matobj1) "
      ],
      "metadata": {
        "colab": {
          "base_uri": "https://localhost:8080/"
        },
        "id": "FCKQ326wXWgw",
        "outputId": "727512f0-7080-4c40-fd89-5bc0cd2fd112"
      },
      "execution_count": 4,
      "outputs": [
        {
          "output_type": "stream",
          "name": "stdout",
          "text": [
            "Positive lookahead: ['abc']\n",
            "Negative look ahead: ['abc']\n"
          ]
        }
      ]
    },
    {
      "cell_type": "markdown",
      "source": [
        "Q7. What is the benefit of referring to groups by name rather than by number in a standard\n",
        "expression?\n",
        "\n",
        "Ans.  Ans : The benifit of referring to the groups by name is that\n",
        "\n",
        "1)The code is clear\n",
        "\n",
        "2)It is easier to maimtain the code."
      ],
      "metadata": {
        "id": "pHhL3fyYYG22"
      }
    },
    {
      "cell_type": "markdown",
      "source": [
        "Q8. Can you identify repeated items within a target string using named groups, as in \"The cow\n",
        "jumped over the moon\"?\n",
        "\n",
        "Ans. "
      ],
      "metadata": {
        "id": "WFYPln9nYBEy"
      }
    },
    {
      "cell_type": "code",
      "source": [
        "# Ans : \n",
        "import re\n",
        "text = \"The cow jumped over the moon\"\n",
        "regobj=re.compile(r'(?P<w1>The)',re.I)\n",
        "regobj.findall(text)"
      ],
      "metadata": {
        "colab": {
          "base_uri": "https://localhost:8080/"
        },
        "id": "Fc2AkB2cYaI2",
        "outputId": "9c52de5d-617c-45e7-a3e4-db3b0ba3efd2"
      },
      "execution_count": 5,
      "outputs": [
        {
          "output_type": "execute_result",
          "data": {
            "text/plain": [
              "['The', 'the']"
            ]
          },
          "metadata": {},
          "execution_count": 5
        }
      ]
    },
    {
      "cell_type": "markdown",
      "source": [
        "Q9. When parsing a string, what is at least one thing that the Scanner interface does for you that the\n",
        "re.findall feature does not?\n",
        "\n",
        "Ans : re.search() method either returns None (if the pattern doesn’t match), or a re.MatchObject that contains\n",
        "information about the matching part of the string. This method stops after the first match, so this is best suited for testing a regular expression more than extracting data,whereas\n",
        "Return all non-overlapping matches of pattern in string, as a list of strings. The string is scanned left to right, and matches are returned in the order found."
      ],
      "metadata": {
        "id": "tfBwc3uAYfNm"
      }
    },
    {
      "cell_type": "markdown",
      "source": [
        "Q10. Does a scanner object have to be named scanner?\n",
        "\n",
        "Ans. The scanner object need not be named scanner. It may have any name."
      ],
      "metadata": {
        "id": "7UrMw8qVYs52"
      }
    }
  ]
}