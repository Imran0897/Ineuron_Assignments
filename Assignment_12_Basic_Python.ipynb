{
  "nbformat": 4,
  "nbformat_minor": 0,
  "metadata": {
    "colab": {
      "provenance": [],
      "authorship_tag": "ABX9TyP+WvtIjWWmYoQNnIBXdD/a",
      "include_colab_link": true
    },
    "kernelspec": {
      "name": "python3",
      "display_name": "Python 3"
    },
    "language_info": {
      "name": "python"
    }
  },
  "cells": [
    {
      "cell_type": "markdown",
      "metadata": {
        "id": "view-in-github",
        "colab_type": "text"
      },
      "source": [
        "<a href=\"https://colab.research.google.com/github/Imran0897/Ineuron_Assignments/blob/main/Assignment_12_Basic_Python.ipynb\" target=\"_parent\"><img src=\"https://colab.research.google.com/assets/colab-badge.svg\" alt=\"Open In Colab\"/></a>"
      ]
    },
    {
      "cell_type": "markdown",
      "source": [
        "1. In what modes should the PdfFileReader() and PdfFileWriter() File objects will be opened?\n",
        "\n",
        "Ans. Read-binary ('rb') for PdfFileReader() and write-binary ('wb') for PdfFileWriter()"
      ],
      "metadata": {
        "id": "sWTr3rVWyeLR"
      }
    },
    {
      "cell_type": "markdown",
      "source": [
        "2. From a PdfFileReader object, how do you get a Page object for page 5?\n",
        "\n",
        "Ans. Calling getPage(4) will return a Page object for page 5, since page 0 is the first page."
      ],
      "metadata": {
        "id": "xFcvLUmqypOn"
      }
    },
    {
      "cell_type": "markdown",
      "source": [
        "3. What PdfFileReader variable stores the number of pages in the PDF document?\n",
        "\n",
        "Ans. The numPages variable stores an integer of the number of pages in the PdfFileReader object."
      ],
      "metadata": {
        "id": "s5HvDcBjytZm"
      }
    },
    {
      "cell_type": "markdown",
      "source": [
        "4. If a PdfFileReader object’s PDF is encrypted with the password swordfish, what must you do\n",
        "before you can obtain Page objects from it?\n",
        "\n",
        "Ans. Call decrypt('swordfish')."
      ],
      "metadata": {
        "id": "k98Yg9Bwyyrm"
      }
    },
    {
      "cell_type": "markdown",
      "source": [
        "5. What methods do you use to rotate a page?\n",
        "\n",
        "Ans. The rotateClockwise() and rotateCounterClockwise() methods. The degrees to rotate is passed as an integer argument."
      ],
      "metadata": {
        "id": "rFFHHhSny4WG"
      }
    },
    {
      "cell_type": "markdown",
      "source": [
        "6. What is the difference between a Run object and a Paragraph object?\n",
        "\n",
        "Ans. A document contains multiple paragraphs. A paragraph begins on a new line and contains multiple runs. Runs are contiguous groups of characters within a paragraph."
      ],
      "metadata": {
        "id": "x6erh1pzy9gO"
      }
    },
    {
      "cell_type": "markdown",
      "source": [
        "7. How do you obtain a list of Paragraph objects for a Document object that’s stored in a variable\n",
        "named doc?\n",
        "\n",
        "Ans. Use doc.paragraphs."
      ],
      "metadata": {
        "id": "iu_HltTzzDOm"
      }
    },
    {
      "cell_type": "markdown",
      "source": [
        "8. What type of object has bold, underline, italic, strike, and outline variables?\n",
        "\n",
        "Ans. A Run object has these variables (not a Paragraph)."
      ],
      "metadata": {
        "id": "ysWUS298zHm2"
      }
    },
    {
      "cell_type": "markdown",
      "source": [
        "9. What is the difference between False, True, and None for the bold variable?\n",
        "\n",
        "Ans. True always makes the Run object bolded and False makes it always not bolded, no matter what the style’s bold setting is. None will make the Run object just use the style’s bold setting."
      ],
      "metadata": {
        "id": "pr4q7unyzMD-"
      }
    },
    {
      "cell_type": "markdown",
      "source": [
        "10. How do you create a Document object for a new Word document?\n",
        "\n",
        "Ans. Call the docx.Document() function."
      ],
      "metadata": {
        "id": "wEYfr8hmzQO_"
      }
    },
    {
      "cell_type": "markdown",
      "source": [
        "11. How do you add a paragraph with the text &#39;Hello, there!&#39; to a Document object stored in a\n",
        "variable named doc?\n",
        "\n",
        "Ans. doc.add_paragraph('Hello there!')"
      ],
      "metadata": {
        "id": "4Z0Dr15xzUp2"
      }
    },
    {
      "cell_type": "markdown",
      "source": [
        "12. What integers represent the levels of headings available in Word documents?\n",
        "\n",
        "Ans. The integers 0, 1, 2, 3, and 4"
      ],
      "metadata": {
        "id": "HSjyk4KAzZT_"
      }
    }
  ]
}